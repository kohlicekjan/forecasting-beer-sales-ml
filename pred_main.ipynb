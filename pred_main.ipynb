{
 "metadata": {
  "language_info": {
   "codemirror_mode": {
    "name": "ipython",
    "version": 3
   },
   "file_extension": ".py",
   "mimetype": "text/x-python",
   "name": "python",
   "nbconvert_exporter": "python",
   "pygments_lexer": "ipython3",
   "version": "3.9.1"
  },
  "orig_nbformat": 4,
  "kernelspec": {
   "name": "python3",
   "display_name": "Python 3.9.1 64-bit"
  },
  "interpreter": {
   "hash": "ac59ebe37160ed0dfa835113d9b8498d9f09ceb179beaac4002f036b9467c963"
  }
 },
 "nbformat": 4,
 "nbformat_minor": 2,
 "cells": [
  {
   "source": [
    "## Init"
   ],
   "cell_type": "markdown",
   "metadata": {}
  },
  {
   "cell_type": "code",
   "execution_count": 127,
   "metadata": {},
   "outputs": [],
   "source": [
    "import pandas as pd\n",
    "import numpy as np\n",
    "import os\n",
    "import datetime\n",
    "\n",
    "from sklearn.experimental import enable_hist_gradient_boosting, enable_iterative_imputer\n",
    "from sklearn import datasets, linear_model, ensemble, gaussian_process, isotonic, kernel_ridge, neighbors, neural_network, svm, tree\n",
    "from sklearn.metrics import mean_squared_error, r2_score, explained_variance_score, max_error, mean_absolute_percentage_error, mean_absolute_error\n",
    "from sklearn.model_selection import GridSearchCV, RandomizedSearchCV, KFold, StratifiedKFold,train_test_split\n",
    "from sklearn.cross_decomposition import PLSRegression\n",
    "from sklearn.compose import TransformedTargetRegressor, ColumnTransformer\n",
    "from sklearn.impute import SimpleImputer, IterativeImputer, KNNImputer\n",
    "from sklearn.preprocessing import MinMaxScaler, MaxAbsScaler, FunctionTransformer,  StandardScaler, LabelEncoder, LabelBinarizer, RobustScaler\n",
    "from sklearn.inspection import permutation_importance\n",
    "import joblib\n",
    "\n",
    "import lightgbm  \n",
    "import xgboost \n",
    "import catboost\n",
    "# from keras.wrappers.scikit_learn import KerasRegressor\n",
    "# from keras.models import Sequential\n",
    "# from keras.layers import Dense\n",
    "import optuna\n",
    "\n",
    "# visualization lib\n",
    "import matplotlib.pyplot as plt\n",
    "import seaborn as sns\n",
    "from rfpimp import permutation_importances, plot_importances, plot_corr_heatmap\n",
    "# import shap\n",
    "import eli5\n",
    "from eli5.sklearn import PermutationImportance\n",
    "\n",
    "from helper import absolute_score, show_pred, show_feature_importances, reduce_mem_usage"
   ]
  },
  {
   "cell_type": "code",
   "execution_count": 128,
   "metadata": {},
   "outputs": [],
   "source": [
    "DATASET_NAME = 'on-trade'\n",
    "\n",
    "DATA_PATH = f'./data/{DATASET_NAME}_pred_data.csv'\n",
    "\n",
    "MODEL_PATH = f'./models/{DATASET_NAME}_model.joblib'\n",
    "SCALER_PATH = f'./models/{DATASET_NAME}_scaler.joblib'\n",
    "IMPUTER_PATH = f'./models/{DATASET_NAME}_imputer.joblib'\n",
    "SKU_ENCODER_PATH = f'./models/{DATASET_NAME}_sku_encoder.joblib'\n",
    "BRAND_ENCODER_PATH = f'./models/{DATASET_NAME}_brand_encoder.joblib'\n",
    "\n",
    "RESULT_CSV_PATH = f'./pred_results/{DATASET_NAME}_pred_result.csv'\n",
    "RESULT_EXCEL_PATH = f'./pred_results/{DATASET_NAME}_pred_result.xlsx'\n",
    "\n",
    "MAX_N_JOBS = 8"
   ]
  },
  {
   "source": [
    "## Load Model"
   ],
   "cell_type": "markdown",
   "metadata": {}
  },
  {
   "cell_type": "code",
   "execution_count": 129,
   "metadata": {},
   "outputs": [],
   "source": [
    "model = joblib.load(MODEL_PATH)\n",
    "scaler = joblib.load(SCALER_PATH)\n",
    "imputer = joblib.load(IMPUTER_PATH)\n",
    "sku_encoder = joblib.load(SKU_ENCODER_PATH)\n",
    "brand_encoder = joblib.load(BRAND_ENCODER_PATH)"
   ]
  },
  {
   "source": [
    "## Load data"
   ],
   "cell_type": "markdown",
   "metadata": {}
  },
  {
   "cell_type": "code",
   "execution_count": 130,
   "metadata": {},
   "outputs": [
    {
     "output_type": "stream",
     "name": "stdout",
     "text": [
      "<class 'pandas.core.frame.DataFrame'>\nRangeIndex: 626 entries, 0 to 625\nData columns (total 4 columns):\n #   Column          Non-Null Count  Dtype \n---  ------          --------------  ----- \n 0   Country         626 non-null    object\n 1   Year            626 non-null    int64 \n 2   Week            626 non-null    int64 \n 3   NumberWorkdays  626 non-null    int64 \ndtypes: int64(3), object(1)\nmemory usage: 19.7+ KB\n"
     ]
    }
   ],
   "source": [
    "workdays = pd.read_csv(f'./data/workdays.csv', header=0, decimal=\",\")\n",
    "\n",
    "workdays = workdays.rename(columns={\"Workdays\": \"NumberWorkdays\"})\n",
    "workdays.info()"
   ]
  },
  {
   "cell_type": "code",
   "execution_count": 131,
   "metadata": {},
   "outputs": [
    {
     "output_type": "execute_result",
     "data": {
      "text/plain": [
       "  SkuShort            Brand Country  Year  Week  NumberWorkdays    AvgTemp  \\\n",
       "0    01000  PILSNER URQUELL      CZ  2021    24               5  22.291209   \n",
       "1    01000  PILSNER URQUELL      SK  2021    24               5  22.291209   \n",
       "2    01001  PILSNER URQUELL      CZ  2021    24               5  22.291209   \n",
       "3    01001  PILSNER URQUELL      SK  2021    24               5  22.291209   \n",
       "4    01002  PILSNER URQUELL      CZ  2021    24               5  22.291209   \n",
       "\n",
       "    AvgRain     AvgSun  IsLockdown  PdtHl  PrevWeekPdtHl1        BgtHl  \\\n",
       "0  0.065934  13.250549       False    NaN             NaN  2518.869566   \n",
       "1  0.065934  13.250549       False    NaN             NaN   364.019287   \n",
       "2  0.065934  13.250549       False    NaN             NaN          NaN   \n",
       "3  0.065934  13.250549       False    NaN             NaN          NaN   \n",
       "4  0.065934  13.250549       False    NaN             NaN   688.314709   \n",
       "\n",
       "   SalesHl  PrevWeekSalesHl1  PrevWeekSalesHl2  PrevYearSalesHl1  \\\n",
       "0  2992.18           2802.21         2679.2198         2437.1216   \n",
       "1   520.00            495.00          455.0000          435.0000   \n",
       "2     0.30              0.10               NaN               NaN   \n",
       "3      NaN               NaN               NaN               NaN   \n",
       "4  1212.00           1301.55         1306.5000          887.2500   \n",
       "\n",
       "   PrevYearSalesHl2  OldPredSalesHl  \n",
       "0         3275.2201       2878.1678  \n",
       "1          475.0000        369.6183  \n",
       "2               NaN          1.3500  \n",
       "3               NaN          1.0000  \n",
       "4          808.5000       1058.6487  "
      ],
      "text/html": "<div>\n<style scoped>\n    .dataframe tbody tr th:only-of-type {\n        vertical-align: middle;\n    }\n\n    .dataframe tbody tr th {\n        vertical-align: top;\n    }\n\n    .dataframe thead th {\n        text-align: right;\n    }\n</style>\n<table border=\"1\" class=\"dataframe\">\n  <thead>\n    <tr style=\"text-align: right;\">\n      <th></th>\n      <th>SkuShort</th>\n      <th>Brand</th>\n      <th>Country</th>\n      <th>Year</th>\n      <th>Week</th>\n      <th>NumberWorkdays</th>\n      <th>AvgTemp</th>\n      <th>AvgRain</th>\n      <th>AvgSun</th>\n      <th>IsLockdown</th>\n      <th>PdtHl</th>\n      <th>PrevWeekPdtHl1</th>\n      <th>BgtHl</th>\n      <th>SalesHl</th>\n      <th>PrevWeekSalesHl1</th>\n      <th>PrevWeekSalesHl2</th>\n      <th>PrevYearSalesHl1</th>\n      <th>PrevYearSalesHl2</th>\n      <th>OldPredSalesHl</th>\n    </tr>\n  </thead>\n  <tbody>\n    <tr>\n      <th>0</th>\n      <td>01000</td>\n      <td>PILSNER URQUELL</td>\n      <td>CZ</td>\n      <td>2021</td>\n      <td>24</td>\n      <td>5</td>\n      <td>22.291209</td>\n      <td>0.065934</td>\n      <td>13.250549</td>\n      <td>False</td>\n      <td>NaN</td>\n      <td>NaN</td>\n      <td>2518.869566</td>\n      <td>2992.18</td>\n      <td>2802.21</td>\n      <td>2679.2198</td>\n      <td>2437.1216</td>\n      <td>3275.2201</td>\n      <td>2878.1678</td>\n    </tr>\n    <tr>\n      <th>1</th>\n      <td>01000</td>\n      <td>PILSNER URQUELL</td>\n      <td>SK</td>\n      <td>2021</td>\n      <td>24</td>\n      <td>5</td>\n      <td>22.291209</td>\n      <td>0.065934</td>\n      <td>13.250549</td>\n      <td>False</td>\n      <td>NaN</td>\n      <td>NaN</td>\n      <td>364.019287</td>\n      <td>520.00</td>\n      <td>495.00</td>\n      <td>455.0000</td>\n      <td>435.0000</td>\n      <td>475.0000</td>\n      <td>369.6183</td>\n    </tr>\n    <tr>\n      <th>2</th>\n      <td>01001</td>\n      <td>PILSNER URQUELL</td>\n      <td>CZ</td>\n      <td>2021</td>\n      <td>24</td>\n      <td>5</td>\n      <td>22.291209</td>\n      <td>0.065934</td>\n      <td>13.250549</td>\n      <td>False</td>\n      <td>NaN</td>\n      <td>NaN</td>\n      <td>NaN</td>\n      <td>0.30</td>\n      <td>0.10</td>\n      <td>NaN</td>\n      <td>NaN</td>\n      <td>NaN</td>\n      <td>1.3500</td>\n    </tr>\n    <tr>\n      <th>3</th>\n      <td>01001</td>\n      <td>PILSNER URQUELL</td>\n      <td>SK</td>\n      <td>2021</td>\n      <td>24</td>\n      <td>5</td>\n      <td>22.291209</td>\n      <td>0.065934</td>\n      <td>13.250549</td>\n      <td>False</td>\n      <td>NaN</td>\n      <td>NaN</td>\n      <td>NaN</td>\n      <td>NaN</td>\n      <td>NaN</td>\n      <td>NaN</td>\n      <td>NaN</td>\n      <td>NaN</td>\n      <td>1.0000</td>\n    </tr>\n    <tr>\n      <th>4</th>\n      <td>01002</td>\n      <td>PILSNER URQUELL</td>\n      <td>CZ</td>\n      <td>2021</td>\n      <td>24</td>\n      <td>5</td>\n      <td>22.291209</td>\n      <td>0.065934</td>\n      <td>13.250549</td>\n      <td>False</td>\n      <td>NaN</td>\n      <td>NaN</td>\n      <td>688.314709</td>\n      <td>1212.00</td>\n      <td>1301.55</td>\n      <td>1306.5000</td>\n      <td>887.2500</td>\n      <td>808.5000</td>\n      <td>1058.6487</td>\n    </tr>\n  </tbody>\n</table>\n</div>"
     },
     "metadata": {},
     "execution_count": 131
    }
   ],
   "source": [
    "data_dtype = {'SkuShort':'str', 'Brand':'str', 'Country':'str', 'IsLockdown':'bool'} \n",
    "data = pd.read_csv(DATA_PATH, header=0, decimal=\",\", dtype=data_dtype)\n",
    "\n",
    "data = data.sort_values(by=['Year', 'Week', 'SkuShort', 'Country']).reset_index().drop(columns=['index'])\n",
    "\n",
    "data.head()"
   ]
  },
  {
   "cell_type": "code",
   "execution_count": 132,
   "metadata": {},
   "outputs": [
    {
     "output_type": "stream",
     "name": "stdout",
     "text": [
      "Mem. usage decreased to  0.01 Mb (50.6% reduction)\n"
     ]
    }
   ],
   "source": [
    "data = helper.reduce_mem_usage(data, ignoreCols=['SalesHl'])"
   ]
  },
  {
   "source": [
    "## Preprocessing"
   ],
   "cell_type": "markdown",
   "metadata": {}
  },
  {
   "cell_type": "code",
   "execution_count": 133,
   "metadata": {},
   "outputs": [],
   "source": [
    "#!!!!!!!!!!!!!!!!!!! WARNING !!!!!!!!!!!!!!!!!!!!!!!!!!!!!!!!!\n",
    "\n",
    "data.PrevWeekSalesHl1 = data.PrevWeekSalesHl2\n",
    "# data.PrevWeekSalesHl2 = data.PrevWeekSalesHl2"
   ]
  },
  {
   "cell_type": "code",
   "execution_count": 134,
   "metadata": {},
   "outputs": [],
   "source": [
    "cols_drop = ['SalesHl', 'OldPredSalesHl']\n",
    "X = data.drop(cols_drop, axis=1)\n",
    "X_raw = X.copy(deep=True)\n",
    "y = data.SalesHl.fillna(0).to_numpy()"
   ]
  },
  {
   "cell_type": "code",
   "execution_count": 135,
   "metadata": {},
   "outputs": [
    {
     "output_type": "execute_result",
     "data": {
      "text/plain": [
       "    SkuShort            Brand Country  Year  Week  NumberWorkdays    AvgTemp  \\\n",
       "0      01000  PILSNER URQUELL      CZ  2021    24               5  22.296875   \n",
       "1      01000  PILSNER URQUELL      SK  2021    24               5  22.296875   \n",
       "2      01001  PILSNER URQUELL      CZ  2021    24               5  22.296875   \n",
       "3      01001  PILSNER URQUELL      SK  2021    24               5  22.296875   \n",
       "4      01002  PILSNER URQUELL      CZ  2021    24               5  22.296875   \n",
       "..       ...              ...     ...   ...   ...             ...        ...   \n",
       "96     15202        KINGSWOOD      CZ  2021    24               5  22.296875   \n",
       "97     17501            VIPER      CZ  2021    24               5  22.296875   \n",
       "98     20105            SWIST      CZ  2021    24               5  22.296875   \n",
       "99     20205            SWIST      CZ  2021    24               5  22.296875   \n",
       "100    21005            SWIST      SK  2021    24               5  22.296875   \n",
       "\n",
       "      AvgRain  AvgSun  IsLockdown  PdtHl  PrevWeekPdtHl1        BgtHl  \\\n",
       "0    0.065918   13.25       False    NaN             NaN  2518.000000   \n",
       "1    0.065918   13.25       False    NaN             NaN   364.000000   \n",
       "2    0.065918   13.25       False    NaN             NaN          NaN   \n",
       "3    0.065918   13.25       False    NaN             NaN          NaN   \n",
       "4    0.065918   13.25       False    NaN             NaN   688.500000   \n",
       "..        ...     ...         ...    ...             ...          ...   \n",
       "96   0.065918   13.25       False    NaN             NaN     4.195312   \n",
       "97   0.065918   13.25       False    NaN             NaN          NaN   \n",
       "98   0.065918   13.25       False    NaN             NaN   204.250000   \n",
       "99   0.065918   13.25       False    NaN             NaN   669.500000   \n",
       "100  0.065918   13.25       False    NaN             NaN   468.750000   \n",
       "\n",
       "     PrevWeekSalesHl1  PrevWeekSalesHl2  PrevYearSalesHl1  PrevYearSalesHl2  \\\n",
       "0              2680.0            2680.0            2438.0       3276.000000   \n",
       "1               455.0             455.0             435.0        475.000000   \n",
       "2                 NaN               NaN               NaN               NaN   \n",
       "3                 NaN               NaN               NaN               NaN   \n",
       "4              1306.0            1306.0             887.0        808.500000   \n",
       "..                ...               ...               ...               ...   \n",
       "96                NaN               NaN               NaN         18.359375   \n",
       "97                NaN               NaN               NaN               NaN   \n",
       "98              134.0             134.0             138.0        259.500000   \n",
       "99              375.0             375.0             320.5        835.000000   \n",
       "100             268.0             268.0             350.0        690.000000   \n",
       "\n",
       "     NumberWorkdaysNext  NumberWorkdaysPrev  \n",
       "0                     5                   5  \n",
       "1                     5                   5  \n",
       "2                     5                   5  \n",
       "3                     5                   5  \n",
       "4                     5                   5  \n",
       "..                  ...                 ...  \n",
       "96                    5                   5  \n",
       "97                    5                   5  \n",
       "98                    5                   5  \n",
       "99                    5                   5  \n",
       "100                   5                   5  \n",
       "\n",
       "[101 rows x 19 columns]"
      ],
      "text/html": "<div>\n<style scoped>\n    .dataframe tbody tr th:only-of-type {\n        vertical-align: middle;\n    }\n\n    .dataframe tbody tr th {\n        vertical-align: top;\n    }\n\n    .dataframe thead th {\n        text-align: right;\n    }\n</style>\n<table border=\"1\" class=\"dataframe\">\n  <thead>\n    <tr style=\"text-align: right;\">\n      <th></th>\n      <th>SkuShort</th>\n      <th>Brand</th>\n      <th>Country</th>\n      <th>Year</th>\n      <th>Week</th>\n      <th>NumberWorkdays</th>\n      <th>AvgTemp</th>\n      <th>AvgRain</th>\n      <th>AvgSun</th>\n      <th>IsLockdown</th>\n      <th>PdtHl</th>\n      <th>PrevWeekPdtHl1</th>\n      <th>BgtHl</th>\n      <th>PrevWeekSalesHl1</th>\n      <th>PrevWeekSalesHl2</th>\n      <th>PrevYearSalesHl1</th>\n      <th>PrevYearSalesHl2</th>\n      <th>NumberWorkdaysNext</th>\n      <th>NumberWorkdaysPrev</th>\n    </tr>\n  </thead>\n  <tbody>\n    <tr>\n      <th>0</th>\n      <td>01000</td>\n      <td>PILSNER URQUELL</td>\n      <td>CZ</td>\n      <td>2021</td>\n      <td>24</td>\n      <td>5</td>\n      <td>22.296875</td>\n      <td>0.065918</td>\n      <td>13.25</td>\n      <td>False</td>\n      <td>NaN</td>\n      <td>NaN</td>\n      <td>2518.000000</td>\n      <td>2680.0</td>\n      <td>2680.0</td>\n      <td>2438.0</td>\n      <td>3276.000000</td>\n      <td>5</td>\n      <td>5</td>\n    </tr>\n    <tr>\n      <th>1</th>\n      <td>01000</td>\n      <td>PILSNER URQUELL</td>\n      <td>SK</td>\n      <td>2021</td>\n      <td>24</td>\n      <td>5</td>\n      <td>22.296875</td>\n      <td>0.065918</td>\n      <td>13.25</td>\n      <td>False</td>\n      <td>NaN</td>\n      <td>NaN</td>\n      <td>364.000000</td>\n      <td>455.0</td>\n      <td>455.0</td>\n      <td>435.0</td>\n      <td>475.000000</td>\n      <td>5</td>\n      <td>5</td>\n    </tr>\n    <tr>\n      <th>2</th>\n      <td>01001</td>\n      <td>PILSNER URQUELL</td>\n      <td>CZ</td>\n      <td>2021</td>\n      <td>24</td>\n      <td>5</td>\n      <td>22.296875</td>\n      <td>0.065918</td>\n      <td>13.25</td>\n      <td>False</td>\n      <td>NaN</td>\n      <td>NaN</td>\n      <td>NaN</td>\n      <td>NaN</td>\n      <td>NaN</td>\n      <td>NaN</td>\n      <td>NaN</td>\n      <td>5</td>\n      <td>5</td>\n    </tr>\n    <tr>\n      <th>3</th>\n      <td>01001</td>\n      <td>PILSNER URQUELL</td>\n      <td>SK</td>\n      <td>2021</td>\n      <td>24</td>\n      <td>5</td>\n      <td>22.296875</td>\n      <td>0.065918</td>\n      <td>13.25</td>\n      <td>False</td>\n      <td>NaN</td>\n      <td>NaN</td>\n      <td>NaN</td>\n      <td>NaN</td>\n      <td>NaN</td>\n      <td>NaN</td>\n      <td>NaN</td>\n      <td>5</td>\n      <td>5</td>\n    </tr>\n    <tr>\n      <th>4</th>\n      <td>01002</td>\n      <td>PILSNER URQUELL</td>\n      <td>CZ</td>\n      <td>2021</td>\n      <td>24</td>\n      <td>5</td>\n      <td>22.296875</td>\n      <td>0.065918</td>\n      <td>13.25</td>\n      <td>False</td>\n      <td>NaN</td>\n      <td>NaN</td>\n      <td>688.500000</td>\n      <td>1306.0</td>\n      <td>1306.0</td>\n      <td>887.0</td>\n      <td>808.500000</td>\n      <td>5</td>\n      <td>5</td>\n    </tr>\n    <tr>\n      <th>...</th>\n      <td>...</td>\n      <td>...</td>\n      <td>...</td>\n      <td>...</td>\n      <td>...</td>\n      <td>...</td>\n      <td>...</td>\n      <td>...</td>\n      <td>...</td>\n      <td>...</td>\n      <td>...</td>\n      <td>...</td>\n      <td>...</td>\n      <td>...</td>\n      <td>...</td>\n      <td>...</td>\n      <td>...</td>\n      <td>...</td>\n      <td>...</td>\n    </tr>\n    <tr>\n      <th>96</th>\n      <td>15202</td>\n      <td>KINGSWOOD</td>\n      <td>CZ</td>\n      <td>2021</td>\n      <td>24</td>\n      <td>5</td>\n      <td>22.296875</td>\n      <td>0.065918</td>\n      <td>13.25</td>\n      <td>False</td>\n      <td>NaN</td>\n      <td>NaN</td>\n      <td>4.195312</td>\n      <td>NaN</td>\n      <td>NaN</td>\n      <td>NaN</td>\n      <td>18.359375</td>\n      <td>5</td>\n      <td>5</td>\n    </tr>\n    <tr>\n      <th>97</th>\n      <td>17501</td>\n      <td>VIPER</td>\n      <td>CZ</td>\n      <td>2021</td>\n      <td>24</td>\n      <td>5</td>\n      <td>22.296875</td>\n      <td>0.065918</td>\n      <td>13.25</td>\n      <td>False</td>\n      <td>NaN</td>\n      <td>NaN</td>\n      <td>NaN</td>\n      <td>NaN</td>\n      <td>NaN</td>\n      <td>NaN</td>\n      <td>NaN</td>\n      <td>5</td>\n      <td>5</td>\n    </tr>\n    <tr>\n      <th>98</th>\n      <td>20105</td>\n      <td>SWIST</td>\n      <td>CZ</td>\n      <td>2021</td>\n      <td>24</td>\n      <td>5</td>\n      <td>22.296875</td>\n      <td>0.065918</td>\n      <td>13.25</td>\n      <td>False</td>\n      <td>NaN</td>\n      <td>NaN</td>\n      <td>204.250000</td>\n      <td>134.0</td>\n      <td>134.0</td>\n      <td>138.0</td>\n      <td>259.500000</td>\n      <td>5</td>\n      <td>5</td>\n    </tr>\n    <tr>\n      <th>99</th>\n      <td>20205</td>\n      <td>SWIST</td>\n      <td>CZ</td>\n      <td>2021</td>\n      <td>24</td>\n      <td>5</td>\n      <td>22.296875</td>\n      <td>0.065918</td>\n      <td>13.25</td>\n      <td>False</td>\n      <td>NaN</td>\n      <td>NaN</td>\n      <td>669.500000</td>\n      <td>375.0</td>\n      <td>375.0</td>\n      <td>320.5</td>\n      <td>835.000000</td>\n      <td>5</td>\n      <td>5</td>\n    </tr>\n    <tr>\n      <th>100</th>\n      <td>21005</td>\n      <td>SWIST</td>\n      <td>SK</td>\n      <td>2021</td>\n      <td>24</td>\n      <td>5</td>\n      <td>22.296875</td>\n      <td>0.065918</td>\n      <td>13.25</td>\n      <td>False</td>\n      <td>NaN</td>\n      <td>NaN</td>\n      <td>468.750000</td>\n      <td>268.0</td>\n      <td>268.0</td>\n      <td>350.0</td>\n      <td>690.000000</td>\n      <td>5</td>\n      <td>5</td>\n    </tr>\n  </tbody>\n</table>\n<p>101 rows × 19 columns</p>\n</div>"
     },
     "metadata": {},
     "execution_count": 135
    }
   ],
   "source": [
    "X['NextWeek'] = X['Week']+1\n",
    "X['PrevWeek'] = X['Week']-1\n",
    "\n",
    "X = X.merge(workdays, how='left', left_on=['Country','Year','NextWeek'], right_on=['Country','Year','Week'], suffixes=(None, \"Next\"))\n",
    "X = X.merge(workdays, how='left', left_on=['Country','Year','PrevWeek'], right_on=['Country','Year','Week'], suffixes=(None, \"Prev\"))\n",
    "\n",
    "X = X.drop(['PrevWeek', 'WeekPrev', 'NextWeek',  'WeekNext'], axis=1)\n",
    "X['NumberWorkdaysPrev'] = X['NumberWorkdaysPrev'].fillna(5)\n",
    "X['NumberWorkdaysNext'] = X['NumberWorkdaysNext'].fillna(5)\n",
    "X"
   ]
  },
  {
   "cell_type": "code",
   "execution_count": 136,
   "metadata": {},
   "outputs": [
    {
     "output_type": "execute_result",
     "data": {
      "text/plain": [
       "   SkuShort  Brand  Country  Year  Week  NumberWorkdays    AvgTemp   AvgRain  \\\n",
       "0         0     10        1  2021    24               5  22.296875  0.065918   \n",
       "1         0     10        2  2021    24               5  22.296875  0.065918   \n",
       "2         1     10        1  2021    24               5  22.296875  0.065918   \n",
       "3         1     10        2  2021    24               5  22.296875  0.065918   \n",
       "4         2     10        1  2021    24               5  22.296875  0.065918   \n",
       "\n",
       "   AvgSun  IsLockdown  PdtHl  PrevWeekPdtHl1   BgtHl  PrevWeekSalesHl1  \\\n",
       "0   13.25       False    NaN             NaN  2518.0            2680.0   \n",
       "1   13.25       False    NaN             NaN   364.0             455.0   \n",
       "2   13.25       False    NaN             NaN     NaN               NaN   \n",
       "3   13.25       False    NaN             NaN     NaN               NaN   \n",
       "4   13.25       False    NaN             NaN   688.5            1306.0   \n",
       "\n",
       "   PrevWeekSalesHl2  PrevYearSalesHl1  PrevYearSalesHl2  NumberWorkdaysNext  \\\n",
       "0            2680.0            2438.0            3276.0                   5   \n",
       "1             455.0             435.0             475.0                   5   \n",
       "2               NaN               NaN               NaN                   5   \n",
       "3               NaN               NaN               NaN                   5   \n",
       "4            1306.0             887.0             808.5                   5   \n",
       "\n",
       "   NumberWorkdaysPrev  \n",
       "0                   5  \n",
       "1                   5  \n",
       "2                   5  \n",
       "3                   5  \n",
       "4                   5  "
      ],
      "text/html": "<div>\n<style scoped>\n    .dataframe tbody tr th:only-of-type {\n        vertical-align: middle;\n    }\n\n    .dataframe tbody tr th {\n        vertical-align: top;\n    }\n\n    .dataframe thead th {\n        text-align: right;\n    }\n</style>\n<table border=\"1\" class=\"dataframe\">\n  <thead>\n    <tr style=\"text-align: right;\">\n      <th></th>\n      <th>SkuShort</th>\n      <th>Brand</th>\n      <th>Country</th>\n      <th>Year</th>\n      <th>Week</th>\n      <th>NumberWorkdays</th>\n      <th>AvgTemp</th>\n      <th>AvgRain</th>\n      <th>AvgSun</th>\n      <th>IsLockdown</th>\n      <th>PdtHl</th>\n      <th>PrevWeekPdtHl1</th>\n      <th>BgtHl</th>\n      <th>PrevWeekSalesHl1</th>\n      <th>PrevWeekSalesHl2</th>\n      <th>PrevYearSalesHl1</th>\n      <th>PrevYearSalesHl2</th>\n      <th>NumberWorkdaysNext</th>\n      <th>NumberWorkdaysPrev</th>\n    </tr>\n  </thead>\n  <tbody>\n    <tr>\n      <th>0</th>\n      <td>0</td>\n      <td>10</td>\n      <td>1</td>\n      <td>2021</td>\n      <td>24</td>\n      <td>5</td>\n      <td>22.296875</td>\n      <td>0.065918</td>\n      <td>13.25</td>\n      <td>False</td>\n      <td>NaN</td>\n      <td>NaN</td>\n      <td>2518.0</td>\n      <td>2680.0</td>\n      <td>2680.0</td>\n      <td>2438.0</td>\n      <td>3276.0</td>\n      <td>5</td>\n      <td>5</td>\n    </tr>\n    <tr>\n      <th>1</th>\n      <td>0</td>\n      <td>10</td>\n      <td>2</td>\n      <td>2021</td>\n      <td>24</td>\n      <td>5</td>\n      <td>22.296875</td>\n      <td>0.065918</td>\n      <td>13.25</td>\n      <td>False</td>\n      <td>NaN</td>\n      <td>NaN</td>\n      <td>364.0</td>\n      <td>455.0</td>\n      <td>455.0</td>\n      <td>435.0</td>\n      <td>475.0</td>\n      <td>5</td>\n      <td>5</td>\n    </tr>\n    <tr>\n      <th>2</th>\n      <td>1</td>\n      <td>10</td>\n      <td>1</td>\n      <td>2021</td>\n      <td>24</td>\n      <td>5</td>\n      <td>22.296875</td>\n      <td>0.065918</td>\n      <td>13.25</td>\n      <td>False</td>\n      <td>NaN</td>\n      <td>NaN</td>\n      <td>NaN</td>\n      <td>NaN</td>\n      <td>NaN</td>\n      <td>NaN</td>\n      <td>NaN</td>\n      <td>5</td>\n      <td>5</td>\n    </tr>\n    <tr>\n      <th>3</th>\n      <td>1</td>\n      <td>10</td>\n      <td>2</td>\n      <td>2021</td>\n      <td>24</td>\n      <td>5</td>\n      <td>22.296875</td>\n      <td>0.065918</td>\n      <td>13.25</td>\n      <td>False</td>\n      <td>NaN</td>\n      <td>NaN</td>\n      <td>NaN</td>\n      <td>NaN</td>\n      <td>NaN</td>\n      <td>NaN</td>\n      <td>NaN</td>\n      <td>5</td>\n      <td>5</td>\n    </tr>\n    <tr>\n      <th>4</th>\n      <td>2</td>\n      <td>10</td>\n      <td>1</td>\n      <td>2021</td>\n      <td>24</td>\n      <td>5</td>\n      <td>22.296875</td>\n      <td>0.065918</td>\n      <td>13.25</td>\n      <td>False</td>\n      <td>NaN</td>\n      <td>NaN</td>\n      <td>688.5</td>\n      <td>1306.0</td>\n      <td>1306.0</td>\n      <td>887.0</td>\n      <td>808.5</td>\n      <td>5</td>\n      <td>5</td>\n    </tr>\n  </tbody>\n</table>\n</div>"
     },
     "metadata": {},
     "execution_count": 136
    }
   ],
   "source": [
    "Country_mapping = {\"CZ\": 1, \"SK\": 2}\n",
    "\n",
    "X.Country = X.Country.map(Country_mapping)\n",
    "\n",
    "X.SkuShort = sku_encoder.transform(X.SkuShort)\n",
    "X.Brand = brand_encoder.transform(X.Brand)\n",
    "\n",
    "X.head()"
   ]
  },
  {
   "cell_type": "code",
   "execution_count": 137,
   "metadata": {},
   "outputs": [],
   "source": [
    "X.BgtHl = X.BgtHl.fillna(0)\n",
    "X.PdtHl = X.PdtHl.fillna(0)\n",
    "X.PrevWeekPdtHl1 = X.PrevWeekPdtHl1.fillna(0)"
   ]
  },
  {
   "cell_type": "code",
   "execution_count": 138,
   "metadata": {},
   "outputs": [
    {
     "output_type": "execute_result",
     "data": {
      "text/plain": [
       "     SkuShort  Brand  Country    Year  Week  NumberWorkdays    AvgTemp  \\\n",
       "0         0.0   10.0      1.0  2021.0  24.0             5.0  22.296875   \n",
       "1         0.0   10.0      2.0  2021.0  24.0             5.0  22.296875   \n",
       "2         1.0   10.0      1.0  2021.0  24.0             5.0  22.296875   \n",
       "3         1.0   10.0      2.0  2021.0  24.0             5.0  22.296875   \n",
       "4         2.0   10.0      1.0  2021.0  24.0             5.0  22.296875   \n",
       "..        ...    ...      ...     ...   ...             ...        ...   \n",
       "96      117.0    6.0      1.0  2021.0  24.0             5.0  22.296875   \n",
       "97      120.0   16.0      1.0  2021.0  24.0             5.0  22.296875   \n",
       "98      121.0   14.0      1.0  2021.0  24.0             5.0  22.296875   \n",
       "99      122.0   14.0      1.0  2021.0  24.0             5.0  22.296875   \n",
       "100     124.0   14.0      2.0  2021.0  24.0             5.0  22.296875   \n",
       "\n",
       "      AvgRain  AvgSun  IsLockdown  PdtHl  PrevWeekPdtHl1        BgtHl  \\\n",
       "0    0.065918   13.25         0.0    0.0             0.0  2518.000000   \n",
       "1    0.065918   13.25         0.0    0.0             0.0   364.000000   \n",
       "2    0.065918   13.25         0.0    0.0             0.0     0.000000   \n",
       "3    0.065918   13.25         0.0    0.0             0.0     0.000000   \n",
       "4    0.065918   13.25         0.0    0.0             0.0   688.500000   \n",
       "..        ...     ...         ...    ...             ...          ...   \n",
       "96   0.065918   13.25         0.0    0.0             0.0     4.195312   \n",
       "97   0.065918   13.25         0.0    0.0             0.0     0.000000   \n",
       "98   0.065918   13.25         0.0    0.0             0.0   204.250000   \n",
       "99   0.065918   13.25         0.0    0.0             0.0   669.500000   \n",
       "100  0.065918   13.25         0.0    0.0             0.0   468.750000   \n",
       "\n",
       "     PrevWeekSalesHl1  PrevWeekSalesHl2  PrevYearSalesHl1  PrevYearSalesHl2  \\\n",
       "0         2680.000000       2680.000000       2438.000000       3276.000000   \n",
       "1          455.000000        455.000000        435.000000        475.000000   \n",
       "2          649.619645        650.752694        709.045507        749.326224   \n",
       "3          649.619645        650.752694        709.045507        749.326224   \n",
       "4         1306.000000       1306.000000        887.000000        808.500000   \n",
       "..                ...               ...               ...               ...   \n",
       "96         649.619645        650.752694        709.045507         18.359375   \n",
       "97         649.619645        650.752694        709.045507        749.326224   \n",
       "98         134.000000        134.000000        138.000000        259.500000   \n",
       "99         375.000000        375.000000        320.500000        835.000000   \n",
       "100        268.000000        268.000000        350.000000        690.000000   \n",
       "\n",
       "     NumberWorkdaysNext  NumberWorkdaysPrev  \n",
       "0                   5.0                 5.0  \n",
       "1                   5.0                 5.0  \n",
       "2                   5.0                 5.0  \n",
       "3                   5.0                 5.0  \n",
       "4                   5.0                 5.0  \n",
       "..                  ...                 ...  \n",
       "96                  5.0                 5.0  \n",
       "97                  5.0                 5.0  \n",
       "98                  5.0                 5.0  \n",
       "99                  5.0                 5.0  \n",
       "100                 5.0                 5.0  \n",
       "\n",
       "[101 rows x 19 columns]"
      ],
      "text/html": "<div>\n<style scoped>\n    .dataframe tbody tr th:only-of-type {\n        vertical-align: middle;\n    }\n\n    .dataframe tbody tr th {\n        vertical-align: top;\n    }\n\n    .dataframe thead th {\n        text-align: right;\n    }\n</style>\n<table border=\"1\" class=\"dataframe\">\n  <thead>\n    <tr style=\"text-align: right;\">\n      <th></th>\n      <th>SkuShort</th>\n      <th>Brand</th>\n      <th>Country</th>\n      <th>Year</th>\n      <th>Week</th>\n      <th>NumberWorkdays</th>\n      <th>AvgTemp</th>\n      <th>AvgRain</th>\n      <th>AvgSun</th>\n      <th>IsLockdown</th>\n      <th>PdtHl</th>\n      <th>PrevWeekPdtHl1</th>\n      <th>BgtHl</th>\n      <th>PrevWeekSalesHl1</th>\n      <th>PrevWeekSalesHl2</th>\n      <th>PrevYearSalesHl1</th>\n      <th>PrevYearSalesHl2</th>\n      <th>NumberWorkdaysNext</th>\n      <th>NumberWorkdaysPrev</th>\n    </tr>\n  </thead>\n  <tbody>\n    <tr>\n      <th>0</th>\n      <td>0.0</td>\n      <td>10.0</td>\n      <td>1.0</td>\n      <td>2021.0</td>\n      <td>24.0</td>\n      <td>5.0</td>\n      <td>22.296875</td>\n      <td>0.065918</td>\n      <td>13.25</td>\n      <td>0.0</td>\n      <td>0.0</td>\n      <td>0.0</td>\n      <td>2518.000000</td>\n      <td>2680.000000</td>\n      <td>2680.000000</td>\n      <td>2438.000000</td>\n      <td>3276.000000</td>\n      <td>5.0</td>\n      <td>5.0</td>\n    </tr>\n    <tr>\n      <th>1</th>\n      <td>0.0</td>\n      <td>10.0</td>\n      <td>2.0</td>\n      <td>2021.0</td>\n      <td>24.0</td>\n      <td>5.0</td>\n      <td>22.296875</td>\n      <td>0.065918</td>\n      <td>13.25</td>\n      <td>0.0</td>\n      <td>0.0</td>\n      <td>0.0</td>\n      <td>364.000000</td>\n      <td>455.000000</td>\n      <td>455.000000</td>\n      <td>435.000000</td>\n      <td>475.000000</td>\n      <td>5.0</td>\n      <td>5.0</td>\n    </tr>\n    <tr>\n      <th>2</th>\n      <td>1.0</td>\n      <td>10.0</td>\n      <td>1.0</td>\n      <td>2021.0</td>\n      <td>24.0</td>\n      <td>5.0</td>\n      <td>22.296875</td>\n      <td>0.065918</td>\n      <td>13.25</td>\n      <td>0.0</td>\n      <td>0.0</td>\n      <td>0.0</td>\n      <td>0.000000</td>\n      <td>649.619645</td>\n      <td>650.752694</td>\n      <td>709.045507</td>\n      <td>749.326224</td>\n      <td>5.0</td>\n      <td>5.0</td>\n    </tr>\n    <tr>\n      <th>3</th>\n      <td>1.0</td>\n      <td>10.0</td>\n      <td>2.0</td>\n      <td>2021.0</td>\n      <td>24.0</td>\n      <td>5.0</td>\n      <td>22.296875</td>\n      <td>0.065918</td>\n      <td>13.25</td>\n      <td>0.0</td>\n      <td>0.0</td>\n      <td>0.0</td>\n      <td>0.000000</td>\n      <td>649.619645</td>\n      <td>650.752694</td>\n      <td>709.045507</td>\n      <td>749.326224</td>\n      <td>5.0</td>\n      <td>5.0</td>\n    </tr>\n    <tr>\n      <th>4</th>\n      <td>2.0</td>\n      <td>10.0</td>\n      <td>1.0</td>\n      <td>2021.0</td>\n      <td>24.0</td>\n      <td>5.0</td>\n      <td>22.296875</td>\n      <td>0.065918</td>\n      <td>13.25</td>\n      <td>0.0</td>\n      <td>0.0</td>\n      <td>0.0</td>\n      <td>688.500000</td>\n      <td>1306.000000</td>\n      <td>1306.000000</td>\n      <td>887.000000</td>\n      <td>808.500000</td>\n      <td>5.0</td>\n      <td>5.0</td>\n    </tr>\n    <tr>\n      <th>...</th>\n      <td>...</td>\n      <td>...</td>\n      <td>...</td>\n      <td>...</td>\n      <td>...</td>\n      <td>...</td>\n      <td>...</td>\n      <td>...</td>\n      <td>...</td>\n      <td>...</td>\n      <td>...</td>\n      <td>...</td>\n      <td>...</td>\n      <td>...</td>\n      <td>...</td>\n      <td>...</td>\n      <td>...</td>\n      <td>...</td>\n      <td>...</td>\n    </tr>\n    <tr>\n      <th>96</th>\n      <td>117.0</td>\n      <td>6.0</td>\n      <td>1.0</td>\n      <td>2021.0</td>\n      <td>24.0</td>\n      <td>5.0</td>\n      <td>22.296875</td>\n      <td>0.065918</td>\n      <td>13.25</td>\n      <td>0.0</td>\n      <td>0.0</td>\n      <td>0.0</td>\n      <td>4.195312</td>\n      <td>649.619645</td>\n      <td>650.752694</td>\n      <td>709.045507</td>\n      <td>18.359375</td>\n      <td>5.0</td>\n      <td>5.0</td>\n    </tr>\n    <tr>\n      <th>97</th>\n      <td>120.0</td>\n      <td>16.0</td>\n      <td>1.0</td>\n      <td>2021.0</td>\n      <td>24.0</td>\n      <td>5.0</td>\n      <td>22.296875</td>\n      <td>0.065918</td>\n      <td>13.25</td>\n      <td>0.0</td>\n      <td>0.0</td>\n      <td>0.0</td>\n      <td>0.000000</td>\n      <td>649.619645</td>\n      <td>650.752694</td>\n      <td>709.045507</td>\n      <td>749.326224</td>\n      <td>5.0</td>\n      <td>5.0</td>\n    </tr>\n    <tr>\n      <th>98</th>\n      <td>121.0</td>\n      <td>14.0</td>\n      <td>1.0</td>\n      <td>2021.0</td>\n      <td>24.0</td>\n      <td>5.0</td>\n      <td>22.296875</td>\n      <td>0.065918</td>\n      <td>13.25</td>\n      <td>0.0</td>\n      <td>0.0</td>\n      <td>0.0</td>\n      <td>204.250000</td>\n      <td>134.000000</td>\n      <td>134.000000</td>\n      <td>138.000000</td>\n      <td>259.500000</td>\n      <td>5.0</td>\n      <td>5.0</td>\n    </tr>\n    <tr>\n      <th>99</th>\n      <td>122.0</td>\n      <td>14.0</td>\n      <td>1.0</td>\n      <td>2021.0</td>\n      <td>24.0</td>\n      <td>5.0</td>\n      <td>22.296875</td>\n      <td>0.065918</td>\n      <td>13.25</td>\n      <td>0.0</td>\n      <td>0.0</td>\n      <td>0.0</td>\n      <td>669.500000</td>\n      <td>375.000000</td>\n      <td>375.000000</td>\n      <td>320.500000</td>\n      <td>835.000000</td>\n      <td>5.0</td>\n      <td>5.0</td>\n    </tr>\n    <tr>\n      <th>100</th>\n      <td>124.0</td>\n      <td>14.0</td>\n      <td>2.0</td>\n      <td>2021.0</td>\n      <td>24.0</td>\n      <td>5.0</td>\n      <td>22.296875</td>\n      <td>0.065918</td>\n      <td>13.25</td>\n      <td>0.0</td>\n      <td>0.0</td>\n      <td>0.0</td>\n      <td>468.750000</td>\n      <td>268.000000</td>\n      <td>268.000000</td>\n      <td>350.000000</td>\n      <td>690.000000</td>\n      <td>5.0</td>\n      <td>5.0</td>\n    </tr>\n  </tbody>\n</table>\n<p>101 rows × 19 columns</p>\n</div>"
     },
     "metadata": {},
     "execution_count": 138
    }
   ],
   "source": [
    "X = pd.DataFrame(imputer.transform(X), columns=X.columns)\n",
    "X"
   ]
  },
  {
   "cell_type": "code",
   "execution_count": 139,
   "metadata": {},
   "outputs": [
    {
     "output_type": "execute_result",
     "data": {
      "text/plain": [
       "     SkuShort  Brand  Country    Year  Week  NumberWorkdays    AvgTemp  \\\n",
       "0         0.0   10.0      1.0  2021.0  24.0             5.0  22.296875   \n",
       "1         0.0   10.0      2.0  2021.0  24.0             5.0  22.296875   \n",
       "2         1.0   10.0      1.0  2021.0  24.0             5.0  22.296875   \n",
       "3         1.0   10.0      2.0  2021.0  24.0             5.0  22.296875   \n",
       "4         2.0   10.0      1.0  2021.0  24.0             5.0  22.296875   \n",
       "..        ...    ...      ...     ...   ...             ...        ...   \n",
       "96      117.0    6.0      1.0  2021.0  24.0             5.0  22.296875   \n",
       "97      120.0   16.0      1.0  2021.0  24.0             5.0  22.296875   \n",
       "98      121.0   14.0      1.0  2021.0  24.0             5.0  22.296875   \n",
       "99      122.0   14.0      1.0  2021.0  24.0             5.0  22.296875   \n",
       "100     124.0   14.0      2.0  2021.0  24.0             5.0  22.296875   \n",
       "\n",
       "      AvgRain  AvgSun  IsLockdown  ...        BgtHl  PrevWeekSalesHl1  \\\n",
       "0    0.065918   13.25         0.0  ...  2518.000000       2680.000000   \n",
       "1    0.065918   13.25         0.0  ...   364.000000        455.000000   \n",
       "2    0.065918   13.25         0.0  ...     0.000000        649.619645   \n",
       "3    0.065918   13.25         0.0  ...     0.000000        649.619645   \n",
       "4    0.065918   13.25         0.0  ...   688.500000       1306.000000   \n",
       "..        ...     ...         ...  ...          ...               ...   \n",
       "96   0.065918   13.25         0.0  ...     4.195312        649.619645   \n",
       "97   0.065918   13.25         0.0  ...     0.000000        649.619645   \n",
       "98   0.065918   13.25         0.0  ...   204.250000        134.000000   \n",
       "99   0.065918   13.25         0.0  ...   669.500000        375.000000   \n",
       "100  0.065918   13.25         0.0  ...   468.750000        268.000000   \n",
       "\n",
       "     PrevWeekSalesHl2  PrevYearSalesHl1  PrevYearSalesHl2  NumberWorkdaysNext  \\\n",
       "0         2680.000000       2438.000000       3276.000000                 5.0   \n",
       "1          455.000000        435.000000        475.000000                 5.0   \n",
       "2          650.752694        709.045507        749.326224                 5.0   \n",
       "3          650.752694        709.045507        749.326224                 5.0   \n",
       "4         1306.000000        887.000000        808.500000                 5.0   \n",
       "..                ...               ...               ...                 ...   \n",
       "96         650.752694        709.045507         18.359375                 5.0   \n",
       "97         650.752694        709.045507        749.326224                 5.0   \n",
       "98         134.000000        138.000000        259.500000                 5.0   \n",
       "99         375.000000        320.500000        835.000000                 5.0   \n",
       "100        268.000000        350.000000        690.000000                 5.0   \n",
       "\n",
       "     NumberWorkdaysPrev  AvgPrevWeekSalesHl  AvgPrevYearSalesHl  \\\n",
       "0                   5.0              2680.0              2857.0   \n",
       "1                   5.0               455.0               455.0   \n",
       "2                   5.0               650.2               729.2   \n",
       "3                   5.0               650.2               729.2   \n",
       "4                   5.0              1306.0               847.8   \n",
       "..                  ...                 ...                 ...   \n",
       "96                  5.0               650.2               363.7   \n",
       "97                  5.0               650.2               729.2   \n",
       "98                  5.0               134.0               198.8   \n",
       "99                  5.0               375.0               577.8   \n",
       "100                 5.0               268.0               520.0   \n",
       "\n",
       "     AvgPrevAllSalesHl  \n",
       "0               2768.5  \n",
       "1                455.0  \n",
       "2                689.7  \n",
       "3                689.7  \n",
       "4               1076.9  \n",
       "..                 ...  \n",
       "96               506.9  \n",
       "97               689.7  \n",
       "98               166.4  \n",
       "99               476.4  \n",
       "100              394.0  \n",
       "\n",
       "[101 rows x 22 columns]"
      ],
      "text/html": "<div>\n<style scoped>\n    .dataframe tbody tr th:only-of-type {\n        vertical-align: middle;\n    }\n\n    .dataframe tbody tr th {\n        vertical-align: top;\n    }\n\n    .dataframe thead th {\n        text-align: right;\n    }\n</style>\n<table border=\"1\" class=\"dataframe\">\n  <thead>\n    <tr style=\"text-align: right;\">\n      <th></th>\n      <th>SkuShort</th>\n      <th>Brand</th>\n      <th>Country</th>\n      <th>Year</th>\n      <th>Week</th>\n      <th>NumberWorkdays</th>\n      <th>AvgTemp</th>\n      <th>AvgRain</th>\n      <th>AvgSun</th>\n      <th>IsLockdown</th>\n      <th>...</th>\n      <th>BgtHl</th>\n      <th>PrevWeekSalesHl1</th>\n      <th>PrevWeekSalesHl2</th>\n      <th>PrevYearSalesHl1</th>\n      <th>PrevYearSalesHl2</th>\n      <th>NumberWorkdaysNext</th>\n      <th>NumberWorkdaysPrev</th>\n      <th>AvgPrevWeekSalesHl</th>\n      <th>AvgPrevYearSalesHl</th>\n      <th>AvgPrevAllSalesHl</th>\n    </tr>\n  </thead>\n  <tbody>\n    <tr>\n      <th>0</th>\n      <td>0.0</td>\n      <td>10.0</td>\n      <td>1.0</td>\n      <td>2021.0</td>\n      <td>24.0</td>\n      <td>5.0</td>\n      <td>22.296875</td>\n      <td>0.065918</td>\n      <td>13.25</td>\n      <td>0.0</td>\n      <td>...</td>\n      <td>2518.000000</td>\n      <td>2680.000000</td>\n      <td>2680.000000</td>\n      <td>2438.000000</td>\n      <td>3276.000000</td>\n      <td>5.0</td>\n      <td>5.0</td>\n      <td>2680.0</td>\n      <td>2857.0</td>\n      <td>2768.5</td>\n    </tr>\n    <tr>\n      <th>1</th>\n      <td>0.0</td>\n      <td>10.0</td>\n      <td>2.0</td>\n      <td>2021.0</td>\n      <td>24.0</td>\n      <td>5.0</td>\n      <td>22.296875</td>\n      <td>0.065918</td>\n      <td>13.25</td>\n      <td>0.0</td>\n      <td>...</td>\n      <td>364.000000</td>\n      <td>455.000000</td>\n      <td>455.000000</td>\n      <td>435.000000</td>\n      <td>475.000000</td>\n      <td>5.0</td>\n      <td>5.0</td>\n      <td>455.0</td>\n      <td>455.0</td>\n      <td>455.0</td>\n    </tr>\n    <tr>\n      <th>2</th>\n      <td>1.0</td>\n      <td>10.0</td>\n      <td>1.0</td>\n      <td>2021.0</td>\n      <td>24.0</td>\n      <td>5.0</td>\n      <td>22.296875</td>\n      <td>0.065918</td>\n      <td>13.25</td>\n      <td>0.0</td>\n      <td>...</td>\n      <td>0.000000</td>\n      <td>649.619645</td>\n      <td>650.752694</td>\n      <td>709.045507</td>\n      <td>749.326224</td>\n      <td>5.0</td>\n      <td>5.0</td>\n      <td>650.2</td>\n      <td>729.2</td>\n      <td>689.7</td>\n    </tr>\n    <tr>\n      <th>3</th>\n      <td>1.0</td>\n      <td>10.0</td>\n      <td>2.0</td>\n      <td>2021.0</td>\n      <td>24.0</td>\n      <td>5.0</td>\n      <td>22.296875</td>\n      <td>0.065918</td>\n      <td>13.25</td>\n      <td>0.0</td>\n      <td>...</td>\n      <td>0.000000</td>\n      <td>649.619645</td>\n      <td>650.752694</td>\n      <td>709.045507</td>\n      <td>749.326224</td>\n      <td>5.0</td>\n      <td>5.0</td>\n      <td>650.2</td>\n      <td>729.2</td>\n      <td>689.7</td>\n    </tr>\n    <tr>\n      <th>4</th>\n      <td>2.0</td>\n      <td>10.0</td>\n      <td>1.0</td>\n      <td>2021.0</td>\n      <td>24.0</td>\n      <td>5.0</td>\n      <td>22.296875</td>\n      <td>0.065918</td>\n      <td>13.25</td>\n      <td>0.0</td>\n      <td>...</td>\n      <td>688.500000</td>\n      <td>1306.000000</td>\n      <td>1306.000000</td>\n      <td>887.000000</td>\n      <td>808.500000</td>\n      <td>5.0</td>\n      <td>5.0</td>\n      <td>1306.0</td>\n      <td>847.8</td>\n      <td>1076.9</td>\n    </tr>\n    <tr>\n      <th>...</th>\n      <td>...</td>\n      <td>...</td>\n      <td>...</td>\n      <td>...</td>\n      <td>...</td>\n      <td>...</td>\n      <td>...</td>\n      <td>...</td>\n      <td>...</td>\n      <td>...</td>\n      <td>...</td>\n      <td>...</td>\n      <td>...</td>\n      <td>...</td>\n      <td>...</td>\n      <td>...</td>\n      <td>...</td>\n      <td>...</td>\n      <td>...</td>\n      <td>...</td>\n      <td>...</td>\n    </tr>\n    <tr>\n      <th>96</th>\n      <td>117.0</td>\n      <td>6.0</td>\n      <td>1.0</td>\n      <td>2021.0</td>\n      <td>24.0</td>\n      <td>5.0</td>\n      <td>22.296875</td>\n      <td>0.065918</td>\n      <td>13.25</td>\n      <td>0.0</td>\n      <td>...</td>\n      <td>4.195312</td>\n      <td>649.619645</td>\n      <td>650.752694</td>\n      <td>709.045507</td>\n      <td>18.359375</td>\n      <td>5.0</td>\n      <td>5.0</td>\n      <td>650.2</td>\n      <td>363.7</td>\n      <td>506.9</td>\n    </tr>\n    <tr>\n      <th>97</th>\n      <td>120.0</td>\n      <td>16.0</td>\n      <td>1.0</td>\n      <td>2021.0</td>\n      <td>24.0</td>\n      <td>5.0</td>\n      <td>22.296875</td>\n      <td>0.065918</td>\n      <td>13.25</td>\n      <td>0.0</td>\n      <td>...</td>\n      <td>0.000000</td>\n      <td>649.619645</td>\n      <td>650.752694</td>\n      <td>709.045507</td>\n      <td>749.326224</td>\n      <td>5.0</td>\n      <td>5.0</td>\n      <td>650.2</td>\n      <td>729.2</td>\n      <td>689.7</td>\n    </tr>\n    <tr>\n      <th>98</th>\n      <td>121.0</td>\n      <td>14.0</td>\n      <td>1.0</td>\n      <td>2021.0</td>\n      <td>24.0</td>\n      <td>5.0</td>\n      <td>22.296875</td>\n      <td>0.065918</td>\n      <td>13.25</td>\n      <td>0.0</td>\n      <td>...</td>\n      <td>204.250000</td>\n      <td>134.000000</td>\n      <td>134.000000</td>\n      <td>138.000000</td>\n      <td>259.500000</td>\n      <td>5.0</td>\n      <td>5.0</td>\n      <td>134.0</td>\n      <td>198.8</td>\n      <td>166.4</td>\n    </tr>\n    <tr>\n      <th>99</th>\n      <td>122.0</td>\n      <td>14.0</td>\n      <td>1.0</td>\n      <td>2021.0</td>\n      <td>24.0</td>\n      <td>5.0</td>\n      <td>22.296875</td>\n      <td>0.065918</td>\n      <td>13.25</td>\n      <td>0.0</td>\n      <td>...</td>\n      <td>669.500000</td>\n      <td>375.000000</td>\n      <td>375.000000</td>\n      <td>320.500000</td>\n      <td>835.000000</td>\n      <td>5.0</td>\n      <td>5.0</td>\n      <td>375.0</td>\n      <td>577.8</td>\n      <td>476.4</td>\n    </tr>\n    <tr>\n      <th>100</th>\n      <td>124.0</td>\n      <td>14.0</td>\n      <td>2.0</td>\n      <td>2021.0</td>\n      <td>24.0</td>\n      <td>5.0</td>\n      <td>22.296875</td>\n      <td>0.065918</td>\n      <td>13.25</td>\n      <td>0.0</td>\n      <td>...</td>\n      <td>468.750000</td>\n      <td>268.000000</td>\n      <td>268.000000</td>\n      <td>350.000000</td>\n      <td>690.000000</td>\n      <td>5.0</td>\n      <td>5.0</td>\n      <td>268.0</td>\n      <td>520.0</td>\n      <td>394.0</td>\n    </tr>\n  </tbody>\n</table>\n<p>101 rows × 22 columns</p>\n</div>"
     },
     "metadata": {},
     "execution_count": 139
    }
   ],
   "source": [
    "#Avg \n",
    "X['AvgPrevWeekSalesHl'] = X[['PrevWeekSalesHl1', 'PrevWeekSalesHl2']].mean(axis=1).round(1)\n",
    "X['AvgPrevYearSalesHl'] = X[['PrevYearSalesHl1', 'PrevYearSalesHl2']].mean(axis=1).round(1)\n",
    "X['AvgPrevAllSalesHl'] = X[['PrevYearSalesHl1', 'PrevYearSalesHl2', 'PrevWeekSalesHl1', 'PrevWeekSalesHl2']].mean(axis=1).round(1)\n",
    "\n",
    "X"
   ]
  },
  {
   "cell_type": "code",
   "execution_count": 140,
   "metadata": {},
   "outputs": [],
   "source": [
    "X = pd.DataFrame(scaler.transform(X), columns=X.columns)"
   ]
  },
  {
   "source": [
    "## Predict"
   ],
   "cell_type": "markdown",
   "metadata": {}
  },
  {
   "cell_type": "code",
   "execution_count": 141,
   "metadata": {},
   "outputs": [],
   "source": [
    "y_pred = model.predict(X)\n",
    "y_pred[y_pred < 0] = 0\n",
    "y_pred = y_pred.round(0)"
   ]
  },
  {
   "cell_type": "code",
   "execution_count": 142,
   "metadata": {},
   "outputs": [
    {
     "output_type": "stream",
     "name": "stdout",
     "text": [
      "on-trade\n----------------\nCoefficient of determination: 0.9896\nAbsolute Score: 0.8912\nMean absolute error regression loss.: 89.8274\nMaximum residual error: 1045.5000\nMean squared error regression loss: 37672.7436\n"
     ]
    }
   ],
   "source": [
    "print(DATASET_NAME)\n",
    "print('----------------')\n",
    "print('Coefficient of determination: %.4f'% r2_score(y, y_pred))\n",
    "print('Absolute Score: %.4f'% absolute_score(y, y_pred))\n",
    "print('Mean absolute error regression loss.: %.4f'% mean_absolute_error(y, y_pred))\n",
    "print('Maximum residual error: %.4f'% max_error(y, y_pred))\n",
    "print('Mean squared error regression loss: %.4f'% mean_squared_error(y, y_pred))"
   ]
  },
  {
   "cell_type": "code",
   "execution_count": 143,
   "metadata": {},
   "outputs": [
    {
     "output_type": "display_data",
     "data": {
      "text/plain": "<Figure size 576x432 with 1 Axes>",
      "image/svg+xml": "<?xml version=\"1.0\" encoding=\"utf-8\" standalone=\"no\"?>\r\n<!DOCTYPE svg PUBLIC \"-//W3C//DTD SVG 1.1//EN\"\r\n  \"http://www.w3.org/Graphics/SVG/1.1/DTD/svg11.dtd\">\r\n<svg height=\"370.91625pt\" version=\"1.1\" viewBox=\"0 0 513.290625 370.91625\" width=\"513.290625pt\" xmlns=\"http://www.w3.org/2000/svg\" xmlns:xlink=\"http://www.w3.org/1999/xlink\">\r\n <metadata>\r\n  <rdf:RDF xmlns:cc=\"http://creativecommons.org/ns#\" xmlns:dc=\"http://purl.org/dc/elements/1.1/\" xmlns:rdf=\"http://www.w3.org/1999/02/22-rdf-syntax-ns#\">\r\n   <cc:Work>\r\n    <dc:type rdf:resource=\"http://purl.org/dc/dcmitype/StillImage\"/>\r\n    <dc:date>2021-06-23T16:25:44.134429</dc:date>\r\n    <dc:format>image/svg+xml</dc:format>\r\n    <dc:creator>\r\n     <cc:Agent>\r\n      <dc:title>Matplotlib v3.4.1, https://matplotlib.org/</dc:title>\r\n     </cc:Agent>\r\n    </dc:creator>\r\n   </cc:Work>\r\n  </rdf:RDF>\r\n </metadata>\r\n <defs>\r\n  <style type=\"text/css\">*{stroke-linecap:butt;stroke-linejoin:round;}</style>\r\n </defs>\r\n <g id=\"figure_1\">\r\n  <g id=\"patch_1\">\r\n   <path d=\"M 0 370.91625 \r\nL 513.290625 370.91625 \r\nL 513.290625 0 \r\nL 0 0 \r\nz\r\n\" style=\"fill:none;\"/>\r\n  </g>\r\n  <g id=\"axes_1\">\r\n   <g id=\"patch_2\">\r\n    <path d=\"M 59.690625 333.36 \r\nL 506.090625 333.36 \r\nL 506.090625 7.2 \r\nL 59.690625 7.2 \r\nz\r\n\" style=\"fill:#ffffff;\"/>\r\n   </g>\r\n   <g id=\"PathCollection_1\">\r\n    <defs>\r\n     <path d=\"M 0 3 \r\nC 0.795609 3 1.55874 2.683901 2.12132 2.12132 \r\nC 2.683901 1.55874 3 0.795609 3 0 \r\nC 3 -0.795609 2.683901 -1.55874 2.12132 -2.12132 \r\nC 1.55874 -2.683901 0.795609 -3 0 -3 \r\nC -0.795609 -3 -1.55874 -2.683901 -2.12132 -2.12132 \r\nC -2.683901 -1.55874 -3 -0.795609 -3 0 \r\nC -3 0.795609 -2.683901 1.55874 -2.12132 2.12132 \r\nC -1.55874 2.683901 -0.795609 3 0 3 \r\nz\r\n\" id=\"mb8587a0c19\" style=\"stroke:#1f77b4;\"/>\r\n    </defs>\r\n    <g clip-path=\"url(#pd23abc66fb)\">\r\n     <use style=\"fill:#1f77b4;stroke:#1f77b4;\" x=\"170.532441\" xlink:href=\"#mb8587a0c19\" y=\"248.705844\"/>\r\n     <use style=\"fill:#1f77b4;stroke:#1f77b4;\" x=\"95.536487\" xlink:href=\"#mb8587a0c19\" y=\"306.399271\"/>\r\n     <use style=\"fill:#1f77b4;stroke:#1f77b4;\" x=\"81.099447\" xlink:href=\"#mb8587a0c19\" y=\"318.527544\"/>\r\n     <use style=\"fill:#1f77b4;stroke:#1f77b4;\" x=\"80.748103\" xlink:href=\"#mb8587a0c19\" y=\"318.534545\"/>\r\n     <use style=\"fill:#1f77b4;stroke:#1f77b4;\" x=\"122.74967\" xlink:href=\"#mb8587a0c19\" y=\"290.250022\"/>\r\n     <use style=\"fill:#1f77b4;stroke:#1f77b4;\" x=\"84.453184\" xlink:href=\"#mb8587a0c19\" y=\"314.680429\"/>\r\n     <use style=\"fill:#1f77b4;stroke:#1f77b4;\" x=\"219.401184\" xlink:href=\"#mb8587a0c19\" y=\"214.105843\"/>\r\n     <use style=\"fill:#1f77b4;stroke:#1f77b4;\" x=\"102.659186\" xlink:href=\"#mb8587a0c19\" y=\"298.112279\"/>\r\n     <use style=\"fill:#1f77b4;stroke:#1f77b4;\" x=\"456.845784\" xlink:href=\"#mb8587a0c19\" y=\"22.025455\"/>\r\n     <use style=\"fill:#1f77b4;stroke:#1f77b4;\" x=\"135.206408\" xlink:href=\"#mb8587a0c19\" y=\"270.845251\"/>\r\n     <use style=\"fill:#1f77b4;stroke:#1f77b4;\" x=\"81.131387\" xlink:href=\"#mb8587a0c19\" y=\"315.902124\"/>\r\n     <use style=\"fill:#1f77b4;stroke:#1f77b4;\" x=\"88.222146\" xlink:href=\"#mb8587a0c19\" y=\"312.009502\"/>\r\n     <use style=\"fill:#1f77b4;stroke:#1f77b4;\" x=\"82.728405\" xlink:href=\"#mb8587a0c19\" y=\"317.764422\"/>\r\n     <use style=\"fill:#1f77b4;stroke:#1f77b4;\" x=\"93.875589\" xlink:href=\"#mb8587a0c19\" y=\"309.839155\"/>\r\n     <use style=\"fill:#1f77b4;stroke:#1f77b4;\" x=\"149.515687\" xlink:href=\"#mb8587a0c19\" y=\"265.991142\"/>\r\n     <use style=\"fill:#1f77b4;stroke:#1f77b4;\" x=\"89.276177\" xlink:href=\"#mb8587a0c19\" y=\"312.951152\"/>\r\n     <use style=\"fill:#1f77b4;stroke:#1f77b4;\" x=\"85.060051\" xlink:href=\"#mb8587a0c19\" y=\"316.021143\"/>\r\n     <use style=\"fill:#1f77b4;stroke:#1f77b4;\" x=\"81.003625\" xlink:href=\"#mb8587a0c19\" y=\"317.708413\"/>\r\n     <use style=\"fill:#1f77b4;stroke:#1f77b4;\" x=\"110.899798\" xlink:href=\"#mb8587a0c19\" y=\"298.768051\"/>\r\n     <use style=\"fill:#1f77b4;stroke:#1f77b4;\" x=\"104.958892\" xlink:href=\"#mb8587a0c19\" y=\"298.696873\"/>\r\n     <use style=\"fill:#1f77b4;stroke:#1f77b4;\" x=\"84.13378\" xlink:href=\"#mb8587a0c19\" y=\"315.267356\"/>\r\n     <use style=\"fill:#1f77b4;stroke:#1f77b4;\" x=\"107.578001\" xlink:href=\"#mb8587a0c19\" y=\"300.527665\"/>\r\n     <use style=\"fill:#1f77b4;stroke:#1f77b4;\" x=\"84.261542\" xlink:href=\"#mb8587a0c19\" y=\"314.24986\"/>\r\n     <use style=\"fill:#1f77b4;stroke:#1f77b4;\" x=\"262.329021\" xlink:href=\"#mb8587a0c19\" y=\"181.919362\"/>\r\n     <use style=\"fill:#1f77b4;stroke:#1f77b4;\" x=\"111.283082\" xlink:href=\"#mb8587a0c19\" y=\"294.053963\"/>\r\n     <use style=\"fill:#1f77b4;stroke:#1f77b4;\" x=\"88.988714\" xlink:href=\"#mb8587a0c19\" y=\"311.939491\"/>\r\n     <use style=\"fill:#1f77b4;stroke:#1f77b4;\" x=\"81.738254\" xlink:href=\"#mb8587a0c19\" y=\"317.008301\"/>\r\n     <use style=\"fill:#1f77b4;stroke:#1f77b4;\" x=\"93.97141\" xlink:href=\"#mb8587a0c19\" y=\"300.938398\"/>\r\n     <use style=\"fill:#1f77b4;stroke:#1f77b4;\" x=\"85.123931\" xlink:href=\"#mb8587a0c19\" y=\"314.80995\"/>\r\n     <use style=\"fill:#1f77b4;stroke:#1f77b4;\" x=\"80.237057\" xlink:href=\"#mb8587a0c19\" y=\"318.37352\"/>\r\n     <use style=\"fill:#1f77b4;stroke:#1f77b4;\" x=\"83.814377\" xlink:href=\"#mb8587a0c19\" y=\"315.657085\"/>\r\n     <use style=\"fill:#1f77b4;stroke:#1f77b4;\" x=\"113.103682\" xlink:href=\"#mb8587a0c19\" y=\"293.995621\"/>\r\n     <use style=\"fill:#1f77b4;stroke:#1f77b4;\" x=\"84.453184\" xlink:href=\"#mb8587a0c19\" y=\"314.795947\"/>\r\n     <use style=\"fill:#1f77b4;stroke:#1f77b4;\" x=\"101.445453\" xlink:href=\"#mb8587a0c19\" y=\"300.926729\"/>\r\n     <use style=\"fill:#1f77b4;stroke:#1f77b4;\" x=\"81.323029\" xlink:href=\"#mb8587a0c19\" y=\"317.540386\"/>\r\n     <use style=\"fill:#1f77b4;stroke:#1f77b4;\" x=\"80.460639\" xlink:href=\"#mb8587a0c19\" y=\"318.534545\"/>\r\n     <use style=\"fill:#1f77b4;stroke:#1f77b4;\" x=\"80.460639\" xlink:href=\"#mb8587a0c19\" y=\"318.534545\"/>\r\n     <use style=\"fill:#1f77b4;stroke:#1f77b4;\" x=\"80.588401\" xlink:href=\"#mb8587a0c19\" y=\"318.527544\"/>\r\n     <use style=\"fill:#1f77b4;stroke:#1f77b4;\" x=\"112.049651\" xlink:href=\"#mb8587a0c19\" y=\"296.430377\"/>\r\n     <use style=\"fill:#1f77b4;stroke:#1f77b4;\" x=\"81.610492\" xlink:href=\"#mb8587a0c19\" y=\"317.834433\"/>\r\n     <use style=\"fill:#1f77b4;stroke:#1f77b4;\" x=\"95.280964\" xlink:href=\"#mb8587a0c19\" y=\"302.726017\"/>\r\n     <use style=\"fill:#1f77b4;stroke:#1f77b4;\" x=\"80.49258\" xlink:href=\"#mb8587a0c19\" y=\"318.275504\"/>\r\n     <use style=\"fill:#1f77b4;stroke:#1f77b4;\" x=\"120.322203\" xlink:href=\"#mb8587a0c19\" y=\"291.335195\"/>\r\n     <use style=\"fill:#1f77b4;stroke:#1f77b4;\" x=\"82.600643\" xlink:href=\"#mb8587a0c19\" y=\"315.965134\"/>\r\n     <use style=\"fill:#1f77b4;stroke:#1f77b4;\" x=\"258.208716\" xlink:href=\"#mb8587a0c19\" y=\"173.856405\"/>\r\n     <use style=\"fill:#1f77b4;stroke:#1f77b4;\" x=\"96.909922\" xlink:href=\"#mb8587a0c19\" y=\"305.232418\"/>\r\n     <use style=\"fill:#1f77b4;stroke:#1f77b4;\" x=\"87.327816\" xlink:href=\"#mb8587a0c19\" y=\"312.109851\"/>\r\n     <use style=\"fill:#1f77b4;stroke:#1f77b4;\" x=\"83.23945\" xlink:href=\"#mb8587a0c19\" y=\"316.784266\"/>\r\n     <use style=\"fill:#1f77b4;stroke:#1f77b4;\" x=\"122.653849\" xlink:href=\"#mb8587a0c19\" y=\"285.160207\"/>\r\n     <use style=\"fill:#1f77b4;stroke:#1f77b4;\" x=\"83.782436\" xlink:href=\"#mb8587a0c19\" y=\"314.80995\"/>\r\n     <use style=\"fill:#1f77b4;stroke:#1f77b4;\" x=\"294.045794\" xlink:href=\"#mb8587a0c19\" y=\"137.730627\"/>\r\n     <use style=\"fill:#1f77b4;stroke:#1f77b4;\" x=\"123.803701\" xlink:href=\"#mb8587a0c19\" y=\"278.103079\"/>\r\n     <use style=\"fill:#1f77b4;stroke:#1f77b4;\" x=\"82.568703\" xlink:href=\"#mb8587a0c19\" y=\"316.81227\"/>\r\n     <use style=\"fill:#1f77b4;stroke:#1f77b4;\" x=\"80.460639\" xlink:href=\"#mb8587a0c19\" y=\"318.033965\"/>\r\n     <use style=\"fill:#1f77b4;stroke:#1f77b4;\" x=\"95.983652\" xlink:href=\"#mb8587a0c19\" y=\"305.86952\"/>\r\n     <use style=\"fill:#1f77b4;stroke:#1f77b4;\" x=\"81.897955\" xlink:href=\"#mb8587a0c19\" y=\"317.036306\"/>\r\n     <use style=\"fill:#1f77b4;stroke:#1f77b4;\" x=\"89.659462\" xlink:href=\"#mb8587a0c19\" y=\"310.840315\"/>\r\n     <use style=\"fill:#1f77b4;stroke:#1f77b4;\" x=\"82.824226\" xlink:href=\"#mb8587a0c19\" y=\"318.415526\"/>\r\n     <use style=\"fill:#1f77b4;stroke:#1f77b4;\" x=\"87.519458\" xlink:href=\"#mb8587a0c19\" y=\"315.146003\"/>\r\n     <use style=\"fill:#1f77b4;stroke:#1f77b4;\" x=\"81.546611\" xlink:href=\"#mb8587a0c19\" y=\"317.764422\"/>\r\n     <use style=\"fill:#1f77b4;stroke:#1f77b4;\" x=\"83.622735\" xlink:href=\"#mb8587a0c19\" y=\"316.329193\"/>\r\n     <use style=\"fill:#1f77b4;stroke:#1f77b4;\" x=\"80.109296\" xlink:href=\"#mb8587a0c19\" y=\"318.534545\"/>\r\n     <use style=\"fill:#1f77b4;stroke:#1f77b4;\" x=\"80.332878\" xlink:href=\"#mb8587a0c19\" y=\"318.534545\"/>\r\n     <use style=\"fill:#1f77b4;stroke:#1f77b4;\" x=\"80.300938\" xlink:href=\"#mb8587a0c19\" y=\"318.301175\"/>\r\n     <use style=\"fill:#1f77b4;stroke:#1f77b4;\" x=\"90.010806\" xlink:href=\"#mb8587a0c19\" y=\"311.463414\"/>\r\n     <use style=\"fill:#1f77b4;stroke:#1f77b4;\" x=\"80.843924\" xlink:href=\"#mb8587a0c19\" y=\"317.988458\"/>\r\n     <use style=\"fill:#1f77b4;stroke:#1f77b4;\" x=\"118.852946\" xlink:href=\"#mb8587a0c19\" y=\"289.888297\"/>\r\n     <use style=\"fill:#1f77b4;stroke:#1f77b4;\" x=\"86.082142\" xlink:href=\"#mb8587a0c19\" y=\"313.388722\"/>\r\n     <use style=\"fill:#1f77b4;stroke:#1f77b4;\" x=\"81.578552\" xlink:href=\"#mb8587a0c19\" y=\"317.519383\"/>\r\n     <use style=\"fill:#1f77b4;stroke:#1f77b4;\" x=\"91.480062\" xlink:href=\"#mb8587a0c19\" y=\"309.902165\"/>\r\n     <use style=\"fill:#1f77b4;stroke:#1f77b4;\" x=\"80.300938\" xlink:href=\"#mb8587a0c19\" y=\"318.114478\"/>\r\n     <use style=\"fill:#1f77b4;stroke:#1f77b4;\" x=\"102.531425\" xlink:href=\"#mb8587a0c19\" y=\"303.274905\"/>\r\n     <use style=\"fill:#1f77b4;stroke:#1f77b4;\" x=\"81.770194\" xlink:href=\"#mb8587a0c19\" y=\"317.255674\"/>\r\n     <use style=\"fill:#1f77b4;stroke:#1f77b4;\" x=\"84.229601\" xlink:href=\"#mb8587a0c19\" y=\"315.096996\"/>\r\n     <use style=\"fill:#1f77b4;stroke:#1f77b4;\" x=\"127.860126\" xlink:href=\"#mb8587a0c19\" y=\"284.516104\"/>\r\n     <use style=\"fill:#1f77b4;stroke:#1f77b4;\" x=\"80.875864\" xlink:href=\"#mb8587a0c19\" y=\"317.904445\"/>\r\n     <use style=\"fill:#1f77b4;stroke:#1f77b4;\" x=\"342.850657\" xlink:href=\"#mb8587a0c19\" y=\"116.213853\"/>\r\n     <use style=\"fill:#1f77b4;stroke:#1f77b4;\" x=\"87.391696\" xlink:href=\"#mb8587a0c19\" y=\"312.758622\"/>\r\n     <use style=\"fill:#1f77b4;stroke:#1f77b4;\" x=\"85.666917\" xlink:href=\"#mb8587a0c19\" y=\"313.855464\"/>\r\n     <use style=\"fill:#1f77b4;stroke:#1f77b4;\" x=\"82.025717\" xlink:href=\"#mb8587a0c19\" y=\"317.414366\"/>\r\n     <use style=\"fill:#1f77b4;stroke:#1f77b4;\" x=\"83.17557\" xlink:href=\"#mb8587a0c19\" y=\"315.967468\"/>\r\n     <use style=\"fill:#1f77b4;stroke:#1f77b4;\" x=\"81.546611\" xlink:href=\"#mb8587a0c19\" y=\"317.19033\"/>\r\n     <use style=\"fill:#1f77b4;stroke:#1f77b4;\" x=\"80.875864\" xlink:href=\"#mb8587a0c19\" y=\"318.044467\"/>\r\n     <use style=\"fill:#1f77b4;stroke:#1f77b4;\" x=\"80.620341\" xlink:href=\"#mb8587a0c19\" y=\"318.233497\"/>\r\n     <use style=\"fill:#1f77b4;stroke:#1f77b4;\" x=\"80.843924\" xlink:href=\"#mb8587a0c19\" y=\"318.166987\"/>\r\n     <use style=\"fill:#1f77b4;stroke:#1f77b4;\" x=\"80.55646\" xlink:href=\"#mb8587a0c19\" y=\"318.534545\"/>\r\n     <use style=\"fill:#1f77b4;stroke:#1f77b4;\" x=\"80.971685\" xlink:href=\"#mb8587a0c19\" y=\"318.504207\"/>\r\n     <use style=\"fill:#1f77b4;stroke:#1f77b4;\" x=\"80.684222\" xlink:href=\"#mb8587a0c19\" y=\"318.534545\"/>\r\n     <use style=\"fill:#1f77b4;stroke:#1f77b4;\" x=\"85.95438\" xlink:href=\"#mb8587a0c19\" y=\"313.567251\"/>\r\n     <use style=\"fill:#1f77b4;stroke:#1f77b4;\" x=\"82.856166\" xlink:href=\"#mb8587a0c19\" y=\"315.030485\"/>\r\n     <use style=\"fill:#1f77b4;stroke:#1f77b4;\" x=\"119.779217\" xlink:href=\"#mb8587a0c19\" y=\"276.947894\"/>\r\n     <use style=\"fill:#1f77b4;stroke:#1f77b4;\" x=\"94.131111\" xlink:href=\"#mb8587a0c19\" y=\"301.325793\"/>\r\n     <use style=\"fill:#1f77b4;stroke:#1f77b4;\" x=\"89.46782\" xlink:href=\"#mb8587a0c19\" y=\"299.538174\"/>\r\n     <use style=\"fill:#1f77b4;stroke:#1f77b4;\" x=\"83.654675\" xlink:href=\"#mb8587a0c19\" y=\"311.405072\"/>\r\n     <use style=\"fill:#1f77b4;stroke:#1f77b4;\" x=\"81.41885\" xlink:href=\"#mb8587a0c19\" y=\"317.424098\"/>\r\n     <use style=\"fill:#1f77b4;stroke:#1f77b4;\" x=\"84.900349\" xlink:href=\"#mb8587a0c19\" y=\"314.151844\"/>\r\n     <use style=\"fill:#1f77b4;stroke:#1f77b4;\" x=\"80.332878\" xlink:href=\"#mb8587a0c19\" y=\"318.534545\"/>\r\n     <use style=\"fill:#1f77b4;stroke:#1f77b4;\" x=\"81.706313\" xlink:href=\"#mb8587a0c19\" y=\"318.534545\"/>\r\n     <use style=\"fill:#1f77b4;stroke:#1f77b4;\" x=\"85.634977\" xlink:href=\"#mb8587a0c19\" y=\"314.578913\"/>\r\n     <use style=\"fill:#1f77b4;stroke:#1f77b4;\" x=\"95.632308\" xlink:href=\"#mb8587a0c19\" y=\"303.120413\"/>\r\n     <use style=\"fill:#1f77b4;stroke:#1f77b4;\" x=\"92.534094\" xlink:href=\"#mb8587a0c19\" y=\"308.511276\"/>\r\n    </g>\r\n   </g>\r\n   <g id=\"matplotlib.axis_1\">\r\n    <g id=\"xtick_1\">\r\n     <g id=\"line2d_1\">\r\n      <defs>\r\n       <path d=\"M 0 0 \r\nL 0 3.5 \r\n\" id=\"m241274c7d4\" style=\"stroke:#000000;stroke-width:0.8;\"/>\r\n      </defs>\r\n      <g>\r\n       <use style=\"stroke:#000000;stroke-width:0.8;\" x=\"79.981534\" xlink:href=\"#m241274c7d4\" y=\"333.36\"/>\r\n      </g>\r\n     </g>\r\n     <g id=\"text_1\">\r\n      <!-- 0 -->\r\n      <g transform=\"translate(76.800284 347.958438)scale(0.1 -0.1)\">\r\n       <defs>\r\n        <path d=\"M 2034 4250 \r\nQ 1547 4250 1301 3770 \r\nQ 1056 3291 1056 2328 \r\nQ 1056 1369 1301 889 \r\nQ 1547 409 2034 409 \r\nQ 2525 409 2770 889 \r\nQ 3016 1369 3016 2328 \r\nQ 3016 3291 2770 3770 \r\nQ 2525 4250 2034 4250 \r\nz\r\nM 2034 4750 \r\nQ 2819 4750 3233 4129 \r\nQ 3647 3509 3647 2328 \r\nQ 3647 1150 3233 529 \r\nQ 2819 -91 2034 -91 \r\nQ 1250 -91 836 529 \r\nQ 422 1150 422 2328 \r\nQ 422 3509 836 4129 \r\nQ 1250 4750 2034 4750 \r\nz\r\n\" id=\"DejaVuSans-30\" transform=\"scale(0.015625)\"/>\r\n       </defs>\r\n       <use xlink:href=\"#DejaVuSans-30\"/>\r\n      </g>\r\n     </g>\r\n    </g>\r\n    <g id=\"xtick_2\">\r\n     <g id=\"line2d_2\">\r\n      <g>\r\n       <use style=\"stroke:#000000;stroke-width:0.8;\" x=\"143.862244\" xlink:href=\"#m241274c7d4\" y=\"333.36\"/>\r\n      </g>\r\n     </g>\r\n     <g id=\"text_2\">\r\n      <!-- 2000 -->\r\n      <g transform=\"translate(131.137244 347.958438)scale(0.1 -0.1)\">\r\n       <defs>\r\n        <path d=\"M 1228 531 \r\nL 3431 531 \r\nL 3431 0 \r\nL 469 0 \r\nL 469 531 \r\nQ 828 903 1448 1529 \r\nQ 2069 2156 2228 2338 \r\nQ 2531 2678 2651 2914 \r\nQ 2772 3150 2772 3378 \r\nQ 2772 3750 2511 3984 \r\nQ 2250 4219 1831 4219 \r\nQ 1534 4219 1204 4116 \r\nQ 875 4013 500 3803 \r\nL 500 4441 \r\nQ 881 4594 1212 4672 \r\nQ 1544 4750 1819 4750 \r\nQ 2544 4750 2975 4387 \r\nQ 3406 4025 3406 3419 \r\nQ 3406 3131 3298 2873 \r\nQ 3191 2616 2906 2266 \r\nQ 2828 2175 2409 1742 \r\nQ 1991 1309 1228 531 \r\nz\r\n\" id=\"DejaVuSans-32\" transform=\"scale(0.015625)\"/>\r\n       </defs>\r\n       <use xlink:href=\"#DejaVuSans-32\"/>\r\n       <use x=\"63.623047\" xlink:href=\"#DejaVuSans-30\"/>\r\n       <use x=\"127.246094\" xlink:href=\"#DejaVuSans-30\"/>\r\n       <use x=\"190.869141\" xlink:href=\"#DejaVuSans-30\"/>\r\n      </g>\r\n     </g>\r\n    </g>\r\n    <g id=\"xtick_3\">\r\n     <g id=\"line2d_3\">\r\n      <g>\r\n       <use style=\"stroke:#000000;stroke-width:0.8;\" x=\"207.742955\" xlink:href=\"#m241274c7d4\" y=\"333.36\"/>\r\n      </g>\r\n     </g>\r\n     <g id=\"text_3\">\r\n      <!-- 4000 -->\r\n      <g transform=\"translate(195.017955 347.958438)scale(0.1 -0.1)\">\r\n       <defs>\r\n        <path d=\"M 2419 4116 \r\nL 825 1625 \r\nL 2419 1625 \r\nL 2419 4116 \r\nz\r\nM 2253 4666 \r\nL 3047 4666 \r\nL 3047 1625 \r\nL 3713 1625 \r\nL 3713 1100 \r\nL 3047 1100 \r\nL 3047 0 \r\nL 2419 0 \r\nL 2419 1100 \r\nL 313 1100 \r\nL 313 1709 \r\nL 2253 4666 \r\nz\r\n\" id=\"DejaVuSans-34\" transform=\"scale(0.015625)\"/>\r\n       </defs>\r\n       <use xlink:href=\"#DejaVuSans-34\"/>\r\n       <use x=\"63.623047\" xlink:href=\"#DejaVuSans-30\"/>\r\n       <use x=\"127.246094\" xlink:href=\"#DejaVuSans-30\"/>\r\n       <use x=\"190.869141\" xlink:href=\"#DejaVuSans-30\"/>\r\n      </g>\r\n     </g>\r\n    </g>\r\n    <g id=\"xtick_4\">\r\n     <g id=\"line2d_4\">\r\n      <g>\r\n       <use style=\"stroke:#000000;stroke-width:0.8;\" x=\"271.623665\" xlink:href=\"#m241274c7d4\" y=\"333.36\"/>\r\n      </g>\r\n     </g>\r\n     <g id=\"text_4\">\r\n      <!-- 6000 -->\r\n      <g transform=\"translate(258.898665 347.958438)scale(0.1 -0.1)\">\r\n       <defs>\r\n        <path d=\"M 2113 2584 \r\nQ 1688 2584 1439 2293 \r\nQ 1191 2003 1191 1497 \r\nQ 1191 994 1439 701 \r\nQ 1688 409 2113 409 \r\nQ 2538 409 2786 701 \r\nQ 3034 994 3034 1497 \r\nQ 3034 2003 2786 2293 \r\nQ 2538 2584 2113 2584 \r\nz\r\nM 3366 4563 \r\nL 3366 3988 \r\nQ 3128 4100 2886 4159 \r\nQ 2644 4219 2406 4219 \r\nQ 1781 4219 1451 3797 \r\nQ 1122 3375 1075 2522 \r\nQ 1259 2794 1537 2939 \r\nQ 1816 3084 2150 3084 \r\nQ 2853 3084 3261 2657 \r\nQ 3669 2231 3669 1497 \r\nQ 3669 778 3244 343 \r\nQ 2819 -91 2113 -91 \r\nQ 1303 -91 875 529 \r\nQ 447 1150 447 2328 \r\nQ 447 3434 972 4092 \r\nQ 1497 4750 2381 4750 \r\nQ 2619 4750 2861 4703 \r\nQ 3103 4656 3366 4563 \r\nz\r\n\" id=\"DejaVuSans-36\" transform=\"scale(0.015625)\"/>\r\n       </defs>\r\n       <use xlink:href=\"#DejaVuSans-36\"/>\r\n       <use x=\"63.623047\" xlink:href=\"#DejaVuSans-30\"/>\r\n       <use x=\"127.246094\" xlink:href=\"#DejaVuSans-30\"/>\r\n       <use x=\"190.869141\" xlink:href=\"#DejaVuSans-30\"/>\r\n      </g>\r\n     </g>\r\n    </g>\r\n    <g id=\"xtick_5\">\r\n     <g id=\"line2d_5\">\r\n      <g>\r\n       <use style=\"stroke:#000000;stroke-width:0.8;\" x=\"335.504375\" xlink:href=\"#m241274c7d4\" y=\"333.36\"/>\r\n      </g>\r\n     </g>\r\n     <g id=\"text_5\">\r\n      <!-- 8000 -->\r\n      <g transform=\"translate(322.779375 347.958438)scale(0.1 -0.1)\">\r\n       <defs>\r\n        <path d=\"M 2034 2216 \r\nQ 1584 2216 1326 1975 \r\nQ 1069 1734 1069 1313 \r\nQ 1069 891 1326 650 \r\nQ 1584 409 2034 409 \r\nQ 2484 409 2743 651 \r\nQ 3003 894 3003 1313 \r\nQ 3003 1734 2745 1975 \r\nQ 2488 2216 2034 2216 \r\nz\r\nM 1403 2484 \r\nQ 997 2584 770 2862 \r\nQ 544 3141 544 3541 \r\nQ 544 4100 942 4425 \r\nQ 1341 4750 2034 4750 \r\nQ 2731 4750 3128 4425 \r\nQ 3525 4100 3525 3541 \r\nQ 3525 3141 3298 2862 \r\nQ 3072 2584 2669 2484 \r\nQ 3125 2378 3379 2068 \r\nQ 3634 1759 3634 1313 \r\nQ 3634 634 3220 271 \r\nQ 2806 -91 2034 -91 \r\nQ 1263 -91 848 271 \r\nQ 434 634 434 1313 \r\nQ 434 1759 690 2068 \r\nQ 947 2378 1403 2484 \r\nz\r\nM 1172 3481 \r\nQ 1172 3119 1398 2916 \r\nQ 1625 2713 2034 2713 \r\nQ 2441 2713 2670 2916 \r\nQ 2900 3119 2900 3481 \r\nQ 2900 3844 2670 4047 \r\nQ 2441 4250 2034 4250 \r\nQ 1625 4250 1398 4047 \r\nQ 1172 3844 1172 3481 \r\nz\r\n\" id=\"DejaVuSans-38\" transform=\"scale(0.015625)\"/>\r\n       </defs>\r\n       <use xlink:href=\"#DejaVuSans-38\"/>\r\n       <use x=\"63.623047\" xlink:href=\"#DejaVuSans-30\"/>\r\n       <use x=\"127.246094\" xlink:href=\"#DejaVuSans-30\"/>\r\n       <use x=\"190.869141\" xlink:href=\"#DejaVuSans-30\"/>\r\n      </g>\r\n     </g>\r\n    </g>\r\n    <g id=\"xtick_6\">\r\n     <g id=\"line2d_6\">\r\n      <g>\r\n       <use style=\"stroke:#000000;stroke-width:0.8;\" x=\"399.385085\" xlink:href=\"#m241274c7d4\" y=\"333.36\"/>\r\n      </g>\r\n     </g>\r\n     <g id=\"text_6\">\r\n      <!-- 10000 -->\r\n      <g transform=\"translate(383.478835 347.958438)scale(0.1 -0.1)\">\r\n       <defs>\r\n        <path d=\"M 794 531 \r\nL 1825 531 \r\nL 1825 4091 \r\nL 703 3866 \r\nL 703 4441 \r\nL 1819 4666 \r\nL 2450 4666 \r\nL 2450 531 \r\nL 3481 531 \r\nL 3481 0 \r\nL 794 0 \r\nL 794 531 \r\nz\r\n\" id=\"DejaVuSans-31\" transform=\"scale(0.015625)\"/>\r\n       </defs>\r\n       <use xlink:href=\"#DejaVuSans-31\"/>\r\n       <use x=\"63.623047\" xlink:href=\"#DejaVuSans-30\"/>\r\n       <use x=\"127.246094\" xlink:href=\"#DejaVuSans-30\"/>\r\n       <use x=\"190.869141\" xlink:href=\"#DejaVuSans-30\"/>\r\n       <use x=\"254.492188\" xlink:href=\"#DejaVuSans-30\"/>\r\n      </g>\r\n     </g>\r\n    </g>\r\n    <g id=\"xtick_7\">\r\n     <g id=\"line2d_7\">\r\n      <g>\r\n       <use style=\"stroke:#000000;stroke-width:0.8;\" x=\"463.265795\" xlink:href=\"#m241274c7d4\" y=\"333.36\"/>\r\n      </g>\r\n     </g>\r\n     <g id=\"text_7\">\r\n      <!-- 12000 -->\r\n      <g transform=\"translate(447.359545 347.958438)scale(0.1 -0.1)\">\r\n       <use xlink:href=\"#DejaVuSans-31\"/>\r\n       <use x=\"63.623047\" xlink:href=\"#DejaVuSans-32\"/>\r\n       <use x=\"127.246094\" xlink:href=\"#DejaVuSans-30\"/>\r\n       <use x=\"190.869141\" xlink:href=\"#DejaVuSans-30\"/>\r\n       <use x=\"254.492188\" xlink:href=\"#DejaVuSans-30\"/>\r\n      </g>\r\n     </g>\r\n    </g>\r\n    <g id=\"text_8\">\r\n     <!-- Predicted Sales Hl -->\r\n     <g transform=\"translate(237.784375 361.636562)scale(0.1 -0.1)\">\r\n      <defs>\r\n       <path d=\"M 1259 4147 \r\nL 1259 2394 \r\nL 2053 2394 \r\nQ 2494 2394 2734 2622 \r\nQ 2975 2850 2975 3272 \r\nQ 2975 3691 2734 3919 \r\nQ 2494 4147 2053 4147 \r\nL 1259 4147 \r\nz\r\nM 628 4666 \r\nL 2053 4666 \r\nQ 2838 4666 3239 4311 \r\nQ 3641 3956 3641 3272 \r\nQ 3641 2581 3239 2228 \r\nQ 2838 1875 2053 1875 \r\nL 1259 1875 \r\nL 1259 0 \r\nL 628 0 \r\nL 628 4666 \r\nz\r\n\" id=\"DejaVuSans-50\" transform=\"scale(0.015625)\"/>\r\n       <path d=\"M 2631 2963 \r\nQ 2534 3019 2420 3045 \r\nQ 2306 3072 2169 3072 \r\nQ 1681 3072 1420 2755 \r\nQ 1159 2438 1159 1844 \r\nL 1159 0 \r\nL 581 0 \r\nL 581 3500 \r\nL 1159 3500 \r\nL 1159 2956 \r\nQ 1341 3275 1631 3429 \r\nQ 1922 3584 2338 3584 \r\nQ 2397 3584 2469 3576 \r\nQ 2541 3569 2628 3553 \r\nL 2631 2963 \r\nz\r\n\" id=\"DejaVuSans-72\" transform=\"scale(0.015625)\"/>\r\n       <path d=\"M 3597 1894 \r\nL 3597 1613 \r\nL 953 1613 \r\nQ 991 1019 1311 708 \r\nQ 1631 397 2203 397 \r\nQ 2534 397 2845 478 \r\nQ 3156 559 3463 722 \r\nL 3463 178 \r\nQ 3153 47 2828 -22 \r\nQ 2503 -91 2169 -91 \r\nQ 1331 -91 842 396 \r\nQ 353 884 353 1716 \r\nQ 353 2575 817 3079 \r\nQ 1281 3584 2069 3584 \r\nQ 2775 3584 3186 3129 \r\nQ 3597 2675 3597 1894 \r\nz\r\nM 3022 2063 \r\nQ 3016 2534 2758 2815 \r\nQ 2500 3097 2075 3097 \r\nQ 1594 3097 1305 2825 \r\nQ 1016 2553 972 2059 \r\nL 3022 2063 \r\nz\r\n\" id=\"DejaVuSans-65\" transform=\"scale(0.015625)\"/>\r\n       <path d=\"M 2906 2969 \r\nL 2906 4863 \r\nL 3481 4863 \r\nL 3481 0 \r\nL 2906 0 \r\nL 2906 525 \r\nQ 2725 213 2448 61 \r\nQ 2172 -91 1784 -91 \r\nQ 1150 -91 751 415 \r\nQ 353 922 353 1747 \r\nQ 353 2572 751 3078 \r\nQ 1150 3584 1784 3584 \r\nQ 2172 3584 2448 3432 \r\nQ 2725 3281 2906 2969 \r\nz\r\nM 947 1747 \r\nQ 947 1113 1208 752 \r\nQ 1469 391 1925 391 \r\nQ 2381 391 2643 752 \r\nQ 2906 1113 2906 1747 \r\nQ 2906 2381 2643 2742 \r\nQ 2381 3103 1925 3103 \r\nQ 1469 3103 1208 2742 \r\nQ 947 2381 947 1747 \r\nz\r\n\" id=\"DejaVuSans-64\" transform=\"scale(0.015625)\"/>\r\n       <path d=\"M 603 3500 \r\nL 1178 3500 \r\nL 1178 0 \r\nL 603 0 \r\nL 603 3500 \r\nz\r\nM 603 4863 \r\nL 1178 4863 \r\nL 1178 4134 \r\nL 603 4134 \r\nL 603 4863 \r\nz\r\n\" id=\"DejaVuSans-69\" transform=\"scale(0.015625)\"/>\r\n       <path d=\"M 3122 3366 \r\nL 3122 2828 \r\nQ 2878 2963 2633 3030 \r\nQ 2388 3097 2138 3097 \r\nQ 1578 3097 1268 2742 \r\nQ 959 2388 959 1747 \r\nQ 959 1106 1268 751 \r\nQ 1578 397 2138 397 \r\nQ 2388 397 2633 464 \r\nQ 2878 531 3122 666 \r\nL 3122 134 \r\nQ 2881 22 2623 -34 \r\nQ 2366 -91 2075 -91 \r\nQ 1284 -91 818 406 \r\nQ 353 903 353 1747 \r\nQ 353 2603 823 3093 \r\nQ 1294 3584 2113 3584 \r\nQ 2378 3584 2631 3529 \r\nQ 2884 3475 3122 3366 \r\nz\r\n\" id=\"DejaVuSans-63\" transform=\"scale(0.015625)\"/>\r\n       <path d=\"M 1172 4494 \r\nL 1172 3500 \r\nL 2356 3500 \r\nL 2356 3053 \r\nL 1172 3053 \r\nL 1172 1153 \r\nQ 1172 725 1289 603 \r\nQ 1406 481 1766 481 \r\nL 2356 481 \r\nL 2356 0 \r\nL 1766 0 \r\nQ 1100 0 847 248 \r\nQ 594 497 594 1153 \r\nL 594 3053 \r\nL 172 3053 \r\nL 172 3500 \r\nL 594 3500 \r\nL 594 4494 \r\nL 1172 4494 \r\nz\r\n\" id=\"DejaVuSans-74\" transform=\"scale(0.015625)\"/>\r\n       <path id=\"DejaVuSans-20\" transform=\"scale(0.015625)\"/>\r\n       <path d=\"M 3425 4513 \r\nL 3425 3897 \r\nQ 3066 4069 2747 4153 \r\nQ 2428 4238 2131 4238 \r\nQ 1616 4238 1336 4038 \r\nQ 1056 3838 1056 3469 \r\nQ 1056 3159 1242 3001 \r\nQ 1428 2844 1947 2747 \r\nL 2328 2669 \r\nQ 3034 2534 3370 2195 \r\nQ 3706 1856 3706 1288 \r\nQ 3706 609 3251 259 \r\nQ 2797 -91 1919 -91 \r\nQ 1588 -91 1214 -16 \r\nQ 841 59 441 206 \r\nL 441 856 \r\nQ 825 641 1194 531 \r\nQ 1563 422 1919 422 \r\nQ 2459 422 2753 634 \r\nQ 3047 847 3047 1241 \r\nQ 3047 1584 2836 1778 \r\nQ 2625 1972 2144 2069 \r\nL 1759 2144 \r\nQ 1053 2284 737 2584 \r\nQ 422 2884 422 3419 \r\nQ 422 4038 858 4394 \r\nQ 1294 4750 2059 4750 \r\nQ 2388 4750 2728 4690 \r\nQ 3069 4631 3425 4513 \r\nz\r\n\" id=\"DejaVuSans-53\" transform=\"scale(0.015625)\"/>\r\n       <path d=\"M 2194 1759 \r\nQ 1497 1759 1228 1600 \r\nQ 959 1441 959 1056 \r\nQ 959 750 1161 570 \r\nQ 1363 391 1709 391 \r\nQ 2188 391 2477 730 \r\nQ 2766 1069 2766 1631 \r\nL 2766 1759 \r\nL 2194 1759 \r\nz\r\nM 3341 1997 \r\nL 3341 0 \r\nL 2766 0 \r\nL 2766 531 \r\nQ 2569 213 2275 61 \r\nQ 1981 -91 1556 -91 \r\nQ 1019 -91 701 211 \r\nQ 384 513 384 1019 \r\nQ 384 1609 779 1909 \r\nQ 1175 2209 1959 2209 \r\nL 2766 2209 \r\nL 2766 2266 \r\nQ 2766 2663 2505 2880 \r\nQ 2244 3097 1772 3097 \r\nQ 1472 3097 1187 3025 \r\nQ 903 2953 641 2809 \r\nL 641 3341 \r\nQ 956 3463 1253 3523 \r\nQ 1550 3584 1831 3584 \r\nQ 2591 3584 2966 3190 \r\nQ 3341 2797 3341 1997 \r\nz\r\n\" id=\"DejaVuSans-61\" transform=\"scale(0.015625)\"/>\r\n       <path d=\"M 603 4863 \r\nL 1178 4863 \r\nL 1178 0 \r\nL 603 0 \r\nL 603 4863 \r\nz\r\n\" id=\"DejaVuSans-6c\" transform=\"scale(0.015625)\"/>\r\n       <path d=\"M 2834 3397 \r\nL 2834 2853 \r\nQ 2591 2978 2328 3040 \r\nQ 2066 3103 1784 3103 \r\nQ 1356 3103 1142 2972 \r\nQ 928 2841 928 2578 \r\nQ 928 2378 1081 2264 \r\nQ 1234 2150 1697 2047 \r\nL 1894 2003 \r\nQ 2506 1872 2764 1633 \r\nQ 3022 1394 3022 966 \r\nQ 3022 478 2636 193 \r\nQ 2250 -91 1575 -91 \r\nQ 1294 -91 989 -36 \r\nQ 684 19 347 128 \r\nL 347 722 \r\nQ 666 556 975 473 \r\nQ 1284 391 1588 391 \r\nQ 1994 391 2212 530 \r\nQ 2431 669 2431 922 \r\nQ 2431 1156 2273 1281 \r\nQ 2116 1406 1581 1522 \r\nL 1381 1569 \r\nQ 847 1681 609 1914 \r\nQ 372 2147 372 2553 \r\nQ 372 3047 722 3315 \r\nQ 1072 3584 1716 3584 \r\nQ 2034 3584 2315 3537 \r\nQ 2597 3491 2834 3397 \r\nz\r\n\" id=\"DejaVuSans-73\" transform=\"scale(0.015625)\"/>\r\n       <path d=\"M 628 4666 \r\nL 1259 4666 \r\nL 1259 2753 \r\nL 3553 2753 \r\nL 3553 4666 \r\nL 4184 4666 \r\nL 4184 0 \r\nL 3553 0 \r\nL 3553 2222 \r\nL 1259 2222 \r\nL 1259 0 \r\nL 628 0 \r\nL 628 4666 \r\nz\r\n\" id=\"DejaVuSans-48\" transform=\"scale(0.015625)\"/>\r\n      </defs>\r\n      <use xlink:href=\"#DejaVuSans-50\"/>\r\n      <use x=\"58.552734\" xlink:href=\"#DejaVuSans-72\"/>\r\n      <use x=\"97.416016\" xlink:href=\"#DejaVuSans-65\"/>\r\n      <use x=\"158.939453\" xlink:href=\"#DejaVuSans-64\"/>\r\n      <use x=\"222.416016\" xlink:href=\"#DejaVuSans-69\"/>\r\n      <use x=\"250.199219\" xlink:href=\"#DejaVuSans-63\"/>\r\n      <use x=\"305.179688\" xlink:href=\"#DejaVuSans-74\"/>\r\n      <use x=\"344.388672\" xlink:href=\"#DejaVuSans-65\"/>\r\n      <use x=\"405.912109\" xlink:href=\"#DejaVuSans-64\"/>\r\n      <use x=\"469.388672\" xlink:href=\"#DejaVuSans-20\"/>\r\n      <use x=\"501.175781\" xlink:href=\"#DejaVuSans-53\"/>\r\n      <use x=\"564.652344\" xlink:href=\"#DejaVuSans-61\"/>\r\n      <use x=\"625.931641\" xlink:href=\"#DejaVuSans-6c\"/>\r\n      <use x=\"653.714844\" xlink:href=\"#DejaVuSans-65\"/>\r\n      <use x=\"715.238281\" xlink:href=\"#DejaVuSans-73\"/>\r\n      <use x=\"767.337891\" xlink:href=\"#DejaVuSans-20\"/>\r\n      <use x=\"799.125\" xlink:href=\"#DejaVuSans-48\"/>\r\n      <use x=\"874.320312\" xlink:href=\"#DejaVuSans-6c\"/>\r\n     </g>\r\n    </g>\r\n   </g>\r\n   <g id=\"matplotlib.axis_2\">\r\n    <g id=\"ytick_1\">\r\n     <g id=\"line2d_8\">\r\n      <defs>\r\n       <path d=\"M 0 0 \r\nL -3.5 0 \r\n\" id=\"mec3c579d70\" style=\"stroke:#000000;stroke-width:0.8;\"/>\r\n      </defs>\r\n      <g>\r\n       <use style=\"stroke:#000000;stroke-width:0.8;\" x=\"59.690625\" xlink:href=\"#mec3c579d70\" y=\"318.534545\"/>\r\n      </g>\r\n     </g>\r\n     <g id=\"text_9\">\r\n      <!-- 0 -->\r\n      <g transform=\"translate(46.328125 322.333764)scale(0.1 -0.1)\">\r\n       <use xlink:href=\"#DejaVuSans-30\"/>\r\n      </g>\r\n     </g>\r\n    </g>\r\n    <g id=\"ytick_2\">\r\n     <g id=\"line2d_9\">\r\n      <g>\r\n       <use style=\"stroke:#000000;stroke-width:0.8;\" x=\"59.690625\" xlink:href=\"#mec3c579d70\" y=\"271.860414\"/>\r\n      </g>\r\n     </g>\r\n     <g id=\"text_10\">\r\n      <!-- 2000 -->\r\n      <g transform=\"translate(27.240625 275.659632)scale(0.1 -0.1)\">\r\n       <use xlink:href=\"#DejaVuSans-32\"/>\r\n       <use x=\"63.623047\" xlink:href=\"#DejaVuSans-30\"/>\r\n       <use x=\"127.246094\" xlink:href=\"#DejaVuSans-30\"/>\r\n       <use x=\"190.869141\" xlink:href=\"#DejaVuSans-30\"/>\r\n      </g>\r\n     </g>\r\n    </g>\r\n    <g id=\"ytick_3\">\r\n     <g id=\"line2d_10\">\r\n      <g>\r\n       <use style=\"stroke:#000000;stroke-width:0.8;\" x=\"59.690625\" xlink:href=\"#mec3c579d70\" y=\"225.186282\"/>\r\n      </g>\r\n     </g>\r\n     <g id=\"text_11\">\r\n      <!-- 4000 -->\r\n      <g transform=\"translate(27.240625 228.985501)scale(0.1 -0.1)\">\r\n       <use xlink:href=\"#DejaVuSans-34\"/>\r\n       <use x=\"63.623047\" xlink:href=\"#DejaVuSans-30\"/>\r\n       <use x=\"127.246094\" xlink:href=\"#DejaVuSans-30\"/>\r\n       <use x=\"190.869141\" xlink:href=\"#DejaVuSans-30\"/>\r\n      </g>\r\n     </g>\r\n    </g>\r\n    <g id=\"ytick_4\">\r\n     <g id=\"line2d_11\">\r\n      <g>\r\n       <use style=\"stroke:#000000;stroke-width:0.8;\" x=\"59.690625\" xlink:href=\"#mec3c579d70\" y=\"178.51215\"/>\r\n      </g>\r\n     </g>\r\n     <g id=\"text_12\">\r\n      <!-- 6000 -->\r\n      <g transform=\"translate(27.240625 182.311369)scale(0.1 -0.1)\">\r\n       <use xlink:href=\"#DejaVuSans-36\"/>\r\n       <use x=\"63.623047\" xlink:href=\"#DejaVuSans-30\"/>\r\n       <use x=\"127.246094\" xlink:href=\"#DejaVuSans-30\"/>\r\n       <use x=\"190.869141\" xlink:href=\"#DejaVuSans-30\"/>\r\n      </g>\r\n     </g>\r\n    </g>\r\n    <g id=\"ytick_5\">\r\n     <g id=\"line2d_12\">\r\n      <g>\r\n       <use style=\"stroke:#000000;stroke-width:0.8;\" x=\"59.690625\" xlink:href=\"#mec3c579d70\" y=\"131.838018\"/>\r\n      </g>\r\n     </g>\r\n     <g id=\"text_13\">\r\n      <!-- 8000 -->\r\n      <g transform=\"translate(27.240625 135.637237)scale(0.1 -0.1)\">\r\n       <use xlink:href=\"#DejaVuSans-38\"/>\r\n       <use x=\"63.623047\" xlink:href=\"#DejaVuSans-30\"/>\r\n       <use x=\"127.246094\" xlink:href=\"#DejaVuSans-30\"/>\r\n       <use x=\"190.869141\" xlink:href=\"#DejaVuSans-30\"/>\r\n      </g>\r\n     </g>\r\n    </g>\r\n    <g id=\"ytick_6\">\r\n     <g id=\"line2d_13\">\r\n      <g>\r\n       <use style=\"stroke:#000000;stroke-width:0.8;\" x=\"59.690625\" xlink:href=\"#mec3c579d70\" y=\"85.163886\"/>\r\n      </g>\r\n     </g>\r\n     <g id=\"text_14\">\r\n      <!-- 10000 -->\r\n      <g transform=\"translate(20.878125 88.963105)scale(0.1 -0.1)\">\r\n       <use xlink:href=\"#DejaVuSans-31\"/>\r\n       <use x=\"63.623047\" xlink:href=\"#DejaVuSans-30\"/>\r\n       <use x=\"127.246094\" xlink:href=\"#DejaVuSans-30\"/>\r\n       <use x=\"190.869141\" xlink:href=\"#DejaVuSans-30\"/>\r\n       <use x=\"254.492188\" xlink:href=\"#DejaVuSans-30\"/>\r\n      </g>\r\n     </g>\r\n    </g>\r\n    <g id=\"ytick_7\">\r\n     <g id=\"line2d_14\">\r\n      <g>\r\n       <use style=\"stroke:#000000;stroke-width:0.8;\" x=\"59.690625\" xlink:href=\"#mec3c579d70\" y=\"38.489755\"/>\r\n      </g>\r\n     </g>\r\n     <g id=\"text_15\">\r\n      <!-- 12000 -->\r\n      <g transform=\"translate(20.878125 42.288973)scale(0.1 -0.1)\">\r\n       <use xlink:href=\"#DejaVuSans-31\"/>\r\n       <use x=\"63.623047\" xlink:href=\"#DejaVuSans-32\"/>\r\n       <use x=\"127.246094\" xlink:href=\"#DejaVuSans-30\"/>\r\n       <use x=\"190.869141\" xlink:href=\"#DejaVuSans-30\"/>\r\n       <use x=\"254.492188\" xlink:href=\"#DejaVuSans-30\"/>\r\n      </g>\r\n     </g>\r\n    </g>\r\n    <g id=\"text_16\">\r\n     <!-- True Sales Hl -->\r\n     <g transform=\"translate(14.798438 202.533125)rotate(-90)scale(0.1 -0.1)\">\r\n      <defs>\r\n       <path d=\"M -19 4666 \r\nL 3928 4666 \r\nL 3928 4134 \r\nL 2272 4134 \r\nL 2272 0 \r\nL 1638 0 \r\nL 1638 4134 \r\nL -19 4134 \r\nL -19 4666 \r\nz\r\n\" id=\"DejaVuSans-54\" transform=\"scale(0.015625)\"/>\r\n       <path d=\"M 544 1381 \r\nL 544 3500 \r\nL 1119 3500 \r\nL 1119 1403 \r\nQ 1119 906 1312 657 \r\nQ 1506 409 1894 409 \r\nQ 2359 409 2629 706 \r\nQ 2900 1003 2900 1516 \r\nL 2900 3500 \r\nL 3475 3500 \r\nL 3475 0 \r\nL 2900 0 \r\nL 2900 538 \r\nQ 2691 219 2414 64 \r\nQ 2138 -91 1772 -91 \r\nQ 1169 -91 856 284 \r\nQ 544 659 544 1381 \r\nz\r\nM 1991 3584 \r\nL 1991 3584 \r\nz\r\n\" id=\"DejaVuSans-75\" transform=\"scale(0.015625)\"/>\r\n      </defs>\r\n      <use xlink:href=\"#DejaVuSans-54\"/>\r\n      <use x=\"46.333984\" xlink:href=\"#DejaVuSans-72\"/>\r\n      <use x=\"87.447266\" xlink:href=\"#DejaVuSans-75\"/>\r\n      <use x=\"150.826172\" xlink:href=\"#DejaVuSans-65\"/>\r\n      <use x=\"212.349609\" xlink:href=\"#DejaVuSans-20\"/>\r\n      <use x=\"244.136719\" xlink:href=\"#DejaVuSans-53\"/>\r\n      <use x=\"307.613281\" xlink:href=\"#DejaVuSans-61\"/>\r\n      <use x=\"368.892578\" xlink:href=\"#DejaVuSans-6c\"/>\r\n      <use x=\"396.675781\" xlink:href=\"#DejaVuSans-65\"/>\r\n      <use x=\"458.199219\" xlink:href=\"#DejaVuSans-73\"/>\r\n      <use x=\"510.298828\" xlink:href=\"#DejaVuSans-20\"/>\r\n      <use x=\"542.085938\" xlink:href=\"#DejaVuSans-48\"/>\r\n      <use x=\"617.28125\" xlink:href=\"#DejaVuSans-6c\"/>\r\n     </g>\r\n    </g>\r\n   </g>\r\n   <g id=\"line2d_15\">\r\n    <path clip-path=\"url(#pd23abc66fb)\" d=\"M 79.981534 318.534545 \r\nL 485.799716 22.025455 \r\n\" style=\"fill:none;stroke:#000000;stroke-dasharray:7.4,3.2;stroke-dashoffset:0;stroke-width:2;\"/>\r\n   </g>\r\n   <g id=\"patch_3\">\r\n    <path d=\"M 59.690625 333.36 \r\nL 59.690625 7.2 \r\n\" style=\"fill:none;stroke:#000000;stroke-linecap:square;stroke-linejoin:miter;stroke-width:0.8;\"/>\r\n   </g>\r\n   <g id=\"patch_4\">\r\n    <path d=\"M 506.090625 333.36 \r\nL 506.090625 7.2 \r\n\" style=\"fill:none;stroke:#000000;stroke-linecap:square;stroke-linejoin:miter;stroke-width:0.8;\"/>\r\n   </g>\r\n   <g id=\"patch_5\">\r\n    <path d=\"M 59.690625 333.36 \r\nL 506.090625 333.36 \r\n\" style=\"fill:none;stroke:#000000;stroke-linecap:square;stroke-linejoin:miter;stroke-width:0.8;\"/>\r\n   </g>\r\n   <g id=\"patch_6\">\r\n    <path d=\"M 59.690625 7.2 \r\nL 506.090625 7.2 \r\n\" style=\"fill:none;stroke:#000000;stroke-linecap:square;stroke-linejoin:miter;stroke-width:0.8;\"/>\r\n   </g>\r\n  </g>\r\n </g>\r\n <defs>\r\n  <clipPath id=\"pd23abc66fb\">\r\n   <rect height=\"326.16\" width=\"446.4\" x=\"59.690625\" y=\"7.2\"/>\r\n  </clipPath>\r\n </defs>\r\n</svg>\r\n",
      "image/png": "[encoded data removed]"
     },
     "metadata": {
      "needs_background": "light"
     }
    }
   ],
   "source": [
    "show_pred(y, y_pred, \"Predicted Sales Hl\", \"True Sales Hl\")"
   ]
  },
  {
   "source": [
    "## Save Result "
   ],
   "cell_type": "markdown",
   "metadata": {}
  },
  {
   "cell_type": "code",
   "execution_count": 144,
   "metadata": {},
   "outputs": [],
   "source": [
    "result = X_raw.copy(deep=True)\n",
    "result[\"TrueSalesHl\"] = y\n",
    "result[\"PredSalesHl_ML\"] = y_pred\n",
    "\n",
    "dir_path = os.path.dirname(RESULT_CSV_PATH)\n",
    "if (not os.path.isdir(dir_path)):\n",
    "    os.mkdir(dir_path)\n",
    " \n",
    "result.to_csv(RESULT_CSV_PATH, index=False)\n",
    "result.to_excel(RESULT_EXCEL_PATH, index=False)"
   ]
  }
 ]
}