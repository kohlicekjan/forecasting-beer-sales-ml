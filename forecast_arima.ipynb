{
 "metadata": {
  "language_info": {
   "codemirror_mode": {
    "name": "ipython",
    "version": 3
   },
   "file_extension": ".py",
   "mimetype": "text/x-python",
   "name": "python",
   "nbconvert_exporter": "python",
   "pygments_lexer": "ipython3",
   "version": 3
  },
  "orig_nbformat": 2
 },
 "nbformat": 4,
 "nbformat_minor": 2,
 "cells": [
  {
   "source": [
    "# Forecasting beer sales - arima"
   ],
   "cell_type": "markdown",
   "metadata": {}
  },
  {
   "cell_type": "code",
   "execution_count": null,
   "metadata": {},
   "outputs": [],
   "source": [
    "from pmdarima.arima import auto_arima\n",
    "from pmdarima.datasets import load_lynx\n",
    "import numpy as np\n",
    "import joblib\n",
    "import pickle"
   ]
  },
  {
   "cell_type": "code",
   "execution_count": null,
   "metadata": {},
   "outputs": [],
   "source": [
    "y = load_lynx()\n",
    "arima = auto_arima(y, seasonal=True)\n",
    "\n",
    "# Serialize with Pickle\n",
    "with open('arima.pkl', 'wb') as pkl:\n",
    "    pickle.dump(arima, pkl)\n",
    "\n",
    "# You can still make predictions from the model at this point\n",
    "arima.predict(n_periods=5)\n",
    "\n",
    "# Now read it back and make a prediction\n",
    "with open('arima.pkl', 'rb') as pkl:\n",
    "    pickle_preds = pickle.load(pkl).predict(n_periods=5)\n",
    "\n",
    "# Or maybe joblib tickles your fancy\n",
    "joblib.dump(arima, 'arima.pkl')\n",
    "joblib_preds = joblib.load('arima.pkl').predict(n_periods=5)\n",
    "\n",
    "# show they're the same\n",
    "np.allclose(pickle_preds, joblib_preds)"
   ]
  }
 ]
}