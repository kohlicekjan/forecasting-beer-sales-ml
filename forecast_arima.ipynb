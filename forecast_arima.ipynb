{
 "metadata": {
  "language_info": {
   "codemirror_mode": {
    "name": "ipython",
    "version": 3
   },
   "file_extension": ".py",
   "mimetype": "text/x-python",
   "name": "python",
   "nbconvert_exporter": "python",
   "pygments_lexer": "ipython3",
   "version": "3.9.1"
  },
  "orig_nbformat": 2,
  "kernelspec": {
   "name": "python391jvsc74a57bd0ac59ebe37160ed0dfa835113d9b8498d9f09ceb179beaac4002f036b9467c963",
   "display_name": "Python 3.9.1 64-bit"
  },
  "metadata": {
   "interpreter": {
    "hash": "ac59ebe37160ed0dfa835113d9b8498d9f09ceb179beaac4002f036b9467c963"
   }
  }
 },
 "nbformat": 4,
 "nbformat_minor": 2,
 "cells": [
  {
   "source": [
    "# Forecasting beer sales - arima"
   ],
   "cell_type": "markdown",
   "metadata": {}
  },
  {
   "cell_type": "code",
   "execution_count": 53,
   "metadata": {},
   "outputs": [],
   "source": [
    "import pandas as pd\n",
    "import numpy as np\n",
    "import os\n",
    "\n",
    "import pmdarima as pm\n",
    "\n",
    "from pmdarima.arima import auto_arima\n",
    "from pmdarima.datasets import load_lynx\n",
    "import joblib\n",
    "import pickle"
   ]
  },
  {
   "cell_type": "code",
   "execution_count": 54,
   "metadata": {},
   "outputs": [],
   "source": [
    "DATASET_NAME = 'off-trade' # all_cz, off-trade_cz, on-trade_cz\n",
    "\n",
    "DATA_PATH = f'./data/{DATASET_NAME}_data.csv'\n",
    "\n",
    "MODEL_PATH = f'./models/{DATASET_NAME}_model.joblib'\n",
    "\n",
    "RESULT_CSV_PATH = f'./results/{DATASET_NAME}_result.csv'\n",
    "RESULT_EXCEL_PATH = f'./results/{DATASET_NAME}_result.xlsx'"
   ]
  },
  {
   "cell_type": "code",
   "execution_count": 62,
   "metadata": {},
   "outputs": [
    {
     "output_type": "execute_result",
     "data": {
      "text/plain": [
       "            SkuShort ProductGroup PrimaryPack Country  Year  Week  \\\n",
       "Date                                                                \n",
       "2016-01-04      1015   CLEAR BEER          RB      CZ  2016     1   \n",
       "2016-01-04      1016   CLEAR BEER          RB      CZ  2016     1   \n",
       "2016-01-04      1022   CLEAR BEER          RB      CZ  2016     1   \n",
       "2016-01-04      1026   CLEAR BEER          RB      CZ  2016     1   \n",
       "2016-01-04      1027   CLEAR BEER          RB      CZ  2016     1   \n",
       "\n",
       "            NumberWorkdays   AvgTemp   AvgRain    AvgSun  IsLockdown  PdtHl  \\\n",
       "Date                                                                          \n",
       "2016-01-04               5 -1.164286  0.935714  1.014286           0    NaN   \n",
       "2016-01-04               5 -1.164286  0.935714  1.014286           0    NaN   \n",
       "2016-01-04               5 -1.164286  0.935714  1.014286           0    NaN   \n",
       "2016-01-04               5 -1.164286  0.935714  1.014286           0    NaN   \n",
       "2016-01-04               5 -1.164286  0.935714  1.014286           0    NaN   \n",
       "\n",
       "            PrevWeekPdtHl1        BgtHl  PrevWeekBgtHl1    SalesHl  \\\n",
       "Date                                                                 \n",
       "2016-01-04             NaN  1637.344974             NaN  1805.0000   \n",
       "2016-01-04             NaN   293.344724             NaN   159.1128   \n",
       "2016-01-04             NaN    59.144115             NaN    72.4900   \n",
       "2016-01-04             NaN    10.669629             NaN    23.8392   \n",
       "2016-01-04             NaN     2.109411             NaN     3.9600   \n",
       "\n",
       "            PrevWeekSalesHl1  PrevWeekSalesHl2  OldPredSalesHl       Date  \n",
       "Date                                                                       \n",
       "2016-01-04               NaN               NaN        705.4995 2016-01-04  \n",
       "2016-01-04               NaN               NaN        160.0957 2016-01-04  \n",
       "2016-01-04               NaN               NaN         74.4420 2016-01-04  \n",
       "2016-01-04               NaN               NaN          8.8567 2016-01-04  \n",
       "2016-01-04               NaN               NaN          4.9003 2016-01-04  "
      ],
      "text/html": "<div>\n<style scoped>\n    .dataframe tbody tr th:only-of-type {\n        vertical-align: middle;\n    }\n\n    .dataframe tbody tr th {\n        vertical-align: top;\n    }\n\n    .dataframe thead th {\n        text-align: right;\n    }\n</style>\n<table border=\"1\" class=\"dataframe\">\n  <thead>\n    <tr style=\"text-align: right;\">\n      <th></th>\n      <th>SkuShort</th>\n      <th>ProductGroup</th>\n      <th>PrimaryPack</th>\n      <th>Country</th>\n      <th>Year</th>\n      <th>Week</th>\n      <th>NumberWorkdays</th>\n      <th>AvgTemp</th>\n      <th>AvgRain</th>\n      <th>AvgSun</th>\n      <th>IsLockdown</th>\n      <th>PdtHl</th>\n      <th>PrevWeekPdtHl1</th>\n      <th>BgtHl</th>\n      <th>PrevWeekBgtHl1</th>\n      <th>SalesHl</th>\n      <th>PrevWeekSalesHl1</th>\n      <th>PrevWeekSalesHl2</th>\n      <th>OldPredSalesHl</th>\n      <th>Date</th>\n    </tr>\n    <tr>\n      <th>Date</th>\n      <th></th>\n      <th></th>\n      <th></th>\n      <th></th>\n      <th></th>\n      <th></th>\n      <th></th>\n      <th></th>\n      <th></th>\n      <th></th>\n      <th></th>\n      <th></th>\n      <th></th>\n      <th></th>\n      <th></th>\n      <th></th>\n      <th></th>\n      <th></th>\n      <th></th>\n      <th></th>\n    </tr>\n  </thead>\n  <tbody>\n    <tr>\n      <th>2016-01-04</th>\n      <td>1015</td>\n      <td>CLEAR BEER</td>\n      <td>RB</td>\n      <td>CZ</td>\n      <td>2016</td>\n      <td>1</td>\n      <td>5</td>\n      <td>-1.164286</td>\n      <td>0.935714</td>\n      <td>1.014286</td>\n      <td>0</td>\n      <td>NaN</td>\n      <td>NaN</td>\n      <td>1637.344974</td>\n      <td>NaN</td>\n      <td>1805.0000</td>\n      <td>NaN</td>\n      <td>NaN</td>\n      <td>705.4995</td>\n      <td>2016-01-04</td>\n    </tr>\n    <tr>\n      <th>2016-01-04</th>\n      <td>1016</td>\n      <td>CLEAR BEER</td>\n      <td>RB</td>\n      <td>CZ</td>\n      <td>2016</td>\n      <td>1</td>\n      <td>5</td>\n      <td>-1.164286</td>\n      <td>0.935714</td>\n      <td>1.014286</td>\n      <td>0</td>\n      <td>NaN</td>\n      <td>NaN</td>\n      <td>293.344724</td>\n      <td>NaN</td>\n      <td>159.1128</td>\n      <td>NaN</td>\n      <td>NaN</td>\n      <td>160.0957</td>\n      <td>2016-01-04</td>\n    </tr>\n    <tr>\n      <th>2016-01-04</th>\n      <td>1022</td>\n      <td>CLEAR BEER</td>\n      <td>RB</td>\n      <td>CZ</td>\n      <td>2016</td>\n      <td>1</td>\n      <td>5</td>\n      <td>-1.164286</td>\n      <td>0.935714</td>\n      <td>1.014286</td>\n      <td>0</td>\n      <td>NaN</td>\n      <td>NaN</td>\n      <td>59.144115</td>\n      <td>NaN</td>\n      <td>72.4900</td>\n      <td>NaN</td>\n      <td>NaN</td>\n      <td>74.4420</td>\n      <td>2016-01-04</td>\n    </tr>\n    <tr>\n      <th>2016-01-04</th>\n      <td>1026</td>\n      <td>CLEAR BEER</td>\n      <td>RB</td>\n      <td>CZ</td>\n      <td>2016</td>\n      <td>1</td>\n      <td>5</td>\n      <td>-1.164286</td>\n      <td>0.935714</td>\n      <td>1.014286</td>\n      <td>0</td>\n      <td>NaN</td>\n      <td>NaN</td>\n      <td>10.669629</td>\n      <td>NaN</td>\n      <td>23.8392</td>\n      <td>NaN</td>\n      <td>NaN</td>\n      <td>8.8567</td>\n      <td>2016-01-04</td>\n    </tr>\n    <tr>\n      <th>2016-01-04</th>\n      <td>1027</td>\n      <td>CLEAR BEER</td>\n      <td>RB</td>\n      <td>CZ</td>\n      <td>2016</td>\n      <td>1</td>\n      <td>5</td>\n      <td>-1.164286</td>\n      <td>0.935714</td>\n      <td>1.014286</td>\n      <td>0</td>\n      <td>NaN</td>\n      <td>NaN</td>\n      <td>2.109411</td>\n      <td>NaN</td>\n      <td>3.9600</td>\n      <td>NaN</td>\n      <td>NaN</td>\n      <td>4.9003</td>\n      <td>2016-01-04</td>\n    </tr>\n  </tbody>\n</table>\n</div>"
     },
     "metadata": {},
     "execution_count": 62
    }
   ],
   "source": [
    "data = pd.read_csv(DATA_PATH, header=0, decimal=\",\")\n",
    "\n",
    "data['Date'] = data[['Year','Week']].apply(lambda x : datetime.datetime.strptime(f'{x[0]}-W{x[1]}-1', \"%Y-W%W-%w\"), axis=1)\n",
    "data.set_index(\"Date\", drop=False, inplace=True)\n",
    "\n",
    "data.head()"
   ]
  },
  {
   "cell_type": "code",
   "execution_count": 67,
   "metadata": {},
   "outputs": [
    {
     "output_type": "stream",
     "name": "stdout",
     "text": [
      "<class 'pandas.core.frame.DataFrame'>\nDatetimeIndex: 44195 entries, 2016-01-04 to 2021-01-04\nData columns (total 20 columns):\n #   Column            Non-Null Count  Dtype         \n---  ------            --------------  -----         \n 0   SkuShort          44195 non-null  int64         \n 1   ProductGroup      44195 non-null  object        \n 2   PrimaryPack       44195 non-null  object        \n 3   Country           44195 non-null  object        \n 4   Year              44195 non-null  int64         \n 5   Week              44195 non-null  int64         \n 6   NumberWorkdays    44195 non-null  int64         \n 7   AvgTemp           44195 non-null  float64       \n 8   AvgRain           44195 non-null  float64       \n 9   AvgSun            44195 non-null  float64       \n 10  IsLockdown        44195 non-null  int64         \n 11  PdtHl             29061 non-null  float64       \n 12  PrevWeekPdtHl1    29071 non-null  float64       \n 13  BgtHl             35449 non-null  float64       \n 14  PrevWeekBgtHl1    34515 non-null  float64       \n 15  SalesHl           44195 non-null  float64       \n 16  PrevWeekSalesHl1  42943 non-null  float64       \n 17  PrevWeekSalesHl2  42532 non-null  float64       \n 18  OldPredSalesHl    41267 non-null  float64       \n 19  Date              44195 non-null  datetime64[ns]\ndtypes: datetime64[ns](1), float64(11), int64(5), object(3)\nmemory usage: 7.1+ MB\n"
     ]
    }
   ],
   "source": [
    "data.info()"
   ]
  },
  {
   "cell_type": "code",
   "execution_count": 63,
   "metadata": {},
   "outputs": [
    {
     "output_type": "execute_result",
     "data": {
      "text/plain": [
       "           SkuShort ProductGroup PrimaryPack  Country  Week  NumberWorkdays  \\\n",
       "Date                                                                          \n",
       "2016-01-04     1015         1015        1015        0     1               5   \n",
       "2016-01-04     1016         1016        1016        0     1               5   \n",
       "2016-01-04     1022         1022        1022        0     1               5   \n",
       "2016-01-04     1026         1026        1026        0     1               5   \n",
       "2016-01-04     1027         1027        1027        0     1               5   \n",
       "\n",
       "             AvgTemp   AvgRain    AvgSun  IsLockdown  PdtHl  PrevWeekPdtHl1  \\\n",
       "Date                                                                          \n",
       "2016-01-04 -1.164286  0.935714  1.014286       False    0.0             0.0   \n",
       "2016-01-04 -1.164286  0.935714  1.014286       False    0.0             0.0   \n",
       "2016-01-04 -1.164286  0.935714  1.014286       False    0.0             0.0   \n",
       "2016-01-04 -1.164286  0.935714  1.014286       False    0.0             0.0   \n",
       "2016-01-04 -1.164286  0.935714  1.014286       False    0.0             0.0   \n",
       "\n",
       "                  BgtHl  PrevWeekBgtHl1  PrevWeekSalesHl1  PrevWeekSalesHl2  \\\n",
       "Date                                                                          \n",
       "2016-01-04  1637.344974             0.0               0.0               0.0   \n",
       "2016-01-04   293.344724             0.0               0.0               0.0   \n",
       "2016-01-04    59.144115             0.0               0.0               0.0   \n",
       "2016-01-04    10.669629             0.0               0.0               0.0   \n",
       "2016-01-04     2.109411             0.0               0.0               0.0   \n",
       "\n",
       "                 Date  PrevWeekSalesDiff  \n",
       "Date                                      \n",
       "2016-01-04 2016-01-04                0.0  \n",
       "2016-01-04 2016-01-04                0.0  \n",
       "2016-01-04 2016-01-04                0.0  \n",
       "2016-01-04 2016-01-04                0.0  \n",
       "2016-01-04 2016-01-04                0.0  "
      ],
      "text/html": "<div>\n<style scoped>\n    .dataframe tbody tr th:only-of-type {\n        vertical-align: middle;\n    }\n\n    .dataframe tbody tr th {\n        vertical-align: top;\n    }\n\n    .dataframe thead th {\n        text-align: right;\n    }\n</style>\n<table border=\"1\" class=\"dataframe\">\n  <thead>\n    <tr style=\"text-align: right;\">\n      <th></th>\n      <th>SkuShort</th>\n      <th>ProductGroup</th>\n      <th>PrimaryPack</th>\n      <th>Country</th>\n      <th>Week</th>\n      <th>NumberWorkdays</th>\n      <th>AvgTemp</th>\n      <th>AvgRain</th>\n      <th>AvgSun</th>\n      <th>IsLockdown</th>\n      <th>PdtHl</th>\n      <th>PrevWeekPdtHl1</th>\n      <th>BgtHl</th>\n      <th>PrevWeekBgtHl1</th>\n      <th>PrevWeekSalesHl1</th>\n      <th>PrevWeekSalesHl2</th>\n      <th>Date</th>\n      <th>PrevWeekSalesDiff</th>\n    </tr>\n    <tr>\n      <th>Date</th>\n      <th></th>\n      <th></th>\n      <th></th>\n      <th></th>\n      <th></th>\n      <th></th>\n      <th></th>\n      <th></th>\n      <th></th>\n      <th></th>\n      <th></th>\n      <th></th>\n      <th></th>\n      <th></th>\n      <th></th>\n      <th></th>\n      <th></th>\n      <th></th>\n    </tr>\n  </thead>\n  <tbody>\n    <tr>\n      <th>2016-01-04</th>\n      <td>1015</td>\n      <td>1015</td>\n      <td>1015</td>\n      <td>0</td>\n      <td>1</td>\n      <td>5</td>\n      <td>-1.164286</td>\n      <td>0.935714</td>\n      <td>1.014286</td>\n      <td>False</td>\n      <td>0.0</td>\n      <td>0.0</td>\n      <td>1637.344974</td>\n      <td>0.0</td>\n      <td>0.0</td>\n      <td>0.0</td>\n      <td>2016-01-04</td>\n      <td>0.0</td>\n    </tr>\n    <tr>\n      <th>2016-01-04</th>\n      <td>1016</td>\n      <td>1016</td>\n      <td>1016</td>\n      <td>0</td>\n      <td>1</td>\n      <td>5</td>\n      <td>-1.164286</td>\n      <td>0.935714</td>\n      <td>1.014286</td>\n      <td>False</td>\n      <td>0.0</td>\n      <td>0.0</td>\n      <td>293.344724</td>\n      <td>0.0</td>\n      <td>0.0</td>\n      <td>0.0</td>\n      <td>2016-01-04</td>\n      <td>0.0</td>\n    </tr>\n    <tr>\n      <th>2016-01-04</th>\n      <td>1022</td>\n      <td>1022</td>\n      <td>1022</td>\n      <td>0</td>\n      <td>1</td>\n      <td>5</td>\n      <td>-1.164286</td>\n      <td>0.935714</td>\n      <td>1.014286</td>\n      <td>False</td>\n      <td>0.0</td>\n      <td>0.0</td>\n      <td>59.144115</td>\n      <td>0.0</td>\n      <td>0.0</td>\n      <td>0.0</td>\n      <td>2016-01-04</td>\n      <td>0.0</td>\n    </tr>\n    <tr>\n      <th>2016-01-04</th>\n      <td>1026</td>\n      <td>1026</td>\n      <td>1026</td>\n      <td>0</td>\n      <td>1</td>\n      <td>5</td>\n      <td>-1.164286</td>\n      <td>0.935714</td>\n      <td>1.014286</td>\n      <td>False</td>\n      <td>0.0</td>\n      <td>0.0</td>\n      <td>10.669629</td>\n      <td>0.0</td>\n      <td>0.0</td>\n      <td>0.0</td>\n      <td>2016-01-04</td>\n      <td>0.0</td>\n    </tr>\n    <tr>\n      <th>2016-01-04</th>\n      <td>1027</td>\n      <td>1027</td>\n      <td>1027</td>\n      <td>0</td>\n      <td>1</td>\n      <td>5</td>\n      <td>-1.164286</td>\n      <td>0.935714</td>\n      <td>1.014286</td>\n      <td>False</td>\n      <td>0.0</td>\n      <td>0.0</td>\n      <td>2.109411</td>\n      <td>0.0</td>\n      <td>0.0</td>\n      <td>0.0</td>\n      <td>2016-01-04</td>\n      <td>0.0</td>\n    </tr>\n  </tbody>\n</table>\n</div>"
     },
     "metadata": {},
     "execution_count": 63
    }
   ],
   "source": [
    "cols_drop = ['Year', 'SalesHl', 'OldPredSalesHl']\n",
    "#'SkuShort', 'ProductGroup', 'PrimaryPack', 'Country',\n",
    "\n",
    "y = pd.DataFrame(data.SalesHl).round(0).astype(int)\n",
    "X = data.drop(cols_drop, axis=1).fillna(0)\n",
    "\n",
    "X.IsLockdown = X.IsLockdown.astype('bool')\n",
    "X.SkuShort = X.SkuShort.astype('category')\n",
    "X.ProductGroup = X.SkuShort.astype('category')\n",
    "X.PrimaryPack = X.SkuShort.astype('category')\n",
    "X.Country = X.Country.astype('category').cat.codes\n",
    "X['PrevWeekSalesDiff'] = X.PrevWeekSalesHl1-X.PrevWeekSalesHl2\n",
    "\n",
    "#X = X.drop(['PrevWeekSalesHl1', 'PrevWeekSalesHl2'], axis=1)\n",
    "\n",
    "# X.PrevWeekSalesHl1 = X.PrevWeekSalesHl1.round(0).astype(int)\n",
    "# X.PrevWeekSalesHl2 = X.PrevWeekSalesHl2.round(0).astype(int)\n",
    "# X.BgtHl = X.BgtHl.round(0).astype(int)\n",
    "# X.PdtHl = X.PdtHl.round(0).astype(int)\n",
    "\n",
    "\n",
    "y_oldPred = pd.DataFrame(data.OldPredSalesHl).fillna(0).round(0).astype(int)\n",
    "\n",
    "#y.head()\n",
    "X.head()"
   ]
  },
  {
   "cell_type": "code",
   "execution_count": 64,
   "metadata": {},
   "outputs": [
    {
     "output_type": "execute_result",
     "data": {
      "text/plain": [
       "           SkuShort ProductGroup PrimaryPack  Country  Week  NumberWorkdays  \\\n",
       "Date                                                                          \n",
       "2016-01-04     1015         1015        1015        0     1               5   \n",
       "2016-01-04     1016         1016        1016        0     1               5   \n",
       "2016-01-04     1022         1022        1022        0     1               5   \n",
       "2016-01-04     1026         1026        1026        0     1               5   \n",
       "2016-01-04     1027         1027        1027        0     1               5   \n",
       "\n",
       "             AvgTemp   AvgRain    AvgSun  IsLockdown  PdtHl  PrevWeekPdtHl1  \\\n",
       "Date                                                                          \n",
       "2016-01-04 -1.164286  0.935714  1.014286       False    0.0             0.0   \n",
       "2016-01-04 -1.164286  0.935714  1.014286       False    0.0             0.0   \n",
       "2016-01-04 -1.164286  0.935714  1.014286       False    0.0             0.0   \n",
       "2016-01-04 -1.164286  0.935714  1.014286       False    0.0             0.0   \n",
       "2016-01-04 -1.164286  0.935714  1.014286       False    0.0             0.0   \n",
       "\n",
       "                  BgtHl  PrevWeekBgtHl1  PrevWeekSalesHl1  PrevWeekSalesHl2  \\\n",
       "Date                                                                          \n",
       "2016-01-04  1637.344974             0.0               0.0               0.0   \n",
       "2016-01-04   293.344724             0.0               0.0               0.0   \n",
       "2016-01-04    59.144115             0.0               0.0               0.0   \n",
       "2016-01-04    10.669629             0.0               0.0               0.0   \n",
       "2016-01-04     2.109411             0.0               0.0               0.0   \n",
       "\n",
       "                 Date  PrevWeekSalesDiff  \n",
       "Date                                      \n",
       "2016-01-04 2016-01-04                0.0  \n",
       "2016-01-04 2016-01-04                0.0  \n",
       "2016-01-04 2016-01-04                0.0  \n",
       "2016-01-04 2016-01-04                0.0  \n",
       "2016-01-04 2016-01-04                0.0  "
      ],
      "text/html": "<div>\n<style scoped>\n    .dataframe tbody tr th:only-of-type {\n        vertical-align: middle;\n    }\n\n    .dataframe tbody tr th {\n        vertical-align: top;\n    }\n\n    .dataframe thead th {\n        text-align: right;\n    }\n</style>\n<table border=\"1\" class=\"dataframe\">\n  <thead>\n    <tr style=\"text-align: right;\">\n      <th></th>\n      <th>SkuShort</th>\n      <th>ProductGroup</th>\n      <th>PrimaryPack</th>\n      <th>Country</th>\n      <th>Week</th>\n      <th>NumberWorkdays</th>\n      <th>AvgTemp</th>\n      <th>AvgRain</th>\n      <th>AvgSun</th>\n      <th>IsLockdown</th>\n      <th>PdtHl</th>\n      <th>PrevWeekPdtHl1</th>\n      <th>BgtHl</th>\n      <th>PrevWeekBgtHl1</th>\n      <th>PrevWeekSalesHl1</th>\n      <th>PrevWeekSalesHl2</th>\n      <th>Date</th>\n      <th>PrevWeekSalesDiff</th>\n    </tr>\n    <tr>\n      <th>Date</th>\n      <th></th>\n      <th></th>\n      <th></th>\n      <th></th>\n      <th></th>\n      <th></th>\n      <th></th>\n      <th></th>\n      <th></th>\n      <th></th>\n      <th></th>\n      <th></th>\n      <th></th>\n      <th></th>\n      <th></th>\n      <th></th>\n      <th></th>\n      <th></th>\n    </tr>\n  </thead>\n  <tbody>\n    <tr>\n      <th>2016-01-04</th>\n      <td>1015</td>\n      <td>1015</td>\n      <td>1015</td>\n      <td>0</td>\n      <td>1</td>\n      <td>5</td>\n      <td>-1.164286</td>\n      <td>0.935714</td>\n      <td>1.014286</td>\n      <td>False</td>\n      <td>0.0</td>\n      <td>0.0</td>\n      <td>1637.344974</td>\n      <td>0.0</td>\n      <td>0.0</td>\n      <td>0.0</td>\n      <td>2016-01-04</td>\n      <td>0.0</td>\n    </tr>\n    <tr>\n      <th>2016-01-04</th>\n      <td>1016</td>\n      <td>1016</td>\n      <td>1016</td>\n      <td>0</td>\n      <td>1</td>\n      <td>5</td>\n      <td>-1.164286</td>\n      <td>0.935714</td>\n      <td>1.014286</td>\n      <td>False</td>\n      <td>0.0</td>\n      <td>0.0</td>\n      <td>293.344724</td>\n      <td>0.0</td>\n      <td>0.0</td>\n      <td>0.0</td>\n      <td>2016-01-04</td>\n      <td>0.0</td>\n    </tr>\n    <tr>\n      <th>2016-01-04</th>\n      <td>1022</td>\n      <td>1022</td>\n      <td>1022</td>\n      <td>0</td>\n      <td>1</td>\n      <td>5</td>\n      <td>-1.164286</td>\n      <td>0.935714</td>\n      <td>1.014286</td>\n      <td>False</td>\n      <td>0.0</td>\n      <td>0.0</td>\n      <td>59.144115</td>\n      <td>0.0</td>\n      <td>0.0</td>\n      <td>0.0</td>\n      <td>2016-01-04</td>\n      <td>0.0</td>\n    </tr>\n    <tr>\n      <th>2016-01-04</th>\n      <td>1026</td>\n      <td>1026</td>\n      <td>1026</td>\n      <td>0</td>\n      <td>1</td>\n      <td>5</td>\n      <td>-1.164286</td>\n      <td>0.935714</td>\n      <td>1.014286</td>\n      <td>False</td>\n      <td>0.0</td>\n      <td>0.0</td>\n      <td>10.669629</td>\n      <td>0.0</td>\n      <td>0.0</td>\n      <td>0.0</td>\n      <td>2016-01-04</td>\n      <td>0.0</td>\n    </tr>\n    <tr>\n      <th>2016-01-04</th>\n      <td>1027</td>\n      <td>1027</td>\n      <td>1027</td>\n      <td>0</td>\n      <td>1</td>\n      <td>5</td>\n      <td>-1.164286</td>\n      <td>0.935714</td>\n      <td>1.014286</td>\n      <td>False</td>\n      <td>0.0</td>\n      <td>0.0</td>\n      <td>2.109411</td>\n      <td>0.0</td>\n      <td>0.0</td>\n      <td>0.0</td>\n      <td>2016-01-04</td>\n      <td>0.0</td>\n    </tr>\n  </tbody>\n</table>\n</div>"
     },
     "metadata": {},
     "execution_count": 64
    }
   ],
   "source": [
    "from pmdarima import model_selection\n",
    "\n",
    "X_train, X_test, y_train, y_test = model_selection.train_test_split(X, y, test_size=0.2)\n",
    "\n",
    "X_train.head()\n"
   ]
  },
  {
   "cell_type": "code",
   "execution_count": 66,
   "metadata": {},
   "outputs": [
    {
     "output_type": "error",
     "ename": "TypeError",
     "evalue": "float() argument must be a string or a number, not 'Timestamp'",
     "traceback": [
      "\u001b[1;31m---------------------------------------------------------------------------\u001b[0m",
      "\u001b[1;31mTypeError\u001b[0m                                 Traceback (most recent call last)",
      "\u001b[1;32m<ipython-input-66-5b3ffa53e709>\u001b[0m in \u001b[0;36m<module>\u001b[1;34m\u001b[0m\n\u001b[0;32m      1\u001b[0m \u001b[1;31m# Fit a simple auto_arima model\u001b[0m\u001b[1;33m\u001b[0m\u001b[1;33m\u001b[0m\u001b[1;33m\u001b[0m\u001b[0m\n\u001b[1;32m----> 2\u001b[1;33m arima = pm.auto_arima(X_train, trace=True,\n\u001b[0m\u001b[0;32m      3\u001b[0m                       \u001b[0msuppress_warnings\u001b[0m\u001b[1;33m=\u001b[0m\u001b[1;32mTrue\u001b[0m\u001b[1;33m,\u001b[0m \u001b[0mmaxiter\u001b[0m\u001b[1;33m=\u001b[0m\u001b[1;36m10\u001b[0m\u001b[1;33m,\u001b[0m\u001b[1;33m\u001b[0m\u001b[1;33m\u001b[0m\u001b[0m\n\u001b[0;32m      4\u001b[0m                       seasonal=True, m=52)\n\u001b[0;32m      5\u001b[0m \u001b[1;33m\u001b[0m\u001b[0m\n",
      "\u001b[1;32mC:\\Program Files\\Python39\\lib\\site-packages\\pmdarima\\arima\\auto.py\u001b[0m in \u001b[0;36mauto_arima\u001b[1;34m(y, X, start_p, d, start_q, max_p, max_d, max_q, start_P, D, start_Q, max_P, max_D, max_Q, max_order, m, seasonal, stationary, information_criterion, alpha, test, seasonal_test, stepwise, n_jobs, start_params, trend, method, maxiter, offset_test_args, seasonal_test_args, suppress_warnings, error_action, trace, random, random_state, n_fits, return_valid_fits, out_of_sample_size, scoring, scoring_args, with_intercept, sarimax_kwargs, **fit_args)\u001b[0m\n\u001b[0;32m    436\u001b[0m \u001b[1;33m\u001b[0m\u001b[0m\n\u001b[0;32m    437\u001b[0m     \u001b[1;31m# copy array\u001b[0m\u001b[1;33m\u001b[0m\u001b[1;33m\u001b[0m\u001b[1;33m\u001b[0m\u001b[0m\n\u001b[1;32m--> 438\u001b[1;33m     \u001b[0my\u001b[0m \u001b[1;33m=\u001b[0m \u001b[0mcheck_endog\u001b[0m\u001b[1;33m(\u001b[0m\u001b[0my\u001b[0m\u001b[1;33m,\u001b[0m \u001b[0mdtype\u001b[0m\u001b[1;33m=\u001b[0m\u001b[0mDTYPE\u001b[0m\u001b[1;33m)\u001b[0m\u001b[1;33m\u001b[0m\u001b[1;33m\u001b[0m\u001b[0m\n\u001b[0m\u001b[0;32m    439\u001b[0m     \u001b[0mn_samples\u001b[0m \u001b[1;33m=\u001b[0m \u001b[0my\u001b[0m\u001b[1;33m.\u001b[0m\u001b[0mshape\u001b[0m\u001b[1;33m[\u001b[0m\u001b[1;36m0\u001b[0m\u001b[1;33m]\u001b[0m\u001b[1;33m\u001b[0m\u001b[1;33m\u001b[0m\u001b[0m\n\u001b[0;32m    440\u001b[0m \u001b[1;33m\u001b[0m\u001b[0m\n",
      "\u001b[1;32mC:\\Program Files\\Python39\\lib\\site-packages\\pmdarima\\utils\\array.py\u001b[0m in \u001b[0;36mcheck_endog\u001b[1;34m(y, dtype, copy, force_all_finite)\u001b[0m\n\u001b[0;32m    168\u001b[0m     \"\"\"\n\u001b[0;32m    169\u001b[0m     return column_or_1d(\n\u001b[1;32m--> 170\u001b[1;33m         check_array(y, ensure_2d=False, force_all_finite=force_all_finite,\n\u001b[0m\u001b[0;32m    171\u001b[0m                     copy=copy, dtype=dtype))  # type: np.ndarray\n\u001b[0;32m    172\u001b[0m \u001b[1;33m\u001b[0m\u001b[0m\n",
      "\u001b[1;32m~\\AppData\\Roaming\\Python\\Python39\\site-packages\\sklearn\\utils\\validation.py\u001b[0m in \u001b[0;36minner_f\u001b[1;34m(*args, **kwargs)\u001b[0m\n\u001b[0;32m     61\u001b[0m             \u001b[0mextra_args\u001b[0m \u001b[1;33m=\u001b[0m \u001b[0mlen\u001b[0m\u001b[1;33m(\u001b[0m\u001b[0margs\u001b[0m\u001b[1;33m)\u001b[0m \u001b[1;33m-\u001b[0m \u001b[0mlen\u001b[0m\u001b[1;33m(\u001b[0m\u001b[0mall_args\u001b[0m\u001b[1;33m)\u001b[0m\u001b[1;33m\u001b[0m\u001b[1;33m\u001b[0m\u001b[0m\n\u001b[0;32m     62\u001b[0m             \u001b[1;32mif\u001b[0m \u001b[0mextra_args\u001b[0m \u001b[1;33m<=\u001b[0m \u001b[1;36m0\u001b[0m\u001b[1;33m:\u001b[0m\u001b[1;33m\u001b[0m\u001b[1;33m\u001b[0m\u001b[0m\n\u001b[1;32m---> 63\u001b[1;33m                 \u001b[1;32mreturn\u001b[0m \u001b[0mf\u001b[0m\u001b[1;33m(\u001b[0m\u001b[1;33m*\u001b[0m\u001b[0margs\u001b[0m\u001b[1;33m,\u001b[0m \u001b[1;33m**\u001b[0m\u001b[0mkwargs\u001b[0m\u001b[1;33m)\u001b[0m\u001b[1;33m\u001b[0m\u001b[1;33m\u001b[0m\u001b[0m\n\u001b[0m\u001b[0;32m     64\u001b[0m \u001b[1;33m\u001b[0m\u001b[0m\n\u001b[0;32m     65\u001b[0m             \u001b[1;31m# extra_args > 0\u001b[0m\u001b[1;33m\u001b[0m\u001b[1;33m\u001b[0m\u001b[1;33m\u001b[0m\u001b[0m\n",
      "\u001b[1;32m~\\AppData\\Roaming\\Python\\Python39\\site-packages\\sklearn\\utils\\validation.py\u001b[0m in \u001b[0;36mcheck_array\u001b[1;34m(array, accept_sparse, accept_large_sparse, dtype, order, copy, force_all_finite, ensure_2d, allow_nd, ensure_min_samples, ensure_min_features, estimator)\u001b[0m\n\u001b[0;32m    671\u001b[0m                     \u001b[0marray\u001b[0m \u001b[1;33m=\u001b[0m \u001b[0marray\u001b[0m\u001b[1;33m.\u001b[0m\u001b[0mastype\u001b[0m\u001b[1;33m(\u001b[0m\u001b[0mdtype\u001b[0m\u001b[1;33m,\u001b[0m \u001b[0mcasting\u001b[0m\u001b[1;33m=\u001b[0m\u001b[1;34m\"unsafe\"\u001b[0m\u001b[1;33m,\u001b[0m \u001b[0mcopy\u001b[0m\u001b[1;33m=\u001b[0m\u001b[1;32mFalse\u001b[0m\u001b[1;33m)\u001b[0m\u001b[1;33m\u001b[0m\u001b[1;33m\u001b[0m\u001b[0m\n\u001b[0;32m    672\u001b[0m                 \u001b[1;32melse\u001b[0m\u001b[1;33m:\u001b[0m\u001b[1;33m\u001b[0m\u001b[1;33m\u001b[0m\u001b[0m\n\u001b[1;32m--> 673\u001b[1;33m                     \u001b[0marray\u001b[0m \u001b[1;33m=\u001b[0m \u001b[0mnp\u001b[0m\u001b[1;33m.\u001b[0m\u001b[0masarray\u001b[0m\u001b[1;33m(\u001b[0m\u001b[0marray\u001b[0m\u001b[1;33m,\u001b[0m \u001b[0morder\u001b[0m\u001b[1;33m=\u001b[0m\u001b[0morder\u001b[0m\u001b[1;33m,\u001b[0m \u001b[0mdtype\u001b[0m\u001b[1;33m=\u001b[0m\u001b[0mdtype\u001b[0m\u001b[1;33m)\u001b[0m\u001b[1;33m\u001b[0m\u001b[1;33m\u001b[0m\u001b[0m\n\u001b[0m\u001b[0;32m    674\u001b[0m             \u001b[1;32mexcept\u001b[0m \u001b[0mComplexWarning\u001b[0m \u001b[1;32mas\u001b[0m \u001b[0mcomplex_warning\u001b[0m\u001b[1;33m:\u001b[0m\u001b[1;33m\u001b[0m\u001b[1;33m\u001b[0m\u001b[0m\n\u001b[0;32m    675\u001b[0m                 raise ValueError(\"Complex data not supported\\n\"\n",
      "\u001b[1;32m~\\AppData\\Roaming\\Python\\Python39\\site-packages\\numpy\\core\\_asarray.py\u001b[0m in \u001b[0;36masarray\u001b[1;34m(a, dtype, order)\u001b[0m\n\u001b[0;32m     81\u001b[0m \u001b[1;33m\u001b[0m\u001b[0m\n\u001b[0;32m     82\u001b[0m     \"\"\"\n\u001b[1;32m---> 83\u001b[1;33m     \u001b[1;32mreturn\u001b[0m \u001b[0marray\u001b[0m\u001b[1;33m(\u001b[0m\u001b[0ma\u001b[0m\u001b[1;33m,\u001b[0m \u001b[0mdtype\u001b[0m\u001b[1;33m,\u001b[0m \u001b[0mcopy\u001b[0m\u001b[1;33m=\u001b[0m\u001b[1;32mFalse\u001b[0m\u001b[1;33m,\u001b[0m \u001b[0morder\u001b[0m\u001b[1;33m=\u001b[0m\u001b[0morder\u001b[0m\u001b[1;33m)\u001b[0m\u001b[1;33m\u001b[0m\u001b[1;33m\u001b[0m\u001b[0m\n\u001b[0m\u001b[0;32m     84\u001b[0m \u001b[1;33m\u001b[0m\u001b[0m\n\u001b[0;32m     85\u001b[0m \u001b[1;33m\u001b[0m\u001b[0m\n",
      "\u001b[1;32m~\\AppData\\Roaming\\Python\\Python39\\site-packages\\pandas\\core\\generic.py\u001b[0m in \u001b[0;36m__array__\u001b[1;34m(self, dtype)\u001b[0m\n\u001b[0;32m   1897\u001b[0m \u001b[1;33m\u001b[0m\u001b[0m\n\u001b[0;32m   1898\u001b[0m     \u001b[1;32mdef\u001b[0m \u001b[0m__array__\u001b[0m\u001b[1;33m(\u001b[0m\u001b[0mself\u001b[0m\u001b[1;33m,\u001b[0m \u001b[0mdtype\u001b[0m\u001b[1;33m=\u001b[0m\u001b[1;32mNone\u001b[0m\u001b[1;33m)\u001b[0m \u001b[1;33m->\u001b[0m \u001b[0mnp\u001b[0m\u001b[1;33m.\u001b[0m\u001b[0mndarray\u001b[0m\u001b[1;33m:\u001b[0m\u001b[1;33m\u001b[0m\u001b[1;33m\u001b[0m\u001b[0m\n\u001b[1;32m-> 1899\u001b[1;33m         \u001b[1;32mreturn\u001b[0m \u001b[0mnp\u001b[0m\u001b[1;33m.\u001b[0m\u001b[0masarray\u001b[0m\u001b[1;33m(\u001b[0m\u001b[0mself\u001b[0m\u001b[1;33m.\u001b[0m\u001b[0m_values\u001b[0m\u001b[1;33m,\u001b[0m \u001b[0mdtype\u001b[0m\u001b[1;33m=\u001b[0m\u001b[0mdtype\u001b[0m\u001b[1;33m)\u001b[0m\u001b[1;33m\u001b[0m\u001b[1;33m\u001b[0m\u001b[0m\n\u001b[0m\u001b[0;32m   1900\u001b[0m \u001b[1;33m\u001b[0m\u001b[0m\n\u001b[0;32m   1901\u001b[0m     def __array_wrap__(\n",
      "\u001b[1;32m~\\AppData\\Roaming\\Python\\Python39\\site-packages\\numpy\\core\\_asarray.py\u001b[0m in \u001b[0;36masarray\u001b[1;34m(a, dtype, order)\u001b[0m\n\u001b[0;32m     81\u001b[0m \u001b[1;33m\u001b[0m\u001b[0m\n\u001b[0;32m     82\u001b[0m     \"\"\"\n\u001b[1;32m---> 83\u001b[1;33m     \u001b[1;32mreturn\u001b[0m \u001b[0marray\u001b[0m\u001b[1;33m(\u001b[0m\u001b[0ma\u001b[0m\u001b[1;33m,\u001b[0m \u001b[0mdtype\u001b[0m\u001b[1;33m,\u001b[0m \u001b[0mcopy\u001b[0m\u001b[1;33m=\u001b[0m\u001b[1;32mFalse\u001b[0m\u001b[1;33m,\u001b[0m \u001b[0morder\u001b[0m\u001b[1;33m=\u001b[0m\u001b[0morder\u001b[0m\u001b[1;33m)\u001b[0m\u001b[1;33m\u001b[0m\u001b[1;33m\u001b[0m\u001b[0m\n\u001b[0m\u001b[0;32m     84\u001b[0m \u001b[1;33m\u001b[0m\u001b[0m\n\u001b[0;32m     85\u001b[0m \u001b[1;33m\u001b[0m\u001b[0m\n",
      "\u001b[1;31mTypeError\u001b[0m: float() argument must be a string or a number, not 'Timestamp'"
     ]
    }
   ],
   "source": [
    "\n",
    "# Fit a simple auto_arima model\n",
    "arima = pm.auto_arima(X_train, trace=True,\n",
    "                      suppress_warnings=True, maxiter=10,\n",
    "                      seasonal=True, m=52)\n",
    "\n",
    "arima.summary()\n",
    "\n",
    "# # #############################################################################\n",
    "# # Plot actual test vs. forecasts:\n",
    "# x = np.arange(test.shape[0])\n",
    "# plt.scatter(X_train, test, marker='x')\n",
    "# plt.plot(X_train, arima.predict(n_periods=test.shape[0]))\n",
    "# plt.title('Actual test samples vs. forecasts')\n",
    "# plt.show()"
   ]
  },
  {
   "cell_type": "code",
   "execution_count": null,
   "metadata": {},
   "outputs": [],
   "source": []
  }
 ]
}