{
 "cells": [
  {
   "cell_type": "markdown",
   "metadata": {},
   "source": [
    "# Forecasting beer sales \n",
    "\n",
    "github: https://github.com/kohlicekjan/forecasting-beer-sales-ml\n",
    "\n",
    "### Source\n",
    "- https://scikit-learn.org/stable/index.html\n",
    "- https://www.mariofilho.com/how-to-predict-multiple-time-series-with-scikit-learn-with-sales-forecasting-example/\n",
    "- https://alkaline-ml.com/pmdarima/quickstart.html\n",
    "- https://facebook.github.io/prophet/"
   ]
  },
  {
   "cell_type": "code",
   "execution_count": 139,
   "metadata": {},
   "outputs": [],
   "source": [
    "import pandas as pd\n",
    "import numpy as np\n",
    "import os\n",
    "\n",
    "from sklearn.model_selection import train_test_split\n",
    "import lightgbm as lgb"
   ]
  },
  {
   "cell_type": "code",
   "execution_count": 140,
   "metadata": {},
   "outputs": [],
   "source": [
    "DATASET_NAME = 'off-trade' # all_cz, off-trade_cz, on-trade_cz\n",
    "\n",
    "DATA_PATH = f'./data/{DATASET_NAME}_data.csv'\n",
    "\n",
    "MODEL_PATH = f'./models/{DATASET_NAME}_model.joblib'\n",
    "\n",
    "RESULT_CSV_PATH = f'./results/{DATASET_NAME}_result.csv'\n",
    "RESULT_EXCEL_PATH = f'./results/{DATASET_NAME}_result.xlsx'"
   ]
  },
  {
   "cell_type": "code",
   "execution_count": 141,
   "metadata": {},
   "outputs": [
    {
     "output_type": "execute_result",
     "data": {
      "text/plain": [
       "   SkuShort ProductGroup PrimaryPack Country  Year  Week  NumberWorkdays  \\\n",
       "0      1015   CLEAR BEER          RB      CZ  2016     1               5   \n",
       "1      1016   CLEAR BEER          RB      CZ  2016     1               5   \n",
       "2      1022   CLEAR BEER          RB      CZ  2016     1               5   \n",
       "3      1026   CLEAR BEER          RB      CZ  2016     1               5   \n",
       "4      1027   CLEAR BEER          RB      CZ  2016     1               5   \n",
       "\n",
       "    AvgTemp   AvgRain    AvgSun  IsLockdown  PdtHl  PrevWeekPdtHl1  \\\n",
       "0 -1.164286  0.935714  1.014286           0    NaN             NaN   \n",
       "1 -1.164286  0.935714  1.014286           0    NaN             NaN   \n",
       "2 -1.164286  0.935714  1.014286           0    NaN             NaN   \n",
       "3 -1.164286  0.935714  1.014286           0    NaN             NaN   \n",
       "4 -1.164286  0.935714  1.014286           0    NaN             NaN   \n",
       "\n",
       "         BgtHl  PrevWeekBgtHl1    SalesHl  PrevWeekSalesHl1  PrevWeekSalesHl2  \\\n",
       "0  1637.344974             NaN  1805.0000               NaN               NaN   \n",
       "1   293.344724             NaN   159.1128               NaN               NaN   \n",
       "2    59.144115             NaN    72.4900               NaN               NaN   \n",
       "3    10.669629             NaN    23.8392               NaN               NaN   \n",
       "4     2.109411             NaN     3.9600               NaN               NaN   \n",
       "\n",
       "   OldPredSalesHl  \n",
       "0        705.4995  \n",
       "1        160.0957  \n",
       "2         74.4420  \n",
       "3          8.8567  \n",
       "4          4.9003  "
      ],
      "text/html": "<div>\n<style scoped>\n    .dataframe tbody tr th:only-of-type {\n        vertical-align: middle;\n    }\n\n    .dataframe tbody tr th {\n        vertical-align: top;\n    }\n\n    .dataframe thead th {\n        text-align: right;\n    }\n</style>\n<table border=\"1\" class=\"dataframe\">\n  <thead>\n    <tr style=\"text-align: right;\">\n      <th></th>\n      <th>SkuShort</th>\n      <th>ProductGroup</th>\n      <th>PrimaryPack</th>\n      <th>Country</th>\n      <th>Year</th>\n      <th>Week</th>\n      <th>NumberWorkdays</th>\n      <th>AvgTemp</th>\n      <th>AvgRain</th>\n      <th>AvgSun</th>\n      <th>IsLockdown</th>\n      <th>PdtHl</th>\n      <th>PrevWeekPdtHl1</th>\n      <th>BgtHl</th>\n      <th>PrevWeekBgtHl1</th>\n      <th>SalesHl</th>\n      <th>PrevWeekSalesHl1</th>\n      <th>PrevWeekSalesHl2</th>\n      <th>OldPredSalesHl</th>\n    </tr>\n  </thead>\n  <tbody>\n    <tr>\n      <th>0</th>\n      <td>1015</td>\n      <td>CLEAR BEER</td>\n      <td>RB</td>\n      <td>CZ</td>\n      <td>2016</td>\n      <td>1</td>\n      <td>5</td>\n      <td>-1.164286</td>\n      <td>0.935714</td>\n      <td>1.014286</td>\n      <td>0</td>\n      <td>NaN</td>\n      <td>NaN</td>\n      <td>1637.344974</td>\n      <td>NaN</td>\n      <td>1805.0000</td>\n      <td>NaN</td>\n      <td>NaN</td>\n      <td>705.4995</td>\n    </tr>\n    <tr>\n      <th>1</th>\n      <td>1016</td>\n      <td>CLEAR BEER</td>\n      <td>RB</td>\n      <td>CZ</td>\n      <td>2016</td>\n      <td>1</td>\n      <td>5</td>\n      <td>-1.164286</td>\n      <td>0.935714</td>\n      <td>1.014286</td>\n      <td>0</td>\n      <td>NaN</td>\n      <td>NaN</td>\n      <td>293.344724</td>\n      <td>NaN</td>\n      <td>159.1128</td>\n      <td>NaN</td>\n      <td>NaN</td>\n      <td>160.0957</td>\n    </tr>\n    <tr>\n      <th>2</th>\n      <td>1022</td>\n      <td>CLEAR BEER</td>\n      <td>RB</td>\n      <td>CZ</td>\n      <td>2016</td>\n      <td>1</td>\n      <td>5</td>\n      <td>-1.164286</td>\n      <td>0.935714</td>\n      <td>1.014286</td>\n      <td>0</td>\n      <td>NaN</td>\n      <td>NaN</td>\n      <td>59.144115</td>\n      <td>NaN</td>\n      <td>72.4900</td>\n      <td>NaN</td>\n      <td>NaN</td>\n      <td>74.4420</td>\n    </tr>\n    <tr>\n      <th>3</th>\n      <td>1026</td>\n      <td>CLEAR BEER</td>\n      <td>RB</td>\n      <td>CZ</td>\n      <td>2016</td>\n      <td>1</td>\n      <td>5</td>\n      <td>-1.164286</td>\n      <td>0.935714</td>\n      <td>1.014286</td>\n      <td>0</td>\n      <td>NaN</td>\n      <td>NaN</td>\n      <td>10.669629</td>\n      <td>NaN</td>\n      <td>23.8392</td>\n      <td>NaN</td>\n      <td>NaN</td>\n      <td>8.8567</td>\n    </tr>\n    <tr>\n      <th>4</th>\n      <td>1027</td>\n      <td>CLEAR BEER</td>\n      <td>RB</td>\n      <td>CZ</td>\n      <td>2016</td>\n      <td>1</td>\n      <td>5</td>\n      <td>-1.164286</td>\n      <td>0.935714</td>\n      <td>1.014286</td>\n      <td>0</td>\n      <td>NaN</td>\n      <td>NaN</td>\n      <td>2.109411</td>\n      <td>NaN</td>\n      <td>3.9600</td>\n      <td>NaN</td>\n      <td>NaN</td>\n      <td>4.9003</td>\n    </tr>\n  </tbody>\n</table>\n</div>"
     },
     "metadata": {},
     "execution_count": 141
    }
   ],
   "source": [
    "data = pd.read_csv(DATA_PATH, header=0, decimal=\",\")\n",
    "\n",
    "data.head()"
   ]
  },
  {
   "cell_type": "code",
   "execution_count": 142,
   "metadata": {},
   "outputs": [
    {
     "output_type": "stream",
     "name": "stdout",
     "text": [
      "<class 'pandas.core.frame.DataFrame'>\nRangeIndex: 44195 entries, 0 to 44194\nData columns (total 19 columns):\n #   Column            Non-Null Count  Dtype  \n---  ------            --------------  -----  \n 0   SkuShort          44195 non-null  int64  \n 1   ProductGroup      44195 non-null  object \n 2   PrimaryPack       44195 non-null  object \n 3   Country           44195 non-null  object \n 4   Year              44195 non-null  int64  \n 5   Week              44195 non-null  int64  \n 6   NumberWorkdays    44195 non-null  int64  \n 7   AvgTemp           44195 non-null  float64\n 8   AvgRain           44195 non-null  float64\n 9   AvgSun            44195 non-null  float64\n 10  IsLockdown        44195 non-null  int64  \n 11  PdtHl             29061 non-null  float64\n 12  PrevWeekPdtHl1    29071 non-null  float64\n 13  BgtHl             35449 non-null  float64\n 14  PrevWeekBgtHl1    34515 non-null  float64\n 15  SalesHl           44195 non-null  float64\n 16  PrevWeekSalesHl1  42943 non-null  float64\n 17  PrevWeekSalesHl2  42532 non-null  float64\n 18  OldPredSalesHl    41267 non-null  float64\ndtypes: float64(11), int64(5), object(3)\nmemory usage: 6.4+ MB\n"
     ]
    }
   ],
   "source": [
    "data.info()"
   ]
  },
  {
   "cell_type": "code",
   "execution_count": 143,
   "metadata": {},
   "outputs": [
    {
     "output_type": "execute_result",
     "data": {
      "text/plain": [
       "  SkuShort ProductGroup PrimaryPack  Country  Week  NumberWorkdays   AvgTemp  \\\n",
       "0     1015         1015        1015        0     1               5 -1.164286   \n",
       "1     1016         1016        1016        0     1               5 -1.164286   \n",
       "2     1022         1022        1022        0     1               5 -1.164286   \n",
       "3     1026         1026        1026        0     1               5 -1.164286   \n",
       "4     1027         1027        1027        0     1               5 -1.164286   \n",
       "\n",
       "    AvgRain    AvgSun  IsLockdown  PdtHl  PrevWeekPdtHl1        BgtHl  \\\n",
       "0  0.935714  1.014286       False    0.0             0.0  1637.344974   \n",
       "1  0.935714  1.014286       False    0.0             0.0   293.344724   \n",
       "2  0.935714  1.014286       False    0.0             0.0    59.144115   \n",
       "3  0.935714  1.014286       False    0.0             0.0    10.669629   \n",
       "4  0.935714  1.014286       False    0.0             0.0     2.109411   \n",
       "\n",
       "   PrevWeekBgtHl1  PrevWeekSalesHl1  PrevWeekSalesHl2  PrevWeekSalesDiff  \n",
       "0             0.0               0.0               0.0                0.0  \n",
       "1             0.0               0.0               0.0                0.0  \n",
       "2             0.0               0.0               0.0                0.0  \n",
       "3             0.0               0.0               0.0                0.0  \n",
       "4             0.0               0.0               0.0                0.0  "
      ],
      "text/html": "<div>\n<style scoped>\n    .dataframe tbody tr th:only-of-type {\n        vertical-align: middle;\n    }\n\n    .dataframe tbody tr th {\n        vertical-align: top;\n    }\n\n    .dataframe thead th {\n        text-align: right;\n    }\n</style>\n<table border=\"1\" class=\"dataframe\">\n  <thead>\n    <tr style=\"text-align: right;\">\n      <th></th>\n      <th>SkuShort</th>\n      <th>ProductGroup</th>\n      <th>PrimaryPack</th>\n      <th>Country</th>\n      <th>Week</th>\n      <th>NumberWorkdays</th>\n      <th>AvgTemp</th>\n      <th>AvgRain</th>\n      <th>AvgSun</th>\n      <th>IsLockdown</th>\n      <th>PdtHl</th>\n      <th>PrevWeekPdtHl1</th>\n      <th>BgtHl</th>\n      <th>PrevWeekBgtHl1</th>\n      <th>PrevWeekSalesHl1</th>\n      <th>PrevWeekSalesHl2</th>\n      <th>PrevWeekSalesDiff</th>\n    </tr>\n  </thead>\n  <tbody>\n    <tr>\n      <th>0</th>\n      <td>1015</td>\n      <td>1015</td>\n      <td>1015</td>\n      <td>0</td>\n      <td>1</td>\n      <td>5</td>\n      <td>-1.164286</td>\n      <td>0.935714</td>\n      <td>1.014286</td>\n      <td>False</td>\n      <td>0.0</td>\n      <td>0.0</td>\n      <td>1637.344974</td>\n      <td>0.0</td>\n      <td>0.0</td>\n      <td>0.0</td>\n      <td>0.0</td>\n    </tr>\n    <tr>\n      <th>1</th>\n      <td>1016</td>\n      <td>1016</td>\n      <td>1016</td>\n      <td>0</td>\n      <td>1</td>\n      <td>5</td>\n      <td>-1.164286</td>\n      <td>0.935714</td>\n      <td>1.014286</td>\n      <td>False</td>\n      <td>0.0</td>\n      <td>0.0</td>\n      <td>293.344724</td>\n      <td>0.0</td>\n      <td>0.0</td>\n      <td>0.0</td>\n      <td>0.0</td>\n    </tr>\n    <tr>\n      <th>2</th>\n      <td>1022</td>\n      <td>1022</td>\n      <td>1022</td>\n      <td>0</td>\n      <td>1</td>\n      <td>5</td>\n      <td>-1.164286</td>\n      <td>0.935714</td>\n      <td>1.014286</td>\n      <td>False</td>\n      <td>0.0</td>\n      <td>0.0</td>\n      <td>59.144115</td>\n      <td>0.0</td>\n      <td>0.0</td>\n      <td>0.0</td>\n      <td>0.0</td>\n    </tr>\n    <tr>\n      <th>3</th>\n      <td>1026</td>\n      <td>1026</td>\n      <td>1026</td>\n      <td>0</td>\n      <td>1</td>\n      <td>5</td>\n      <td>-1.164286</td>\n      <td>0.935714</td>\n      <td>1.014286</td>\n      <td>False</td>\n      <td>0.0</td>\n      <td>0.0</td>\n      <td>10.669629</td>\n      <td>0.0</td>\n      <td>0.0</td>\n      <td>0.0</td>\n      <td>0.0</td>\n    </tr>\n    <tr>\n      <th>4</th>\n      <td>1027</td>\n      <td>1027</td>\n      <td>1027</td>\n      <td>0</td>\n      <td>1</td>\n      <td>5</td>\n      <td>-1.164286</td>\n      <td>0.935714</td>\n      <td>1.014286</td>\n      <td>False</td>\n      <td>0.0</td>\n      <td>0.0</td>\n      <td>2.109411</td>\n      <td>0.0</td>\n      <td>0.0</td>\n      <td>0.0</td>\n      <td>0.0</td>\n    </tr>\n  </tbody>\n</table>\n</div>"
     },
     "metadata": {},
     "execution_count": 143
    }
   ],
   "source": [
    "cols_drop = ['Year', 'SalesHl', 'OldPredSalesHl']\n",
    "#'SkuShort', 'ProductGroup', 'PrimaryPack', 'Country',\n",
    "\n",
    "y = pd.DataFrame(data.SalesHl).round(0).astype(int)\n",
    "X = data.drop(cols_drop, axis=1).fillna(0)\n",
    "\n",
    "X.IsLockdown = X.IsLockdown.astype('bool')\n",
    "X.SkuShort = X.SkuShort.astype('category')\n",
    "X.ProductGroup = X.SkuShort.astype('category')\n",
    "X.PrimaryPack = X.SkuShort.astype('category')\n",
    "X.Country = X.Country.astype('category').cat.codes\n",
    "X['PrevWeekSalesDiff'] = X.PrevWeekSalesHl1-X.PrevWeekSalesHl2\n",
    "\n",
    "#X = X.drop(['PrevWeekSalesHl1', 'PrevWeekSalesHl2'], axis=1)\n",
    "\n",
    "# X.PrevWeekSalesHl1 = X.PrevWeekSalesHl1.round(0).astype(int)\n",
    "# X.PrevWeekSalesHl2 = X.PrevWeekSalesHl2.round(0).astype(int)\n",
    "# X.BgtHl = X.BgtHl.round(0).astype(int)\n",
    "# X.PdtHl = X.PdtHl.round(0).astype(int)\n",
    "\n",
    "\n",
    "y_oldPred = pd.DataFrame(data.OldPredSalesHl).fillna(0).round(0).astype(int)\n",
    "\n",
    "#y.head()\n",
    "X.head()"
   ]
  },
  {
   "cell_type": "code",
   "execution_count": 144,
   "metadata": {},
   "outputs": [
    {
     "output_type": "execute_result",
     "data": {
      "text/plain": [
       "      SkuShort ProductGroup PrimaryPack  Country  Week  NumberWorkdays  \\\n",
       "10783     6515         6515        6515        0    11               5   \n",
       "17863     1096         1096        1096        0    30               5   \n",
       "43989    13638        13638       13638        1    50               5   \n",
       "10311     6515         6515        6515        0     6               5   \n",
       "6025     13438        13438       13438        0    15               4   \n",
       "\n",
       "         AvgTemp   AvgRain    AvgSun  IsLockdown        PdtHl  PrevWeekPdtHl1  \\\n",
       "10783   2.792857  2.050000  1.414286       False  2347.918956        3.577778   \n",
       "17863  23.871429  1.485714  9.150000       False     0.000000        0.000000   \n",
       "43989   2.767033  0.476923  0.665934        True     0.000000      125.566506   \n",
       "10311  -1.457143  0.650000  1.228571       False  1184.258242        4.111111   \n",
       "6025    9.614286  1.035714  3.835714       False     0.428571      183.844921   \n",
       "\n",
       "             BgtHl  PrevWeekBgtHl1  PrevWeekSalesHl1  PrevWeekSalesHl2  \\\n",
       "10783  3067.973863       25.030124           19.2000           13.7000   \n",
       "17863     0.000000        0.000000            3.2400            4.3200   \n",
       "43989     5.524795      183.388480          158.6376          140.8968   \n",
       "10311  3606.435097       25.091435           19.7000           17.2000   \n",
       "6025      0.000000      440.223300          320.5224          556.3800   \n",
       "\n",
       "       PrevWeekSalesDiff  \n",
       "10783             5.5000  \n",
       "17863            -1.0800  \n",
       "43989            17.7408  \n",
       "10311             2.5000  \n",
       "6025           -235.8576  "
      ],
      "text/html": "<div>\n<style scoped>\n    .dataframe tbody tr th:only-of-type {\n        vertical-align: middle;\n    }\n\n    .dataframe tbody tr th {\n        vertical-align: top;\n    }\n\n    .dataframe thead th {\n        text-align: right;\n    }\n</style>\n<table border=\"1\" class=\"dataframe\">\n  <thead>\n    <tr style=\"text-align: right;\">\n      <th></th>\n      <th>SkuShort</th>\n      <th>ProductGroup</th>\n      <th>PrimaryPack</th>\n      <th>Country</th>\n      <th>Week</th>\n      <th>NumberWorkdays</th>\n      <th>AvgTemp</th>\n      <th>AvgRain</th>\n      <th>AvgSun</th>\n      <th>IsLockdown</th>\n      <th>PdtHl</th>\n      <th>PrevWeekPdtHl1</th>\n      <th>BgtHl</th>\n      <th>PrevWeekBgtHl1</th>\n      <th>PrevWeekSalesHl1</th>\n      <th>PrevWeekSalesHl2</th>\n      <th>PrevWeekSalesDiff</th>\n    </tr>\n  </thead>\n  <tbody>\n    <tr>\n      <th>10783</th>\n      <td>6515</td>\n      <td>6515</td>\n      <td>6515</td>\n      <td>0</td>\n      <td>11</td>\n      <td>5</td>\n      <td>2.792857</td>\n      <td>2.050000</td>\n      <td>1.414286</td>\n      <td>False</td>\n      <td>2347.918956</td>\n      <td>3.577778</td>\n      <td>3067.973863</td>\n      <td>25.030124</td>\n      <td>19.2000</td>\n      <td>13.7000</td>\n      <td>5.5000</td>\n    </tr>\n    <tr>\n      <th>17863</th>\n      <td>1096</td>\n      <td>1096</td>\n      <td>1096</td>\n      <td>0</td>\n      <td>30</td>\n      <td>5</td>\n      <td>23.871429</td>\n      <td>1.485714</td>\n      <td>9.150000</td>\n      <td>False</td>\n      <td>0.000000</td>\n      <td>0.000000</td>\n      <td>0.000000</td>\n      <td>0.000000</td>\n      <td>3.2400</td>\n      <td>4.3200</td>\n      <td>-1.0800</td>\n    </tr>\n    <tr>\n      <th>43989</th>\n      <td>13638</td>\n      <td>13638</td>\n      <td>13638</td>\n      <td>1</td>\n      <td>50</td>\n      <td>5</td>\n      <td>2.767033</td>\n      <td>0.476923</td>\n      <td>0.665934</td>\n      <td>True</td>\n      <td>0.000000</td>\n      <td>125.566506</td>\n      <td>5.524795</td>\n      <td>183.388480</td>\n      <td>158.6376</td>\n      <td>140.8968</td>\n      <td>17.7408</td>\n    </tr>\n    <tr>\n      <th>10311</th>\n      <td>6515</td>\n      <td>6515</td>\n      <td>6515</td>\n      <td>0</td>\n      <td>6</td>\n      <td>5</td>\n      <td>-1.457143</td>\n      <td>0.650000</td>\n      <td>1.228571</td>\n      <td>False</td>\n      <td>1184.258242</td>\n      <td>4.111111</td>\n      <td>3606.435097</td>\n      <td>25.091435</td>\n      <td>19.7000</td>\n      <td>17.2000</td>\n      <td>2.5000</td>\n    </tr>\n    <tr>\n      <th>6025</th>\n      <td>13438</td>\n      <td>13438</td>\n      <td>13438</td>\n      <td>0</td>\n      <td>15</td>\n      <td>4</td>\n      <td>9.614286</td>\n      <td>1.035714</td>\n      <td>3.835714</td>\n      <td>False</td>\n      <td>0.428571</td>\n      <td>183.844921</td>\n      <td>0.000000</td>\n      <td>440.223300</td>\n      <td>320.5224</td>\n      <td>556.3800</td>\n      <td>-235.8576</td>\n    </tr>\n  </tbody>\n</table>\n</div>"
     },
     "metadata": {},
     "execution_count": 144
    }
   ],
   "source": [
    "X_train, X_test, y_train, y_test = train_test_split(X, y, test_size=0.2, random_state=42)\n",
    "\n",
    "X_train.head()"
   ]
  },
  {
   "cell_type": "code",
   "execution_count": 145,
   "metadata": {
    "tags": []
   },
   "outputs": [
    {
     "output_type": "stream",
     "name": "stdout",
     "text": [
      "0.7962158624414701\n{}\n"
     ]
    }
   ],
   "source": [
    "import numpy as np\n",
    "from sklearn import datasets, linear_model\n",
    "from sklearn.metrics import mean_squared_error, r2_score, explained_variance_score, max_error, mean_absolute_percentage_error\n",
    "\n",
    "from sklearn import ensemble, gaussian_process, isotonic, kernel_ridge, linear_model, neighbors, neural_network, svm, tree\n",
    "from sklearn.model_selection import GridSearchCV, RandomizedSearchCV\n",
    "from sklearn.experimental import enable_hist_gradient_boosting\n",
    "\n",
    "# Create linear regression object\n",
    "\n",
    "#NOT model = ensemble.AdaBoostRegressor()\n",
    "#model = ensemble.BaggingRegressor() # ON-TRADE: ,OFF-TRADE: 0.79 {'base_estimator': DecisionTreeRegressor(random_state=0), 'bootstrap': True, 'bootstrap_features': False, 'n_estimators': 200, 'oob_score': False, 'verbose': 1, 'warm_start': True}\n",
    "\n",
    "model = ensemble.ExtraTreesRegressor() #0.7962\n",
    "\n",
    "# model = ensemble.GradientBoostingRegressor()\n",
    "\n",
    "#model = ensemble.RandomForestRegressor(n_estimators=1000, n_jobs=6) # ON-TRADE: ,OFF-TRADE: 0.7933 {'bootstrap': True, 'criterion': 'mae', 'oob_score': True, 'warm_start': False}\n",
    "\n",
    "#NOT model = ensemble.StackingRegressor(estimators=[('lgbm', lgb.LGBMRegressor()),('hgb', ensemble.HistGradientBoostingRegressor())],final_estimator=ensemble.BaggingRegressor(), n_jobs=4, passthrough=False) \n",
    "#model = ensemble.VotingRegressor([('lgbm', lgb.LGBMRegressor(n_estimators=5000, learning_rate=0.005)), ('rf', ensemble.RandomForestRegressor(n_estimators=1000))]) # ON-TRADE: ,OFF-TRADE: 0.8143\n",
    "\n",
    "#model = ensemble.HistGradientBoostingRegressor(early_stopping=False) # ON-TRADE: ,OFF-TRADE: 0.7937 {'learning_rate': 0.01, 'loss': 'least_squares', 'max_iter': 1000, 'max_leaf_nodes': 70}\n",
    "\n",
    "#NOT model = gaussian_process.GaussianProcessRegressor()\n",
    "#NOT model = isotonic.IsotonicRegression()\n",
    "\n",
    "#NOT model = kernel_ridge.KernelRidge(alpha=1.0)# ON-TRADE: ,OFF-TRADE: 0.7827\n",
    "\n",
    "# #option CV\n",
    "#SLOW model = linear_model.LogisticRegression(max_iter=100)\n",
    "#model = linear_model.LinearRegression()# ON-TRADE: ,OFF-TRADE: 0.7875 {'copy_X': False, 'fit_intercept': True, 'normalize': False, 'positive': False}\n",
    "#model = linear_model.Ridge(max_iter=1000)# ON-TRADE: ,OFF-TRADE: 0.7876 {'alpha': 0.005, 'copy_X': False, 'fit_intercept': True, 'normalize': True, 'solver': 'sparse_cg'}\n",
    "#model = linear_model.SGDRegressor(max_iter=1500, early_stopping=False) # ON-TRADE: ,OFF-TRADE:  0.7819 {'alpha': 0.0001, 'average': True, 'epsilon': 0.1, 'eta0': 0.01, 'fit_intercept': True, 'l1_ratio': 0.15, 'learning_rate': 'invscaling', 'loss': 'huber', 'penalty': 'l2', 'power_t': 0.1, 'shuffle': True, 'verbose': False, 'warm_start': True}\n",
    "\n",
    "#model = linear_model.ElasticNet(max_iter=2000)# ON-TRADE: ,OFF-TRADE: 0.7875 {'alpha': 0.001, 'copy_X': False, 'fit_intercept': True, 'l1_ratio': 1, 'normalize': True, 'positive': False, 'precompute': False, 'selection': 'random', 'warm_start': True}\n",
    "#model = linear_model.Lars(n_nonzero_coefs=1000) # ON-TRADE: , OFF-TRADE: 0.7875 {'copy_X': True, 'fit_intercept': True, 'fit_path': True, 'jitter': False, 'normalize': False, 'precompute': False, 'verbose': True}\n",
    "#model = linear_model.LassoLars(max_iter=500) # ON-TRADE: , OFF-TRADE: 0.7875 {'alpha': 0.001, 'copy_X': True, 'fit_intercept': True, 'fit_path': True, 'jitter': False, 'normalize': True, 'positive': False, 'precompute': True, 'verbose': True}\n",
    "#model = linear_model.OrthogonalMatchingPursuit() # ON-TRADE: , OFF-TRADE: 0.7035 {'fit_intercept': True, 'normalize': True}\n",
    "#model = linear_model.ARDRegression(n_iter=500) # ON-TRADE: , OFF-TRADE: 0.7875 {'compute_score': True, 'copy_X': True, 'fit_intercept': True, 'normalize': False, 'verbose': True}\n",
    "#model = linear_model.BayesianRidge(n_iter=500) # ON-TRADE: , OFF-TRADE: 0.7875 {'compute_score': True, 'copy_X': True, 'fit_intercept': True, 'normalize': True, 'verbose': True}\n",
    "\n",
    "\n",
    "\n",
    "#model = linear_model.HuberRegressor(max_iter=500) # ON-TRADE: , OFF-TRADE: 0.7805 {'epsilon': 1.6, 'fit_intercept': True, 'warm_start': True}\n",
    "#model = linear_model.RANSACRegressor(max_trials=500) #O N-TRADE: , OFF-TRADE: 0.7225\n",
    "#model = linear_model.TheilSenRegressor(max_iter=500, n_jobs=-1) # ON-TRADE: , OFF-TRADE: 0.7582 {'copy_X': False, 'fit_intercept': True, 'verbose': True}\n",
    "\n",
    "#NOT model = linear_model.PoissonRegressor(max_iter=500)\n",
    "# model = linear_model.TweedieRegressor(max_iter=500) # ON-TRADE: , OFF-TRADE: 0.7871 {'alpha': 0.05, 'fit_intercept': False, 'link': 'auto', 'power': 0, 'warm_start': True}\n",
    "#NOT model = linear_model.GammaRegressor(max_iter=500) # ON-TRADE: ,OFF-TRADE:\n",
    "#NOT model = linear_model.PassiveAggressiveRegressor(random_state=0, fit_intercept=True) # ON-TRADE: , OFF-TRADE: 0.6938\n",
    "\n",
    "# model = neighbors.KNeighborsRegressor(n_neighbors=7, weights='uniform', leaf_size=30, n_jobs=-1) # ON-TRADE: , OFF-TRADE: 0.7941\n",
    "#NOT model = neighbors.RadiusNeighborsRegressor(radius=5.0, weights='distance')\n",
    "\n",
    "#NOT model = svm.LinearSVR() # ON-TRADE: , OFF-TRADE: 0.7049\n",
    "\n",
    "\n",
    "\n",
    "#model = neural_network.MLPRegressor(random_state=1, hidden_layer_sizes=60, max_iter=500, early_stopping=False) # ON-TRADE: , OFF-TRADE: 0.8059\n",
    "#{'activation': 'relu', 'learning_rate': 'constant', 'nesterovs_momentum': True, 'shuffle': False, 'solver': 'adam', 'verbose': True, 'warm_start': True}\n",
    "\n",
    "#model = lgb.LGBMRegressor(n_estimators=5000, learning_rate=0.005) # ON-TRADE: , OFF-TRADE: 0.8140\n",
    "\n",
    "\n",
    "param_grid = dict(criterion=['mse','mae'])\n",
    "#alpha=[1, 0.5, 0.1, 0.05, 0.001, 0.0005, 0.0001],fit_intercept=[True, False], verbose=[True, False], normalize=[True, False], precompute=[True, False], copy_X=[True, False], fit_path=[True, False], positive=[True, False], jitter=[True, False]\n",
    "clf = GridSearchCV(model, param_grid, n_jobs=1) #, random_state=0\n",
    "search = clf.fit(X_train, y_train.values.ravel())\n",
    "#print(search.cv_results_)\n",
    "print(search.best_score_)\n",
    "print(search.best_params_)\n",
    "\n",
    "\n",
    "\n",
    "# #BEST \n",
    "# #ON-TRADE: 0.9745, 5636.8731\n",
    "# #OFF-TRADE: 0.8045, 14567.9493, without sku: (0.7934, 14149.3662)\n",
    "# #model = ensemble.HistGradientBoostingRegressor(random_state=1, loss='least_squares', learning_rate=0.05, max_iter=350, max_leaf_nodes=70, early_stopping=False)\n",
    "\n",
    "# # Train the model using the training sets\n",
    "# model.fit(X_train, y_train.values.ravel())\n",
    "\n",
    "# # Make predictions using the testing set\n",
    "# y_pred = model.predict(X_test)\n",
    "# y_pred[y_pred < 0] = 0\n",
    "\n",
    "# # # The mean squared error\n",
    "# # print('Mean squared error: %.4f'% mean_squared_error(y_test, y_pred))\n",
    "\n",
    "# print(DATASET_NAME)\n",
    "# # The coefficient of determination: 1 is perfect prediction\n",
    "# print('Coefficient of determination: %.4f'% r2_score(y_test, y_pred))\n",
    "\n",
    "# # #Best possible score is 1.0, lower values are worse.\n",
    "# # print('Explained variance regression: %.4f'% explained_variance_score(y_test, y_pred))\n",
    "\n",
    "# #max_error metric calculates the maximum residual error.\n",
    "# print('Maximum residual error: %.4f'% max_error(y_test, y_pred))\n",
    "\n",
    "# # #Mean absolute percentage error regression loss.\n",
    "# # print('Mean absolute percentage error regression loss: %.4f'% mean_absolute_percentage_error(y_test, y_pred))\n",
    "\n",
    "# print('Old Coefficient of determination: %.4f'% r2_score(y, y_oldPred))\n",
    "# print('Old Maximum residual error: %.4f'% max_error(y, y_oldPred))\n",
    "\n",
    "# # print(f'The number of iterations as selected by early stopping: {model.n_iter_}')\n",
    "# # print(f'The scores at each iteration on the training data: {model.train_score_}')\n",
    "# # print(f'The scores at each iteration on the held-out validation data: {model.validation_score_}')\n",
    "# # print(f'Boolean mask for the categorical features: {model.is_categorical_}')\n",
    "\n"
   ]
  },
  {
   "cell_type": "markdown",
   "metadata": {},
   "source": [
    "## Model analysis"
   ]
  },
  {
   "cell_type": "code",
   "execution_count": 146,
   "metadata": {},
   "outputs": [],
   "source": [
    "# from skater.core.explanations import Interpretation\n",
    "# from skater.model import InMemoryModel\n",
    "\n",
    "# feature_names = X_train.columns.tolist()\n",
    "# X_train_numpy = X_train[:500].to_numpy()\n",
    "\n",
    "# # wrap our base model with InMemoryModel instance\n",
    "# annotated_model = InMemoryModel(\n",
    "#     model.predict, \n",
    "#     examples = X_train_numpy, \n",
    "#     model_type = 'regressor'\n",
    "# )\n",
    "\n",
    "# interpreter = Interpretation(X_train_numpy, feature_names=feature_names)\n"
   ]
  },
  {
   "cell_type": "code",
   "execution_count": 147,
   "metadata": {},
   "outputs": [],
   "source": [
    "#interpreter.feature_importance.plot_feature_importance(annotated_model, progressbar=False)"
   ]
  },
  {
   "cell_type": "code",
   "execution_count": 148,
   "metadata": {},
   "outputs": [],
   "source": [
    "# interpreter.partial_dependence.plot_partial_dependence(\n",
    "#     feature_names, annotated_model, grid_resolution=20, progressbar=False\n",
    "# )"
   ]
  },
  {
   "cell_type": "code",
   "execution_count": 149,
   "metadata": {},
   "outputs": [],
   "source": [
    "# from skater.core.local_interpretation.lime.lime_tabular import LimeTabularExplainer\n",
    "\n",
    "# # create an explainer\n",
    "# explainer = LimeTabularExplainer(X_train_numpy, feature_names=feature_names, mode=\"regression\")\n",
    "\n",
    "# # explain something\n",
    "# explanation = explainer.explain_instance(X_train_numpy[5], annotated_model)\n",
    "\n",
    "# # show the explanation\n",
    "# explanation.show_in_notebook()"
   ]
  },
  {
   "cell_type": "code",
   "execution_count": 150,
   "metadata": {},
   "outputs": [],
   "source": [
    "# import shap\n",
    "# #shap.initjs()\n",
    "\n",
    "# X100 = shap.utils.sample(X, 100)\n",
    "\n",
    "# explainer = shap.Explainer(model)\n",
    "# shap_values = explainer(X100)\n",
    "\n",
    "# shap.plots.waterfall(shap_values[0])"
   ]
  },
  {
   "cell_type": "code",
   "execution_count": 151,
   "metadata": {},
   "outputs": [],
   "source": [
    "# shap.plots.force(shap_values[0])"
   ]
  },
  {
   "cell_type": "code",
   "execution_count": 152,
   "metadata": {},
   "outputs": [],
   "source": [
    "# shap.plots.force(shap_values)"
   ]
  },
  {
   "cell_type": "code",
   "execution_count": 153,
   "metadata": {},
   "outputs": [],
   "source": [
    "# shap.plots.scatter(shap_values, color=shap_values)"
   ]
  },
  {
   "cell_type": "code",
   "execution_count": 154,
   "metadata": {},
   "outputs": [],
   "source": [
    "# shap.plots.bar(shap_values)"
   ]
  },
  {
   "cell_type": "code",
   "execution_count": 155,
   "metadata": {},
   "outputs": [],
   "source": [
    "# shap.plots.beeswarm(shap_values)"
   ]
  },
  {
   "cell_type": "markdown",
   "metadata": {},
   "source": [
    "## Save Result"
   ]
  },
  {
   "cell_type": "code",
   "execution_count": 156,
   "metadata": {},
   "outputs": [
    {
     "output_type": "error",
     "ename": "NameError",
     "evalue": "name 'y_pred' is not defined",
     "traceback": [
      "\u001b[1;31m---------------------------------------------------------------------------\u001b[0m",
      "\u001b[1;31mNameError\u001b[0m                                 Traceback (most recent call last)",
      "\u001b[1;32m<ipython-input-156-fb5a6df3bfee>\u001b[0m in \u001b[0;36m<module>\u001b[1;34m\u001b[0m\n\u001b[0;32m      1\u001b[0m \u001b[0mresult\u001b[0m \u001b[1;33m=\u001b[0m \u001b[0mX_test\u001b[0m\u001b[1;33m.\u001b[0m\u001b[0mcopy\u001b[0m\u001b[1;33m(\u001b[0m\u001b[0mdeep\u001b[0m\u001b[1;33m=\u001b[0m\u001b[1;32mFalse\u001b[0m\u001b[1;33m)\u001b[0m\u001b[1;33m\u001b[0m\u001b[1;33m\u001b[0m\u001b[0m\n\u001b[0;32m      2\u001b[0m \u001b[0mresult\u001b[0m\u001b[1;33m[\u001b[0m\u001b[1;34m\"RealSalesHl\"\u001b[0m\u001b[1;33m]\u001b[0m \u001b[1;33m=\u001b[0m \u001b[0my_test\u001b[0m\u001b[1;33m.\u001b[0m\u001b[0mcopy\u001b[0m\u001b[1;33m(\u001b[0m\u001b[0mdeep\u001b[0m\u001b[1;33m=\u001b[0m\u001b[1;32mFalse\u001b[0m\u001b[1;33m)\u001b[0m\u001b[1;33m\u001b[0m\u001b[1;33m\u001b[0m\u001b[0m\n\u001b[1;32m----> 3\u001b[1;33m \u001b[0mresult\u001b[0m\u001b[1;33m[\u001b[0m\u001b[1;34m\"PredictSalesHl\"\u001b[0m\u001b[1;33m]\u001b[0m \u001b[1;33m=\u001b[0m \u001b[0my_pred\u001b[0m\u001b[1;33m\u001b[0m\u001b[1;33m\u001b[0m\u001b[0m\n\u001b[0m\u001b[0;32m      4\u001b[0m \u001b[1;33m\u001b[0m\u001b[0m\n\u001b[0;32m      5\u001b[0m \u001b[0mdir_path\u001b[0m \u001b[1;33m=\u001b[0m \u001b[0mos\u001b[0m\u001b[1;33m.\u001b[0m\u001b[0mpath\u001b[0m\u001b[1;33m.\u001b[0m\u001b[0mdirname\u001b[0m\u001b[1;33m(\u001b[0m\u001b[0mRESULT_CSV_PATH\u001b[0m\u001b[1;33m)\u001b[0m\u001b[1;33m\u001b[0m\u001b[1;33m\u001b[0m\u001b[0m\n",
      "\u001b[1;31mNameError\u001b[0m: name 'y_pred' is not defined"
     ]
    }
   ],
   "source": [
    "result = X_test.copy(deep=False)\n",
    "result[\"RealSalesHl\"] = y_test.copy(deep=False)\n",
    "result[\"PredictSalesHl\"] = y_pred\n",
    "\n",
    "dir_path = os.path.dirname(RESULT_CSV_PATH)\n",
    "if (not os.path.isdir(dir_path)):\n",
    "    os.mkdir(dir_path)\n",
    " \n",
    "result.to_csv(RESULT_CSV_PATH, index=False)\n",
    "result.to_excel(RESULT_EXCEL_PATH, index=False)"
   ]
  },
  {
   "cell_type": "markdown",
   "metadata": {},
   "source": [
    "## Save model"
   ]
  },
  {
   "cell_type": "code",
   "execution_count": null,
   "metadata": {},
   "outputs": [],
   "source": [
    "import joblib\n",
    "\n",
    "dir_path = os.path.dirname(MODEL_PATH)\n",
    "if (not os.path.isdir(dir_path)):\n",
    "    os.mkdir(dir_path)\n",
    "\n",
    "joblib.dump(model, MODEL_PATH, compress=True)"
   ]
  },
  {
   "cell_type": "markdown",
   "metadata": {},
   "source": [
    "## Use model"
   ]
  },
  {
   "cell_type": "code",
   "execution_count": null,
   "metadata": {},
   "outputs": [],
   "source": [
    "# import joblib\n",
    "# import os\n",
    "# import numpy as np\n",
    "\n",
    "# file = open(MODEL_PATH, 'rb')\n",
    "\n",
    "# model = joblib.load(file)\n",
    "\n",
    "# SkuShort = 2605\n",
    "# Week = 23\n",
    "# NumberWorkdays = 5\n",
    "# AvgTemp = 15.892857142857142\n",
    "# AvgRain = 3.5000000000000004\n",
    "# AvgSun = 6.735714285714286\n",
    "# IsLockdown = 0\n",
    "# PdtHl = -1.0\n",
    "# PrevWeekPdtHl1 = -1.0\n",
    "# BgtHl = 6665\n",
    "# PrevWeekBgtHl1 = 6665.949490847161\n",
    "# PrevWeekSalesHl1 = 5020\n",
    "# PrevWeekSalesHl2 = 5038\n",
    "# SalesHl = 5386.5\n",
    "\n",
    "# x = np.array([[SkuShort, Week,NumberWorkdays, AvgTemp, AvgRain, AvgSun, IsLockdown, PdtHl, PrevWeekPdtHl1, BgtHl, PrevWeekBgtHl1, PrevWeekSalesHl1, PrevWeekSalesHl2]])\n",
    "\n",
    "# y_pred = model.predict(x)\n",
    "# result = y_pred[0]\n",
    "\n",
    "# def get_percentage_diff(previous, current):\n",
    "#     return 1 - (abs(previous - current)/max(previous, current))\n",
    "\n",
    "# print('Forecast sales: %.4f hl'% result)\n",
    "# print('Coefficient of determination: %.4f'% get_percentage_diff(SalesHl, result))\n",
    "\n",
    "#full with sku = 0.7678\n",
    "#full = 0.7363"
   ]
  }
 ],
 "metadata": {
  "kernelspec": {
   "name": "python390jvsc74a57bd0ac59ebe37160ed0dfa835113d9b8498d9f09ceb179beaac4002f036b9467c963",
   "display_name": "Python 3.9.0 64-bit"
  },
  "language_info": {
   "name": "python",
   "version": "3.9.0"
  },
  "metadata": {
   "interpreter": {
    "hash": "ac59ebe37160ed0dfa835113d9b8498d9f09ceb179beaac4002f036b9467c963"
   }
  },
  "orig_nbformat": 2
 },
 "nbformat": 4,
 "nbformat_minor": 2
}