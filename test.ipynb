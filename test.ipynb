{
 "metadata": {
  "language_info": {
   "codemirror_mode": {
    "name": "ipython",
    "version": 3
   },
   "file_extension": ".py",
   "mimetype": "text/x-python",
   "name": "python",
   "nbconvert_exporter": "python",
   "pygments_lexer": "ipython3",
   "version": "3.9.1"
  },
  "orig_nbformat": 4,
  "kernelspec": {
   "name": "python3",
   "display_name": "Python 3.9.1 64-bit"
  },
  "interpreter": {
   "hash": "ac59ebe37160ed0dfa835113d9b8498d9f09ceb179beaac4002f036b9467c963"
  }
 },
 "nbformat": 4,
 "nbformat_minor": 2,
 "cells": [
  {
   "cell_type": "code",
   "execution_count": 44,
   "metadata": {},
   "outputs": [],
   "source": [
    "import pandas as pd\n",
    "import numpy as np\n",
    "import os\n",
    "import datetime\n",
    "\n",
    "from sklearn.experimental import enable_hist_gradient_boosting, enable_iterative_imputer\n",
    "from sklearn import datasets, linear_model, ensemble, gaussian_process, isotonic, kernel_ridge, neighbors, neural_network, svm, tree\n",
    "from sklearn.metrics import mean_squared_error, r2_score, explained_variance_score, max_error, mean_absolute_percentage_error, mean_absolute_error\n",
    "from sklearn.model_selection import GridSearchCV, RandomizedSearchCV, KFold, StratifiedKFold,train_test_split\n",
    "from sklearn.cross_decomposition import PLSRegression\n",
    "from sklearn.compose import TransformedTargetRegressor, ColumnTransformer\n",
    "from sklearn.impute import SimpleImputer, IterativeImputer, KNNImputer\n",
    "from sklearn.preprocessing import MinMaxScaler, MaxAbsScaler, FunctionTransformer,  StandardScaler, LabelEncoder, LabelBinarizer, OrdinalEncoder, RobustScaler\n",
    "from sklearn.inspection import permutation_importance\n",
    "import joblib\n",
    "\n",
    "import lightgbm  \n",
    "import xgboost \n",
    "import catboost\n",
    "# from keras.wrappers.scikit_learn import KerasRegressor\n",
    "# from keras.models import Sequential\n",
    "# from keras.layers import Dense\n",
    "import optuna\n",
    "\n",
    "# visualization lib\n",
    "import matplotlib.pyplot as plt\n",
    "import seaborn as sns\n",
    "from rfpimp import permutation_importances, plot_importances, plot_corr_heatmap\n",
    "# import shap\n",
    "import eli5\n",
    "from eli5.sklearn import PermutationImportance\n",
    "from pandas_profiling import ProfileReport\n",
    "\n",
    "from helper import absolute_score, show_pred, show_feature_importances, reduce_mem_usage"
   ]
  },
  {
   "cell_type": "code",
   "execution_count": 45,
   "metadata": {},
   "outputs": [],
   "source": [
    "import warnings\n",
    "warnings.filterwarnings(\"ignore\")\n",
    "\n",
    "pd.set_option('display.max_colwidth', -1)\n",
    "pd.set_option('display.max_columns', None)"
   ]
  },
  {
   "cell_type": "code",
   "execution_count": 46,
   "metadata": {},
   "outputs": [],
   "source": [
    "DATASET_NAME = 'on-trade'\n",
    "\n",
    "DATA_PATH = f'./data/{DATASET_NAME}_data.csv'\n",
    "\n",
    "MODEL_PATH = f'./models/{DATASET_NAME}_model.joblib'\n",
    "SCALER_PATH = f'./models/{DATASET_NAME}_scaler.joblib'\n",
    "IMPUTER_PATH = f'./models/{DATASET_NAME}_imputer.joblib'\n",
    "SKU_ENCODER_PATH = f'./models/{DATASET_NAME}_sku_encoder.joblib'\n",
    "BRAND_ENCODER_PATH = f'./models/{DATASET_NAME}_brand_encoder.joblib'\n",
    "\n",
    "RESULT_CSV_PATH = f'./train_results/{DATASET_NAME}_train_result.csv'\n",
    "RESULT_EXCEL_PATH = f'./train_results/{DATASET_NAME}_train_result.xlsx'\n",
    "\n",
    "MAX_N_JOBS = 8"
   ]
  },
  {
   "cell_type": "code",
   "execution_count": 63,
   "metadata": {},
   "outputs": [
    {
     "output_type": "execute_result",
     "data": {
      "text/plain": [
       "  SkuShort            Brand Country  Year  Week  NumberWorkdays  \\\n",
       "0  01000    PILSNER URQUELL  CZ      2016  1     5                \n",
       "1  01000    PILSNER URQUELL  SK      2016  1     4                \n",
       "2  01002    PILSNER URQUELL  CZ      2016  1     5                \n",
       "3  01002    PILSNER URQUELL  SK      2016  1     4                \n",
       "4  01003    PILSNER URQUELL  CZ      2016  1     5                \n",
       "\n",
       "   PrevNumberWorkdays  NextNumberWorkdays   AvgTemp   AvgRain    AvgSun  \\\n",
       "0 NaN                  5.0                -1.164286  0.935714  1.014286   \n",
       "1 NaN                  4.0                -1.164286  0.935714  1.014286   \n",
       "2 NaN                  5.0                -1.164286  0.935714  1.014286   \n",
       "3 NaN                  4.0                -1.164286  0.935714  1.014286   \n",
       "4 NaN                  5.0                -1.164286  0.935714  1.014286   \n",
       "\n",
       "   IsLockdown  PdtHl  PrevWeekPdtHl1        BgtHl  SalesHl  PrevWeekSalesHl1  \\\n",
       "0  False      NaN    NaN              1901.850666  2057.73 NaN                 \n",
       "1  False      NaN    NaN              227.634836   240.00  NaN                 \n",
       "2  False      NaN    NaN              472.938882   394.50  NaN                 \n",
       "3  False      NaN    NaN              71.895601    49.80   NaN                 \n",
       "4  False      NaN    NaN              3010.971784  2535.60 NaN                 \n",
       "\n",
       "   PrevWeekSalesHl2  PrevYearSalesHl1  PrevYearSalesHl2  OldPredSalesHl  \n",
       "0 NaN               NaN               NaN                1902.0890       \n",
       "1 NaN               NaN               NaN                155.0000        \n",
       "2 NaN               NaN               NaN                375.6472        \n",
       "3 NaN               NaN               NaN                29.9165         \n",
       "4 NaN               NaN               NaN                2311.0085       "
      ],
      "text/html": "<div>\n<style scoped>\n    .dataframe tbody tr th:only-of-type {\n        vertical-align: middle;\n    }\n\n    .dataframe tbody tr th {\n        vertical-align: top;\n    }\n\n    .dataframe thead th {\n        text-align: right;\n    }\n</style>\n<table border=\"1\" class=\"dataframe\">\n  <thead>\n    <tr style=\"text-align: right;\">\n      <th></th>\n      <th>SkuShort</th>\n      <th>Brand</th>\n      <th>Country</th>\n      <th>Year</th>\n      <th>Week</th>\n      <th>NumberWorkdays</th>\n      <th>PrevNumberWorkdays</th>\n      <th>NextNumberWorkdays</th>\n      <th>AvgTemp</th>\n      <th>AvgRain</th>\n      <th>AvgSun</th>\n      <th>IsLockdown</th>\n      <th>PdtHl</th>\n      <th>PrevWeekPdtHl1</th>\n      <th>BgtHl</th>\n      <th>SalesHl</th>\n      <th>PrevWeekSalesHl1</th>\n      <th>PrevWeekSalesHl2</th>\n      <th>PrevYearSalesHl1</th>\n      <th>PrevYearSalesHl2</th>\n      <th>OldPredSalesHl</th>\n    </tr>\n  </thead>\n  <tbody>\n    <tr>\n      <th>0</th>\n      <td>01000</td>\n      <td>PILSNER URQUELL</td>\n      <td>CZ</td>\n      <td>2016</td>\n      <td>1</td>\n      <td>5</td>\n      <td>NaN</td>\n      <td>5.0</td>\n      <td>-1.164286</td>\n      <td>0.935714</td>\n      <td>1.014286</td>\n      <td>False</td>\n      <td>NaN</td>\n      <td>NaN</td>\n      <td>1901.850666</td>\n      <td>2057.73</td>\n      <td>NaN</td>\n      <td>NaN</td>\n      <td>NaN</td>\n      <td>NaN</td>\n      <td>1902.0890</td>\n    </tr>\n    <tr>\n      <th>1</th>\n      <td>01000</td>\n      <td>PILSNER URQUELL</td>\n      <td>SK</td>\n      <td>2016</td>\n      <td>1</td>\n      <td>4</td>\n      <td>NaN</td>\n      <td>4.0</td>\n      <td>-1.164286</td>\n      <td>0.935714</td>\n      <td>1.014286</td>\n      <td>False</td>\n      <td>NaN</td>\n      <td>NaN</td>\n      <td>227.634836</td>\n      <td>240.00</td>\n      <td>NaN</td>\n      <td>NaN</td>\n      <td>NaN</td>\n      <td>NaN</td>\n      <td>155.0000</td>\n    </tr>\n    <tr>\n      <th>2</th>\n      <td>01002</td>\n      <td>PILSNER URQUELL</td>\n      <td>CZ</td>\n      <td>2016</td>\n      <td>1</td>\n      <td>5</td>\n      <td>NaN</td>\n      <td>5.0</td>\n      <td>-1.164286</td>\n      <td>0.935714</td>\n      <td>1.014286</td>\n      <td>False</td>\n      <td>NaN</td>\n      <td>NaN</td>\n      <td>472.938882</td>\n      <td>394.50</td>\n      <td>NaN</td>\n      <td>NaN</td>\n      <td>NaN</td>\n      <td>NaN</td>\n      <td>375.6472</td>\n    </tr>\n    <tr>\n      <th>3</th>\n      <td>01002</td>\n      <td>PILSNER URQUELL</td>\n      <td>SK</td>\n      <td>2016</td>\n      <td>1</td>\n      <td>4</td>\n      <td>NaN</td>\n      <td>4.0</td>\n      <td>-1.164286</td>\n      <td>0.935714</td>\n      <td>1.014286</td>\n      <td>False</td>\n      <td>NaN</td>\n      <td>NaN</td>\n      <td>71.895601</td>\n      <td>49.80</td>\n      <td>NaN</td>\n      <td>NaN</td>\n      <td>NaN</td>\n      <td>NaN</td>\n      <td>29.9165</td>\n    </tr>\n    <tr>\n      <th>4</th>\n      <td>01003</td>\n      <td>PILSNER URQUELL</td>\n      <td>CZ</td>\n      <td>2016</td>\n      <td>1</td>\n      <td>5</td>\n      <td>NaN</td>\n      <td>5.0</td>\n      <td>-1.164286</td>\n      <td>0.935714</td>\n      <td>1.014286</td>\n      <td>False</td>\n      <td>NaN</td>\n      <td>NaN</td>\n      <td>3010.971784</td>\n      <td>2535.60</td>\n      <td>NaN</td>\n      <td>NaN</td>\n      <td>NaN</td>\n      <td>NaN</td>\n      <td>2311.0085</td>\n    </tr>\n  </tbody>\n</table>\n</div>"
     },
     "metadata": {},
     "execution_count": 63
    }
   ],
   "source": [
    "import pyodbc\n",
    "\n",
    "server = 'czpls242\\prod2' \n",
    "database = 'FC_Tool' \n",
    "username = 'Admin_FC_Tool' \n",
    "password = 'tw44aa2T'  \n",
    "cnxn = pyodbc.connect('DRIVER={SQL Server};SERVER='+server+';DATABASE='+database+';UID='+username+';PWD='+ password) \n",
    "\n",
    "query1='EXEC [dbo].[ML_Table_extension_data] @Country={0}, @FromYear={1}, @FromWeek={2}, @ToYear= {3}, @ToWeek={4}, @Market=\"{5}\"'.format('NULL', 2016, 1, 2021, 15, DATASET_NAME.upper())\n",
    "\n",
    "\n",
    "data = pd.read_sql(query1, cnxn)\n",
    "\n",
    "data.head()"
   ]
  },
  {
   "cell_type": "code",
   "execution_count": 53,
   "metadata": {},
   "outputs": [
    {
     "output_type": "stream",
     "name": "stdout",
     "text": [
      "<class 'pandas.core.frame.DataFrame'>\nRangeIndex: 54652 entries, 0 to 54651\nData columns (total 21 columns):\n #   Column              Non-Null Count  Dtype  \n---  ------              --------------  -----  \n 0   SkuShort            54652 non-null  object \n 1   Brand               54652 non-null  object \n 2   Country             54652 non-null  object \n 3   Year                54652 non-null  int64  \n 4   Week                54652 non-null  int64  \n 5   NumberWorkdays      54652 non-null  int64  \n 6   PrevNumberWorkdays  54512 non-null  float64\n 7   NextNumberWorkdays  48793 non-null  float64\n 8   AvgTemp             54652 non-null  float64\n 9   AvgRain             54652 non-null  float64\n 10  AvgSun              54652 non-null  float64\n 11  IsLockdown          54652 non-null  bool   \n 12  PdtHl               33476 non-null  float64\n 13  PrevWeekPdtHl1      33087 non-null  float64\n 14  BgtHl               47073 non-null  float64\n 15  SalesHl             47202 non-null  float64\n 16  PrevWeekSalesHl1    46682 non-null  float64\n 17  PrevWeekSalesHl2    46323 non-null  float64\n 18  PrevYearSalesHl1    36331 non-null  float64\n 19  PrevYearSalesHl2    25920 non-null  float64\n 20  OldPredSalesHl      45689 non-null  float64\ndtypes: bool(1), float64(14), int64(3), object(3)\nmemory usage: 8.4+ MB\n"
     ]
    }
   ],
   "source": [
    "data.info()"
   ]
  },
  {
   "cell_type": "code",
   "execution_count": null,
   "metadata": {},
   "outputs": [],
   "source": []
  }
 ]
}